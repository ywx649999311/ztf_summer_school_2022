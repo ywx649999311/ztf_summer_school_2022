{
 "cells": [
  {
   "cell_type": "markdown",
   "metadata": {
    "slideshow": {
     "slide_type": "slide"
    }
   },
   "source": [
    "# Day 3: ZTF Summer School\n",
    "\n",
    "### Michael Coughlin <cough052@umn.edu>\n",
    "\n",
    "\n",
    "Based on notebooks available here: https://github.com/markjay4k/fourier-transform; and with contributions totally ripped off from and Gautham Narayan (UIUC)"
   ]
  },
  {
   "cell_type": "markdown",
   "metadata": {
    "slideshow": {
     "slide_type": "slide"
    }
   },
   "source": [
    "### Back on day 1, I claimed that we only ever measured three things in astrophysics\n",
    "1. Angular separations \n",
    "2. Energy differences\n",
    "3. Time differences"
   ]
  },
  {
   "cell_type": "markdown",
   "metadata": {
    "slideshow": {
     "slide_type": "slide"
    }
   },
   "source": [
    "## What is a time-series?\n",
    "\n",
    "We observe a source not just once, but often have several repeated observations\n",
    "\n",
    "# $$ (t_1, m_1), (t_2, m_2), ... , (t_N, m_n) $$\n",
    "\n",
    "A **time-series** is any sequene of observation such that the distribution of $m_k$ depends on $m_{k-1}, m_{k-2}...$.\n",
    "Time is an **exogeneous** (outside the model) variable that is **directional** - measurements only depend on the past.\n",
    "This is a statement of **causality**. \n",
    "\n",
    "Applies to astronomical measurements, your brain's electrical activity, the stock market, number of infected people...\n",
    "\n",
    "These observations are typically not uniformly sampled - nor can they be from Earth even in principle (rotation, revolution). \n",
    "\n",
    "Virtually all statistical methods assume uniform sampling.  \n",
    "\n"
   ]
  },
  {
   "cell_type": "markdown",
   "metadata": {
    "slideshow": {
     "slide_type": "slide"
    }
   },
   "source": [
    "## Why should you care?\n",
    "\n",
    "Everything changes.\n",
    "\n",
    "<table>\n",
    "    <tr>\n",
    "        <td><img src=\"figures/transient_sky.jpg\" width=100%></td>\n",
    "    </tr>\n",
    "</table>\n",
    "\n",
    "credit: Francisco Forster (ALeRCE broker team)"
   ]
  },
  {
   "cell_type": "markdown",
   "metadata": {
    "slideshow": {
     "slide_type": "slide"
    }
   },
   "source": [
    "# What statistical questions can you ask of a time-series?\n",
    "\n",
    "\n",
    "<table>\n",
    "    <tr>\n",
    "        <td><img src=\"figures/cow.png\" width=100%></td>\n",
    "    </tr>\n",
    "</table>\n",
    "\n",
    "## What jumps out at you? Speculate as to why. How might you model this?"
   ]
  },
  {
   "cell_type": "markdown",
   "metadata": {
    "slideshow": {
     "slide_type": "slide"
    }
   },
   "source": [
    "What you are doing is a combination of **trend detection**, **forecasting**, and **period finding** "
   ]
  },
  {
   "cell_type": "markdown",
   "metadata": {
    "slideshow": {
     "slide_type": "slide"
    }
   },
   "source": [
    "# In-class Exercise: What statistical questions can you ask of a time-series\n",
    "\n",
    "\n",
    "<table>\n",
    "    <tr>\n",
    "        <td><img src=\"figures/tsunami.jpg\" width=100%></td>\n",
    "    </tr>\n",
    "</table>\n",
    "\n",
    "## When did the earthquake begin and end? When did the main shocks of the Boxing Day Tsunami happen? How far apart are they?"
   ]
  },
  {
   "cell_type": "markdown",
   "metadata": {
    "slideshow": {
     "slide_type": "slide"
    }
   },
   "source": [
    "What you are doing is a combination of **event finding** and **change point detection**. "
   ]
  },
  {
   "cell_type": "markdown",
   "metadata": {
    "slideshow": {
     "slide_type": "slide"
    }
   },
   "source": [
    "## What statistical questions can you ask of a time-series\n",
    "\n",
    "1. Trend detection\n",
    "2. Periodicity detection\n",
    "3. Event detection\n",
    "4. Point of change detection\n",
    "5. Forecasting\n",
    "\n",
    "All of which are linked to each other. Note that none of these datasets are astronomical."
   ]
  },
  {
   "cell_type": "markdown",
   "metadata": {
    "slideshow": {
     "slide_type": "slide"
    }
   },
   "source": [
    "## You've already seen datasets with periodic behavior in astrophysics.\n",
    "\n",
    "<img src=\"figures/flare.png\" style=\"float: left; width: 30%; margin-right: 1%;\"> <img src=\"figures/cepheid.png\" style=\"float: left; width: 30%; margin-right: 1%;\"> <img src=\"figures/eclipsing.png\" style=\"float: left; width: 30%; margin-right: 1%; margin-bottom: 0.5em;\">"
   ]
  },
  {
   "cell_type": "markdown",
   "metadata": {
    "collapsed": true
   },
   "source": [
    "# Fourier Series and Fourier Transform"
   ]
  },
  {
   "cell_type": "markdown",
   "metadata": {},
   "source": [
    "We can approximate a periodic function of period P to arbitrary accuracy by adding sine and cosine terms. This process is known as a Fourier Series, computed as\n",
    "\n",
    "$$\n",
    "f(x) = \\frac{a_0}{2} + \\sum_{n=1}^{\\infty} a_n \\cos(nx) + b_n \\sin(nx)\n",
    "$$\n",
    "\n",
    "### Let's look at the square wave centered at $x=0$"
   ]
  },
  {
   "cell_type": "code",
   "execution_count": null,
   "metadata": {},
   "outputs": [],
   "source": [
    "%matplotlib inline\n",
    "%config InlineBackend.figure_format = 'svg'\n",
    "import numpy as np\n",
    "import scipy.signal as signal\n",
    "import matplotlib.pyplot as plt\n",
    "pi = np.pi\n",
    "x = np.linspace(-3*pi, 3*pi, 1000)"
   ]
  },
  {
   "cell_type": "code",
   "execution_count": null,
   "metadata": {},
   "outputs": [],
   "source": [
    "plt.axhline(0, color='gray', lw=1)\n",
    "plt.plot(x, 0.5 + 0.5 * signal.square(x + pi/2), lw=1.5, \n",
    "         label=r'$f(x)=\\frac{1}{2} + \\sum_{n=1,3,5\\ldots}^{\\infty}a_n \\cos(nx)$')\n",
    "plt.yticks([-1, 0, 1, 2], ['$-1$', '$0$', '$1$', '$2$'])\n",
    "plt.xticks([-3*pi, -2*pi, -1*pi, 0, pi, 2*pi, 3*pi], ['$-3\\pi$', '$-2\\pi$', '$-\\pi$', '$0$', '$\\pi$', '$2\\pi$', '$3\\pi$'])\n",
    "plt.xlim(-3*pi, 3*pi)\n",
    "plt.ylim(-0.5, 2)\n",
    "plt.legend(fontsize=16, fancybox=True, framealpha=0.3, loc='best')\n",
    "plt.rcParams['figure.figsize'] = (11, 4)\n",
    "plt.rcParams.update({'font.size': 16})\n",
    "plt.title('Fourier Series of a Square Wave', fontsize=14)\n",
    "plt.xlabel('$x$')\n",
    "plt.show()"
   ]
  },
  {
   "cell_type": "markdown",
   "metadata": {},
   "source": [
    "### But we didn't show how to calculate $a_n$"
   ]
  },
  {
   "cell_type": "markdown",
   "metadata": {},
   "source": [
    "### Let's change our Fourier Series Equation\n",
    "\n",
    "$$\n",
    "f(x) = \\frac{a_0}{2} + \\sum_{n=1}^{\\infty} a_n \\cos(n \\omega_0 x) + b_n \\sin(n \\omega_o x)\n",
    "$$\n",
    "\n",
    "### where\n",
    "\n",
    "$$\n",
    "\\omega_0 =\\frac{2\\pi}{T}\n",
    "$$\n",
    "\n",
    "### and $T$ is the fundamental period (for the square wave above, $T=2\\pi$)"
   ]
  },
  {
   "cell_type": "markdown",
   "metadata": {},
   "source": [
    "### The equation for $a_n$ is\n",
    "$$\n",
    "a_n = \\frac{2}{T}\\int_{-T/2}^{T/2} f(x)\\cos(n \\omega_0 x)dx\n",
    "$$"
   ]
  },
  {
   "cell_type": "markdown",
   "metadata": {},
   "source": [
    "### For the square wave above, the limits are only $-T/4$ to $T/4$ because $f(x)=0$ for the rest of the wavelength."
   ]
  },
  {
   "cell_type": "markdown",
   "metadata": {},
   "source": [
    "$$\n",
    "a_n = \\frac{2}{T} \\int_{-T/4}^{T/4}\\cos(n \\omega_0 x)dx\n",
    "$$"
   ]
  },
  {
   "cell_type": "markdown",
   "metadata": {},
   "source": [
    "### Because $\\cos(nx)$ is even, we can reduce the limits to $0$ to $T/4$ and multiply by $2$"
   ]
  },
  {
   "cell_type": "markdown",
   "metadata": {},
   "source": [
    "$$\n",
    "a_n = \\frac{4}{T} \\int_{0}^{T/4}\\cos(n \\omega_0 x)dx\n",
    "$$"
   ]
  },
  {
   "cell_type": "markdown",
   "metadata": {},
   "source": [
    "$$\n",
    "a_n = \\frac{4}{n \\omega_0 T} \\sin(n \\omega_0 x)\\bigg|^{T/4}_0  =\\frac{4}{n \\omega_0 T}\\sin \\left( n\\omega_0 \\frac{T}{4} \\right)\n",
    "$$"
   ]
  },
  {
   "cell_type": "markdown",
   "metadata": {},
   "source": [
    "$$\n",
    "a_n =\\frac{2}{n\\pi}\\sin \\left(n \\omega_0 \\frac{\\pi}{2} \\right)\n",
    "$$"
   ]
  },
  {
   "cell_type": "markdown",
   "metadata": {},
   "source": [
    "### And of course we can plot this"
   ]
  },
  {
   "cell_type": "code",
   "execution_count": null,
   "metadata": {
    "scrolled": true
   },
   "outputs": [],
   "source": [
    "plt.axhline(0, color='gray', lw=1)\n",
    "plt.plot(x, 2/(x*pi) * np.sin(x * pi/2), '--', label=r'$\\frac{2}{n\\pi}\\sin \\left( n\\omega_0 \\frac{\\pi}{2} \\right)$')\n",
    "an = [2/(n*pi) * np.sin(n * pi/2) for n in range(1, 10)]\n",
    "plt.plot(0, 1, 'bo')\n",
    "plt.plot(range(1, 10), an, 'bo')\n",
    "plt.yticks([-1, 0, 1, 2], ['$-1$', '$0$', '$1$', '$2$'])\n",
    "plt.xticks(list(range(9)),\n",
    "          ['$0$', '$\\omega_0$', '$2\\omega_0$', '$3\\omega_0$', '$4\\omega_0$', \n",
    "           '$5\\omega_0$', '$6\\omega_0$', '$7\\omega_0$', '$8\\omega_0$'])\n",
    "plt.xlim(0, 8)\n",
    "plt.ylim(-0.5, 1.5)\n",
    "plt.legend(fontsize=16, fancybox=True, framealpha=0.3, loc='best')\n",
    "plt.show()"
   ]
  },
  {
   "cell_type": "markdown",
   "metadata": {},
   "source": [
    "# In-class warm-up: What if we make the squares farther apart by making $T=4\\pi$ ?"
   ]
  },
  {
   "cell_type": "code",
   "execution_count": null,
   "metadata": {},
   "outputs": [],
   "source": [
    "# YOUR CODE HERE"
   ]
  },
  {
   "cell_type": "markdown",
   "metadata": {},
   "source": [
    "### What are the new $a_n$ coefficients?\n",
    "\n",
    "Remember to use markdown to render your equations!"
   ]
  },
  {
   "cell_type": "markdown",
   "metadata": {},
   "source": [
    "### YOUR equations here"
   ]
  },
  {
   "cell_type": "markdown",
   "metadata": {},
   "source": [
    "### Make a plot of your new coefficients\n",
    "\n",
    "What do you notice about the spacing of the coefficients? And their amplitudes?"
   ]
  },
  {
   "cell_type": "markdown",
   "metadata": {},
   "source": [
    "Since the fundamental frequency is cut in half, the spacing between coefficients are closer, but bound by the same envelope"
   ]
  },
  {
   "cell_type": "code",
   "execution_count": null,
   "metadata": {},
   "outputs": [],
   "source": [
    "plt.axhline(0, color='gray', lw=1)\n",
    "plt.plot(x, 2/(x*pi) * np.sin(x * pi/2), '--')\n",
    "nprime = np.arange(0.5, 10, 0.5)\n",
    "an2 = [2/(n*pi) * np.sin(n * pi/2) for n in nprime]\n",
    "plt.plot(0, 1, 'go')\n",
    "plt.plot(nprime, an2, 'go', label=r\"$\\frac{2}{n\\pi}\\sin \\left( n\\omega_0' \\frac{\\pi}{2} \\right)$\")\n",
    "plt.yticks([-1, 0, 1, 2], ['$-1$', '$0$', '$1$', '$2$'])\n",
    "plt.xticks(list(range(9)),\n",
    "          ['$0$', '$\\omega_0$', '$2\\omega_0$', '$3\\omega_0$', '$4\\omega_0$', \n",
    "           '$5\\omega_0$', '$6\\omega_0$', '$7\\omega_0$', '$8\\omega_0$'])\n",
    "plt.xlim(0, 8)\n",
    "plt.ylim(-0.5, 1.5)\n",
    "plt.legend(fontsize=16, fancybox=True, framealpha=0.3, loc='best')\n",
    "plt.show()"
   ]
  },
  {
   "cell_type": "markdown",
   "metadata": {},
   "source": [
    "### And of course we can animate this process to see how it performs in general"
   ]
  },
  {
   "cell_type": "code",
   "execution_count": null,
   "metadata": {},
   "outputs": [],
   "source": [
    "import numpy as np\n",
    "\n",
    "def rect(x, B):\n",
    "    \"\"\"\n",
    "    create a rectangle function\n",
    "    returns a numpy array that is 1 if |x| < w and 0 if |x| > w\n",
    "    B is the rectangle width centered at 0\n",
    "    x is the number of points in the array\n",
    "    \"\"\"\n",
    "    \n",
    "    B = int(B)\n",
    "    x = int(x)\n",
    "    \n",
    "    high = np.ones(B)\n",
    "    low1 = np.zeros(int(x/2 - B/2))    \n",
    "    x1 = np.append(low1, high)\n",
    "    rect = np.append(x1, low1)\n",
    "    \n",
    "    if x > len(rect):\n",
    "        rect = np.append(rect, 0)\n",
    "    elif x < len(rect):\n",
    "        rect = rect[:-1]\n",
    "\n",
    "    return rect"
   ]
  },
  {
   "cell_type": "code",
   "execution_count": null,
   "metadata": {},
   "outputs": [],
   "source": [
    "%matplotlib notebook\n",
    "import matplotlib.pyplot as plt\n",
    "from matplotlib.animation import FuncAnimation\n",
    "\n",
    "# constants and x array\n",
    "pi = np.pi\n",
    "length = 2000\n",
    "x = np.linspace(-1, 1, length)\n",
    "\n",
    "# create figure and axes \n",
    "fig, (ax1, ax2) = plt.subplots(2, figsize=(12, 6))\n",
    "\n",
    "# creating our line objects for the plots\n",
    "sinc, = ax1.plot(x, np.sin(x), '-b')\n",
    "box, = ax2.plot(x, np.sin(x), '-r')\n",
    "\n",
    "def animate(B):\n",
    "    \"\"\"\n",
    "    this function gets called by FuncAnimation\n",
    "    each time called, it will replot with a different width \"B\"\n",
    "    \n",
    "    B: rect width\n",
    "    \n",
    "    return:\n",
    "        sinc: ydata\n",
    "        box: ydata\n",
    "    \"\"\"\n",
    "    \n",
    "    # create our rect object\n",
    "    f = rect(len(x), B)\n",
    "    box.set_ydata(f)\n",
    "    \n",
    "    # create our sinc object\n",
    "    F = (B / length) * np.sin(x * B / 2) / (x * B / 2)\n",
    "    sinc.set_ydata(F)\n",
    "    \n",
    "    # adjust the sinc plot height in a loop\n",
    "    ax1.set_ylim(np.min(F), np.max(F))\n",
    "    \n",
    "    # format the ax1 yticks\n",
    "    plt.setp(ax1, xticks=[-0.25, 0.25], xticklabels=['-1/4', '1/4'],\n",
    "             yticks=[0, np.max(F)], yticklabels=['0', 'B={:.2f}'.format((B / length))])\n",
    "    \n",
    "    # format the ax2 xticks to move with the box\n",
    "    plt.setp(ax2, yticks=[0, 1], \n",
    "             xticks=[-1, -1 * B / length, 1 * B / length, 1], xticklabels=['-1', '-B/2', 'B/2', '1'])\n",
    "    \n",
    "def init():\n",
    "    \"\"\"\n",
    "    initialize the figure\n",
    "    \"\"\"\n",
    "    \n",
    "    ax2.set_ylim(-0.2, 1.1)\n",
    "    ax1.set_xlim(-0.25, 0.25)\n",
    "    ax2.set_xlim(-1, 1)\n",
    "    ax1.axhline(0, color='black', lw=1)\n",
    "    ax2.axhline(0, color='black', lw=1)\n",
    "    plt.rcParams.update({'font.size':14})\n",
    "    \n",
    "    return sinc, box,\n",
    "\n",
    "# the FuncAnimation function iterates through our animate function using the steps array\n",
    "step = 10\n",
    "steps = np.append(np.arange(10, 1000, step), np.arange(1000, 10, -1 * step))\n",
    "ani = FuncAnimation(fig, animate, steps, init_func=init, interval=50, blit=True)\n",
    "plt.show()"
   ]
  },
  {
   "cell_type": "markdown",
   "metadata": {},
   "source": [
    "# Fourier Transform\n",
    "\n",
    "1. Fourier Transform is a generalized version of the Fourier Series\n",
    "2. It applies to both period and non periodic functions \n",
    "   - For periodic functions, the spectrum is discrete\n",
    "   - For non-period functions, the spectrum is continuous "
   ]
  },
  {
   "cell_type": "markdown",
   "metadata": {
    "slideshow": {
     "slide_type": "subslide"
    }
   },
   "source": [
    "The Fourier Transform by itself can be powerful if \n",
    "1. the signal-to-noise is high\n",
    "2. the signal is continious and uniformly sampled \n",
    "3. the shape you are modeling is simple and can be decomposed into a few Fourier terms.\n",
    "\n",
    "Unfortunately, these are not the usual conditions we have when taking data. We will look at this case next time."
   ]
  },
  {
   "cell_type": "markdown",
   "metadata": {},
   "source": [
    "### The Fourier Series becomes the Fourier Transform when\n",
    "$$\n",
    "T \\rightarrow \\infty, \\qquad \\omega_0 \\rightarrow 0\n",
    "$$"
   ]
  },
  {
   "cell_type": "markdown",
   "metadata": {},
   "source": [
    "### Definitions\n",
    "\n",
    "#### Fourier Transform\n",
    "\n",
    "Fourier Transform of $f(x)$ is $F(k)$\n",
    "$$\n",
    "F(k) = \\mathcal{FT}\\{f(x)\\}\n",
    "$$\n",
    "\n",
    "$$\n",
    "F(k) = \\int_{-\\infty}^{\\infty}f(x) \\exp(-ikx)dx\n",
    "$$\n",
    "\n",
    "where $k=\\frac{2\\pi}{x}$ is called the \"wavenumber\""
   ]
  },
  {
   "cell_type": "markdown",
   "metadata": {},
   "source": [
    "#### Inverse Fourier Transform\n",
    "\n",
    "To go back to $f(x)$, the formula is\n",
    "\n",
    "$$\n",
    "f(x) = \\mathcal{FT}^{-1}\\{F(k)\\}\n",
    "$$\n",
    "\n",
    "$$\n",
    "f(x) = \\frac{1}{2\\pi} \\int_{-\\infty}^{\\infty}F(k) \\exp(ikx)dx\n",
    "$$"
   ]
  },
  {
   "cell_type": "markdown",
   "metadata": {},
   "source": [
    "Since $x$ and $k$ are inversely proportional, the \"size\" of $f(x)$ and $F(k)$ are inversely proportional. \n",
    "What this means is, \n",
    " - a compact $f(x)$ will have a broad spectrum.\n",
    " - a broad $f(x)$ will have a compact spectrum"
   ]
  },
  {
   "cell_type": "markdown",
   "metadata": {},
   "source": [
    "### Rectangle function\n",
    "\n",
    "The $rext_B(x)$ function is a rectangle centered at $x=0$ with $\\text{Height}=1$ and $\\text{Width}=B$. The Formula can be written as \n",
    "\n",
    "$$\n",
    "\\text{rect}_B(x) =\n",
    "\\begin{cases}\n",
    "0 & \\text{if} \\,\\,\\, |x| > B/2\\\\[2pt]\n",
    "1/2 & \\text{if} \\,\\,\\, |x| = B/2 \\\\[2pt]\n",
    "1 & \\text{if} \\,\\,\\, |x| < B/2\n",
    "\\end{cases}\n",
    "$$\n",
    "\n",
    "The cell below is a simple function for creating $\\text{rect}_B(x)$"
   ]
  },
  {
   "cell_type": "markdown",
   "metadata": {},
   "source": [
    "### Example Fourier Transform of $\\text{rect}$ function\n",
    "\n",
    "Using the FT definition and the $\\text{rect}_B(x)$ equation, the FT is\n",
    "\n",
    "$$\n",
    "F(k) = \\int_{-B/2}^{B/2} \\exp(-ikx)dx\n",
    "$$\n",
    "\n",
    "$$\n",
    "= -\\frac{1}{ik} \\exp(-ikx) \\, \\Big|_{-B/2}^{\\,B/2}\n",
    "$$\n",
    "\n",
    "$$\n",
    "= -\\frac{1}{ik} \\left[ \\exp(-ikB/2) - \\exp(ikB/2)\\right]\n",
    "$$"
   ]
  },
  {
   "cell_type": "markdown",
   "metadata": {},
   "source": [
    "Using the complex definition of sine from Euler's formula\n",
    "\n",
    "$$\n",
    "\\sin(x) = \\frac{e^{ix} - e^{-ix}}{2i}\n",
    "$$\n",
    "\n",
    "Our equation for $F(k)$ can be re-written as \n",
    "\n",
    "$$\n",
    "F(k) = \\frac{2}{k}\\frac{\\exp(ikB/2) - \\exp(-ikB/2)}{2i}\n",
    "$$\n",
    "\n",
    "$$\n",
    "= \\frac{2}{k} \\sin(kB/2)\n",
    "$$\n",
    "\n",
    "$$\n",
    "= B \\frac{\\sin(kB/2)}{kB/2}\n",
    "$$\n",
    "\n",
    "\n",
    "$$\n",
    "F(k) = B \\text{sinc}(kB/2)\n",
    "$$"
   ]
  },
  {
   "cell_type": "markdown",
   "metadata": {},
   "source": [
    "# Example Fourier Transform from the scipy docs: FFT of the sum of two sines."
   ]
  },
  {
   "cell_type": "code",
   "execution_count": null,
   "metadata": {},
   "outputs": [],
   "source": [
    "from scipy.fft import fft, fftfreq\n",
    "from scipy.signal import blackman\n",
    "\n",
    "# Number of sample points\n",
    "N = 600\n",
    "# sample spacing\n",
    "T = 1.0 / 800.0\n",
    "x = np.linspace(0.0, N*T, N, endpoint=False)\n",
    "y = np.sin(50.0 * 2.0*np.pi*x) + 0.5*np.sin(80.0 * 2.0*np.pi*x)\n",
    "yf = fft(y)\n",
    "\n",
    "xf = fftfreq(N, T)[:N//2]\n",
    "\n",
    "plt.figure()\n",
    "plt.semilogy(xf[1:N//2], 2.0/N * np.abs(yf[1:N//2]), '-b')\n",
    "plt.grid()\n",
    "plt.show()"
   ]
  },
  {
   "cell_type": "markdown",
   "metadata": {},
   "source": [
    "# In-class warm-up: windowing functions"
   ]
  },
  {
   "cell_type": "markdown",
   "metadata": {},
   "source": [
    "Notice from the above, there is power at frequencies other than the ones we injected in the original time-series. This arises due to the use of finite data sets; this is a common occurance as we might be interested in their spectral content only during a certain time period. \n",
    "\n",
    "To address this, the Fourier transform is **usually** applied to the product of the waveform and a window function. Any window (including rectangular) affects the spectral estimate computed by this method.We will look at windowing functions to remove the long tail of power outside of our frequencies. Look here: https://docs.scipy.org/doc/scipy/reference/signal.windows.html for possible window functions (might try blackman to start)."
   ]
  },
  {
   "cell_type": "code",
   "execution_count": null,
   "metadata": {},
   "outputs": [],
   "source": [
    "from scipy.fft import fft, fftfreq\n",
    "\n",
    "# Import one of the window functions from above\n",
    "from scipy.signal import blackman\n",
    "\n",
    "# Number of sample points\n",
    "N = 600\n",
    "# sample spacing\n",
    "T = 1.0 / 800.0\n",
    "x = np.linspace(0.0, N*T, N, endpoint=False)\n",
    "y = np.sin(50.0 * 2.0*np.pi*x) + 0.5*np.sin(80.0 * 2.0*np.pi*x)\n",
    "yf = fft(y)\n",
    "\n",
    "# create window same length as the signal\n",
    "\n",
    "# YOUR CODE HERE\n",
    "# multiply time-series by window function and take FFT\n",
    "# YOUR CODE HERE\n",
    "\n",
    "# compare the resulting Fourier transforms\n",
    "plt.figure()\n",
    "plt.semilogy(xf[1:N//2], 2.0/N * np.abs(yf[1:N//2]), '-b')\n",
    "plt.semilogy(xf[1:N//2], 2.0/N * np.abs(ywf[1:N//2]), '-r')\n",
    "plt.legend(['FFT', 'FFT w. window'])\n",
    "plt.grid()\n",
    "plt.show()"
   ]
  },
  {
   "cell_type": "markdown",
   "metadata": {},
   "source": [
    "# Nyquist Sampling"
   ]
  },
  {
   "cell_type": "markdown",
   "metadata": {},
   "source": [
    "Nyquist: \"In order to recover all Fourier components of a periodic waveform, it is necessary to use a sampling rate fs at least twice the highest waveform frequency\"\n",
    "\n",
    "The above statement requires the user to sample a signal at twice the highest natural frequency of the expected system, or mathematically:\n",
    "\n",
    "$\\large f_{Nyq} = 2\\cdot f_{natural}$\n",
    "\n",
    "Therefore, in the FFT function, the limitation of the frequency component is set by the sample rate, which is typically a little higher than twice the highest natural frequency expected in the system. In the case of acoustics, the sample rates are set at approximately twice the highest frequency that humans are capable of discerning (20 kHz), so the sample rate for audio is at minimum 40 kHz. We often see 44.1 kHz or 48 kHz, which means audio is often sampled correctly above the Nyquist frequency set by the range of the human ear. \n",
    "\n",
    "Therefore, in practice, it is essential to adhere to the following inequality:\n",
    "$\\large f_{Nyq} = 2\\cdot f_{natural} \\rightarrow f_s \\geq f_{Nyq}$\n",
    "\n",
    "As a visualization tool, below I have plotted several sampled signals that are sampled around the Nyquist frequency for a sine wave."
   ]
  },
  {
   "cell_type": "code",
   "execution_count": null,
   "metadata": {},
   "outputs": [],
   "source": [
    "%matplotlib inline\n",
    "import numpy as np\n",
    "from matplotlib import pyplot as plt\n",
    "\n",
    "wave_freq = 5\n",
    "domain = 1\n",
    "# Number of sample points\n",
    "N = 10000\n",
    "\n",
    "sample_rates = (\n",
    "    (wave_freq * 2 - 1, 'below Nyquist rate'),\n",
    "    (wave_freq * 2, '(exclusive) lower bound according to Nyquist?'),\n",
    "    (wave_freq * 2 + 1, 'bit more than Nyquist'),\n",
    "    (wave_freq * 4, 'double Nyquist'),\n",
    ")\n",
    "\n",
    "n_plots = len(sample_rates) + 1\n",
    "\n",
    "fig = plt.figure(figsize=(8, 10))\n",
    "ax = fig.add_subplot(n_plots, 1,  1)\n",
    "\n",
    "x_hi_res = np.linspace(0.0, domain, N, endpoint=False)\n",
    "hi_res = np.sin(wave_freq * 2.0*np.pi*x_hi_res)\n",
    "ax.axhline(color=\"0.7\")\n",
    "ax.plot(x_hi_res, hi_res, label=f'{wave_freq}Hz wave')\n",
    "ax.legend(loc=1)\n",
    "ylim = ax.get_ylim()\n",
    "\n",
    "for i, (sample_rate, title) in enumerate(sample_rates):\n",
    "    ax = fig.add_subplot(n_plots, 1, i+2)\n",
    "\n",
    "    x = np.linspace(0.0, domain, sample_rate, endpoint=False)\n",
    "    samples = np.sin((2 * np.pi * wave_freq) * x)\n",
    "    ax.axhline(color=\"0.7\")\n",
    "    ax.plot(x_hi_res, hi_res, label=f'{wave_freq}Hz wave', color='0.8') # show what we're aiming for\n",
    "    ax.plot(x, samples, marker='o', label=f'{sample_rate}Hz sample rate ({sample_rate/wave_freq}x)')\n",
    "    ax.set_ylim(*ylim)\n",
    "    ax.legend(loc=1)\n",
    "    ax.set_title(title)\n",
    "    \n",
    "fig.tight_layout()"
   ]
  },
  {
   "cell_type": "markdown",
   "metadata": {},
   "source": [
    "# In-class Exercise: plot the Fourier transforms of the sine waves with different sample rates."
   ]
  },
  {
   "cell_type": "code",
   "execution_count": null,
   "metadata": {},
   "outputs": [],
   "source": [
    "# YOUR CODE HERE\n",
    "%matplotlib inline\n",
    "import numpy as np\n",
    "from matplotlib import pyplot as plt\n",
    "from scipy.fft import fft, fftfreq\n",
    "from scipy.signal import blackman\n",
    "\n",
    "wave_freq = 5\n",
    "domain = 10\n",
    "# Number of sample points\n",
    "N = 10000\n",
    "\n",
    "sample_rates = (\n",
    "    (wave_freq * 2 - 1, 'below Nyquist rate'),\n",
    "    (wave_freq * 2, '(exclusive) lower bound according to Nyquist?'),\n",
    "    (wave_freq * 2 + 1, 'bit more than Nyquist'),\n",
    "    (wave_freq * 4, 'double Nyquist'),\n",
    ")\n",
    "\n",
    "n_plots = len(sample_rates) + 1\n",
    "\n",
    "fig = plt.figure(figsize=(8, 10))\n",
    "ax = fig.add_subplot(n_plots, 1,  1)\n",
    "\n",
    "x_hi_res = np.linspace(0.0, domain, N, endpoint=False)\n",
    "hi_res = np.sin(wave_freq * 2.0*np.pi*x_hi_res)\n",
    "\n",
    "# sample spacing\n",
    "T = x_hi_res[1] - x_hi_res[0]\n",
    "\n",
    "# create window same length as the signal\n",
    "w = blackman(N)\n",
    "# multiply time-series by window function and take FFT\n",
    "ywf_hi_res = fft(hi_res*w)\n",
    "xf_hi_res = fftfreq(N, T)[:N//2]\n",
    "\n",
    "plt.loglog(xf_hi_res[1:N//2], 2.0/N * np.abs(ywf_hi_res[1:N//2]), '-r')\n",
    "ax.legend(loc=1)\n",
    "ylim = ax.get_ylim()\n",
    "\n",
    "for i, (sample_rate, title) in enumerate(sample_rates):\n",
    "    ax = fig.add_subplot(n_plots, 1, i+2)\n",
    "\n",
    "    x = np.linspace(0.0, domain, sample_rate*domain, endpoint=False)\n",
    "    T = x[1] - x[0]\n",
    "    samples = np.sin((2 * np.pi * wave_freq) * x)\n",
    "    N2 = len(x)\n",
    "    \n",
    "    # create window same length as the signal\n",
    "    \n",
    "    # YOUR CODE HERE\n",
    "    \n",
    "    # multiply time-series by window function and take FFT\n",
    "    \n",
    "    # YOUR CODE HERE\n",
    "\n",
    "    plt.loglog(xf_hi_res[1:N//2], 2.0/N * np.abs(ywf_hi_res[1:N//2]), label=f'{wave_freq}Hz wave', color='0.8') # show what we're aiming for\n",
    "    plt.loglog(xf[1:N2//2], 2.0/N2 * np.abs(ywf[1:N2//2]), label=f'{sample_rate}Hz sample rate ({sample_rate/wave_freq}x)')\n",
    "    \n",
    "    ax.axhline(color=\"0.7\")\n",
    "    ax.set_ylim(*ylim)\n",
    "    ax.legend(loc=1)\n",
    "    ax.set_title(title)\n",
    "    \n",
    "fig.tight_layout()"
   ]
  },
  {
   "cell_type": "markdown",
   "metadata": {},
   "source": [
    "# In-class Exercise: Fourier Transform of RR-Lyrae"
   ]
  },
  {
   "cell_type": "markdown",
   "metadata": {},
   "source": [
    "How many frequencies do you need to reproduce the time-series?"
   ]
  },
  {
   "cell_type": "code",
   "execution_count": null,
   "metadata": {
    "slideshow": {
     "slide_type": "slide"
    }
   },
   "outputs": [],
   "source": [
    "%matplotlib inline\n",
    "import numpy as np\n",
    "from matplotlib import pyplot as plt\n",
    "import astroML.datasets.rrlyrae_templates\n",
    "from astroML.datasets import fetch_rrlyrae_templates"
   ]
  },
  {
   "cell_type": "code",
   "execution_count": null,
   "metadata": {
    "slideshow": {
     "slide_type": "subslide"
    }
   },
   "outputs": [],
   "source": [
    "# RUN THIS\n",
    "\n",
    "# Load the RR Lyrae template\n",
    "templates = fetch_rrlyrae_templates()\n",
    "x, y = templates['115r'].T\n",
    "\n",
    "# Plot the results\n",
    "fig = plt.figure(figsize=(10, 10))\n",
    "fig.subplots_adjust(hspace=0)\n",
    "\n",
    "# TEST MODES HERE\n",
    "kvals = [1, 2]\n",
    "subplots = [311, 312]\n",
    "\n",
    "for (k, subplot) in zip(kvals, subplots):\n",
    "    ax = fig.add_subplot(subplot)\n",
    "\n",
    "    # Use FFT to fit a truncated Fourier series\n",
    "    # reconstruct using k frequencies\n",
    "    y_fft = np.fft.fft(y) # compute FFT\n",
    "    y_fft[k + 1:-k] = 0 # zero-out frequencies higher than k\n",
    "    y_fit = np.fft.ifft(y_fft).real # reconstruct using k modes\n",
    "\n",
    "    # plot the true value and the k-term reconstruction\n",
    "    ax.plot(np.concatenate([x, 1 + x]),\n",
    "            np.concatenate([y, y]), '--k', lw=2)\n",
    "    ax.plot(np.concatenate([x, 1 + x]),\n",
    "            np.concatenate([y_fit, y_fit]), color='gray')\n",
    "\n",
    "    label = \"%i mode\" % k\n",
    "    if k > 1:\n",
    "        label += 's'\n",
    "\n",
    "    ax.text(0.02, 0.1, label, ha='left', va='bottom',\n",
    "            transform=ax.transAxes)\n",
    "\n",
    "    if subplot == subplots[-1]:\n",
    "        ax.set_xlabel('phase')\n",
    "    else:\n",
    "        ax.xaxis.set_major_formatter(plt.NullFormatter())\n",
    "\n",
    "    if subplot == subplots[1]:\n",
    "        ax.set_ylabel('amplitude')\n",
    "    ax.yaxis.set_major_formatter(plt.NullFormatter())\n",
    "\n",
    "    ax.set_xlim(0, 2)\n",
    "    ax.set_ylim(1.1, -0.1)\n",
    "\n",
    "fig = plt.gcf()\n",
    "plt.show()"
   ]
  },
  {
   "cell_type": "markdown",
   "metadata": {},
   "source": [
    "# In-Class Exercise Convolutions\n",
    "\n",
    "The <a href=\"https://en.wikipedia.org/wiki/Convolution\">convolution</a> of two discretely sampled (with $N$ samples) functions $f_i$ and $g_i$ is defined as $$(f * g)_k = \\sum_{i=0}^{N-1} f_k g_{i-k}$$.\n",
    "\n",
    "In other words, to calcuate the convolution: (1) multiply two functions and sum them to get a number and (2) repeat the procedure for all possible offsets."
   ]
  },
  {
   "cell_type": "markdown",
   "metadata": {},
   "source": [
    "### Compute the convolution of a Gaussian with two delta functions below and plot the Gaussian, delta functions, and convolution you measure."
   ]
  },
  {
   "cell_type": "code",
   "execution_count": null,
   "metadata": {},
   "outputs": [],
   "source": [
    "from scipy.stats import chi2, norm\n",
    "import numpy as np\n",
    "t = np.linspace(0,1,N)\n",
    "f = np.zeros(N)\n",
    "f[int(N/6)] = 1.\n",
    "f[int(N*5/6)] = 1.\n",
    "g = norm.pdf(np.real(t),0.5,0.1)\n",
    "g = g/np.max(g)\n",
    "\n",
    "def convolution(f,g):\n",
    "    g=g[::-1]\n",
    "    N = np.size(f)\n",
    "    conv = np.zeros(N)\n",
    "    \n",
    "    i = 0\n",
    "    while (i <N):\n",
    "        # YOUR CODE HERE\n",
    "        #conv[i] = ...\n",
    "        i+=1\n",
    "    return(conv)\n",
    "\n",
    "conv = convolution(f,g)\n",
    "\n",
    "plt.plot(t,f,'b')\n",
    "plt.plot(t,g,'g')\n",
    "plt.plot(t,conv,'r')\n",
    "#plt.axis([np.min(t),np.max(t),0,1.2])\n",
    "\n",
    "plt.xlabel(\"frequency[arb]\")\n",
    "plt.ylabel(\"amplitude [arb]\")\n",
    "plt.title(\"f (blue), g(green), and the convoliution of these (red)\")\n",
    "plt.show()"
   ]
  },
  {
   "cell_type": "markdown",
   "metadata": {},
   "source": [
    "You will note that since the green Gaussian curve is centered between the delta functions, the convolution peaks at points when the offsets center the Gaussian on the blue delta functions.  For our applications, we often want to center the results such that the convolutoin peaks on the delta functions.  To do this, we must center the convolving kernal (the Gaussian in this example) at \"zero frequency.\" Following the convention in our FFT, this is the left edge of the array."
   ]
  },
  {
   "cell_type": "markdown",
   "metadata": {},
   "source": [
    "### Shift the Gaussian such that it centers around 0, and show that the convolution peaks at the delta functions\n",
    "\n",
    "Note: given how common the need to center convolutions this way is, numpy has an \"fftshift\" function built in to do this."
   ]
  },
  {
   "cell_type": "code",
   "execution_count": null,
   "metadata": {},
   "outputs": [],
   "source": [
    "# YOUR CODE HERE\n",
    "#conv = convolution(...\n",
    "\n",
    "plt.plot(t,f)\n",
    "plt.plot(t,g)\n",
    "plt.plot(t,conv,\"r\")\n",
    "plt.axis([np.min(t),np.max(t),0,1.2])\n",
    "\n",
    "plt.xlabel(\"frequency[arb]\")\n",
    "plt.ylabel(\"amplitude [arb]\")\n",
    "plt.title(\"f (blue), g(green), and the convoliution of these (red)\")\n",
    "plt.show()"
   ]
  },
  {
   "cell_type": "markdown",
   "metadata": {},
   "source": [
    "Speed is a big issue in convolutions.  Coneveniently there is a way to massively accelerate this algorithm using the FFT with the convolition theorem:\n",
    "$$(f * g) = iFFT(FFT(f) * FFT(g)). $$\n",
    "In other words the convoluiton is the inverse fourier transform of the product of the fourier transform of the two funtions."
   ]
  },
  {
   "cell_type": "markdown",
   "metadata": {},
   "source": [
    "### Use the convolution theorem and your Fourier transform and inverse Fourier Transform functions to find the same result as in 2b"
   ]
  },
  {
   "cell_type": "code",
   "execution_count": null,
   "metadata": {},
   "outputs": [],
   "source": [
    "def fft_convolve(f,g):\n",
    "    \n",
    "    FFTf = np.fft.fft(f)\n",
    "    FFTg = np.fft.fft(g)\n",
    "    # YOUR CODE HERE\n",
    "    conv = ...\n",
    "    return conv\n",
    "\n",
    "conv = fft_convolve(f,np.roll(g,int(N/2)))\n",
    "\n",
    "\n",
    "plt.plot(t,f)\n",
    "plt.plot(t,g)\n",
    "plt.plot(t,conv,\"r\")\n",
    "plt.axis([np.min(t),np.max(t),0,1.2])\n",
    "\n",
    "plt.xlabel(\"frequency[arb]\")\n",
    "plt.ylabel(\"amplitude [arb]\")\n",
    "plt.title(\"f (blue), g(green), and the convoliution of these (red)\")\n",
    "plt.show()"
   ]
  },
  {
   "cell_type": "markdown",
   "metadata": {},
   "source": [
    "As expected the results are the same for this method as for the direct method."
   ]
  },
  {
   "cell_type": "markdown",
   "metadata": {
    "slideshow": {
     "slide_type": "subslide"
    }
   },
   "source": [
    "The Fourier Transform by itself can be powerful if \n",
    "1. the signal-to-noise is high\n",
    "2. the signal is continious and uniformly sampled \n",
    "3. the shape you are modeling is simple and can be decomposed into a few Fourier terms.\n",
    "\n",
    "Unfortunately, these are not the usual conditions we have when taking data. We will look at this case next time.\n",
    "\n",
    "The figure on the left is the kind of data that you **want** to have, whereas the figure on the right is the kind of data that you are more likely to actually have.\n",
    "<img src=\"figures/rrlyrae-good.png\" style=\"float: left; width: 40%; margin-right: 1%;\"> <img src=\"figures/rrlyrae-bad.png\" style=\"float: left; width: 40%; margin-right: 1%;\">"
   ]
  },
  {
   "cell_type": "markdown",
   "metadata": {},
   "source": [
    "### Properties of light-curves\n",
    "* Gappy\n",
    "* Irregular\n",
    "* Heteroskedastic (the variance tends to vary with source brightness, for example)\n",
    "\n",
    "### Reasons\n",
    "* expense, rotation/revolution of Earth, moon\n",
    "* science objectives, weather, moon\n",
    "* weather, moon, airmass"
   ]
  },
  {
   "cell_type": "markdown",
   "metadata": {},
   "source": [
    "## What can we do with light-curves?\n",
    "* Abstract them through generic statistical measures\n",
    "* Use domain knowledge to look for characteristics\n",
    "* See if they are periodic"
   ]
  },
  {
   "cell_type": "markdown",
   "metadata": {},
   "source": [
    "## Statistical Features\n",
    "\n",
    "* Compute features (statistical measures) for each light curve: amplitudes, moments, periodicity, etc.\n",
    "* Converts heterogeneous light curves into homogeneous feature vectors in the parameter space\n",
    "* Apply a variety of automated classification methods"
   ]
  },
  {
   "cell_type": "markdown",
   "metadata": {
    "slideshow": {
     "slide_type": "slide"
    }
   },
   "source": [
    "# The Periodogram\n",
    "\n",
    "What we want to be able to do is to detect variability and measure the period in the face of both noisy and incomplete data. Instead we'll use Fourier decomposition to get a more useful tool for actual data analysis.\n",
    "\n",
    "\n",
    "or a periodic signal we have:\n",
    "\n",
    "$$y(t+P)=y(t),$$ where $P$ is the period.\n",
    "\n",
    "We can create a *phased light curve* that plots the data as function of phase:\n",
    "$$\\phi=\\frac{t}{P} − {\\rm int}\\left(\\frac{t}{P}\\right),$$\n",
    "\n",
    "where ${\\rm int}(x)$ returns the integer part of $x$."
   ]
  },
  {
   "cell_type": "markdown",
   "metadata": {
    "slideshow": {
     "slide_type": "subslide"
    }
   },
   "source": [
    "### A Single Sinusoid\n",
    "\n",
    "Let's take the case where the data are drawn from a single sinusoidal signal:\n",
    "\n",
    "# $$y(t)=A \\sin(\\omega t+\\phi)+\\epsilon$$\n",
    "\n",
    "and determine whether or not the data are indeed consistent with periodic variability and, if so, what is the period.\n",
    "\n",
    "\n",
    "This model is annoying to work with because it's **non-linear** in the frequency term, $\\omega$ and the phase, $\\phi$\n",
    "\n",
    "We can rewrite the argument as $\\omega(t−t_0)$ (reexpressing the phase term) and use trig identies to rewrite the model as: \n",
    "\n",
    "# $$y(t)=a \\sin(\\omega t)+b \\cos(\\omega t)$$\n",
    "\n",
    "where \n",
    "\n",
    "# $$A=(a^2+b^2)^{1/2} \\text{ and } \\phi=\\tan^{−1}(b/a)$$\n",
    "\n",
    "The model is now linear with respect to coefficients $a$ and $b$ (and nonlinear only with respect to frequency, $\\omega$). So we got rid of one of the two non-linear parameters!"
   ]
  },
  {
   "cell_type": "markdown",
   "metadata": {
    "slideshow": {
     "slide_type": "slide"
    }
   },
   "source": [
    "It turns out, if we know the noise $\\sigma$ then \n",
    "\n",
    "# $$   p(\\omega|\\{t,y\\}, \\sigma) \\propto \\exp \\left( { P(\\omega) \\over \\sigma^2} \\right)$$\n",
    "\n",
    "giving us the posterior for $\\omega$! "
   ]
  },
  {
   "cell_type": "markdown",
   "metadata": {
    "slideshow": {
     "slide_type": "slide"
    }
   },
   "source": [
    "$P(\\omega)$ is the [periodogram](https://en.wikipedia.org/wiki/Periodogram), which is just a plot of the \"power\" at each possible period\n",
    "\n",
    "So the process is similar to what we did with maximum likelihood estimation\n",
    "1. Get some data\n",
    "2. Make a uniform grid in period\n",
    "3. Evaluate the likelihood/the periodogram power at each period \n",
    "4. Identify the period with the maximum power\n",
    "\n",
    "<img src=\"figures/periodogram.png\">"
   ]
  },
  {
   "cell_type": "markdown",
   "metadata": {
    "slideshow": {
     "slide_type": "notes"
    }
   },
   "source": [
    "### Significance of the peaks in the periodogram\n",
    "\n",
    "The amplitude(s) of the periodic signal can be derived from the posterior in much the same way as we do for MLE i.e. take the derivative of the posterior with respect to $a$ and $b$, equate to 0 and find where the maximum is.\n",
    "\n",
    "But what we really want to know is the \"best value\" $\\omega$? \n",
    "\n",
    "The $\\chi^2$ is given by\n",
    "$$\\chi^2(\\omega) \\equiv {1 \\over \\sigma^2} \\sum_{j=1}^N [y_j-y(t_j)]^2 =\n",
    "  {1 \\over \\sigma^2} \\sum_{j=1}^N [y_j- a_0\\, \\sin(\\omega t_j) - b_0 \\, \\cos(\\omega t_j)]^2$$\n",
    "  \n",
    "which we can simplify to\n",
    "\n",
    "$$\\chi^2(\\omega) =  \\chi_0^2 \\, \\left[1 - {2 \\over N \\, V}  \\, P(\\omega) \\right]$$\n",
    "\n",
    "where, again, $P(\\omega)$ is the periodogram and $\\chi_0^2$ is the $\\chi^2$ for a model with $y(t)$=constant:\n",
    "\n",
    "$$  \\chi_0^2 = {1 \\over \\sigma^2} \\sum_{j=1}^N y_j^2 = {N \\, V \\over \\sigma^2}$$"
   ]
  },
  {
   "cell_type": "markdown",
   "metadata": {
    "slideshow": {
     "slide_type": "notes"
    }
   },
   "source": [
    "We'll now renormalise the periodogram, defining the [Lomb-Scargle periodogram](https://en.wikipedia.org/wiki/Least-squares_spectral_analysis#The_Lomb.E2.80.93Scargle_periodogram) as\n",
    "\n",
    "$$P_{\\rm LS}(\\omega) = \\frac{2}{N V} P(\\omega),$$  where $0 \\le P_{\\rm LS}(\\omega) \\le 1$.\n",
    "\n",
    "With this renormalization, the reduction in $\\chi^2(\\omega)$ for the harmonic model, \n",
    "relative to $\\chi^2$ for the pure noise model, $\\chi^2_0$ is\n",
    "$${\\chi^2(\\omega) \\over \\chi^2_0}=  1 - P_{LS}(\\omega).$$\n",
    "\n",
    "To determine if our source is variable or not, we first compute $P_{\\rm LS}(\\omega)$ and then model the odds ratio for our variability model vs. a no-variability model.\n",
    "\n",
    "If our variability model is \"correct\", then the peak of $P(\\omega)$ [found by grid search] gives the best $\\omega$ and the $\\chi^2$ at $\\omega = \\omega_0$ is $N$."
   ]
  },
  {
   "cell_type": "markdown",
   "metadata": {
    "slideshow": {
     "slide_type": "notes"
    }
   },
   "source": [
    "If the true frequency is $\\omega_0$ then the maximum peak in the periodogram should have a height\n",
    "\n",
    "$$P(\\omega_0) = {N \\over 4} (a_0^2 + b_0^2)$$\n",
    "\n",
    "and standard deviation\n",
    "$$      \\sigma_P(\\omega_0)  = {\\sqrt{2} \\over 2} \\, \\sigma^2.$$"
   ]
  },
  {
   "cell_type": "markdown",
   "metadata": {
    "slideshow": {
     "slide_type": "slide"
    }
   },
   "source": [
    "\n",
    "# Properties of LS and the periodogram\n",
    "\n",
    "- The expected heights of the peaks in a periodogram don't depend on $\\sigma$ but their variation in height do.\n",
    "- For $P_{\\rm LS}(\\omega_0)$, with no noise the peak approaches 1. As noise increases, $P_{\\rm LS}(\\omega_0)$ decreases and is ``buried'' in the background  noise.\n",
    "- Our derivation worked for mean = 0, and data in a single channel/passband\n",
    "    - Extensions of Lomb-Scargle to multiple passbands and to handle a floating mean + many numerical approximations\n",
    "    \n",
    "## [Jake VanDerPlas has a good writeup on understanding the periodogram](https://arxiv.org/abs/1703.09824)"
   ]
  },
  {
   "cell_type": "markdown",
   "metadata": {
    "slideshow": {
     "slide_type": "slide"
    }
   },
   "source": [
    "# What the periodogram is good for and what it isn't\n",
    "\n",
    "Pros:\n",
    "- Works with unevenly sampled data, and binning in phase helps build statistics even with noisy data\n",
    "\n",
    "Cons:\n",
    "- ANY PERIODIC SIGNAL IN THE DATA WILL EXHIBIT SOME POWER\n",
    "    - This includes aliases of the true period\n",
    "- Multiband extension requires  that the period/frequency is the same across all channels/passbands \n",
    "    - this is not the case for many time-series phenomena\n",
    "\n",
    "\n",
    "<img src=\"figures/Sun-Wavelength-Chart.jpg\">\n",
    "\n"
   ]
  },
  {
   "cell_type": "markdown",
   "metadata": {
    "slideshow": {
     "slide_type": "slide"
    }
   },
   "source": [
    "# In-class warm-up: Finding the Period of a Variable Star\n",
    "\n",
    "If you don't already have gatspy, you'll want it:\n",
    "\n",
    "> `conda install gatspy`\n",
    "\n",
    "There are alternatives but it is one of the best for CPU-based Lomb-Scargle.\n",
    "\n",
    "There is some data in a file below.\n",
    "\n",
    "1. Plot it up to see what it looks like\n",
    "2. Use the Lomb-Scargle Multiband to construct a periodogram on a grid of a 1000 periods\n",
    "3. Plot the folded light curve for the best-guess period"
   ]
  },
  {
   "cell_type": "code",
   "execution_count": null,
   "metadata": {
    "slideshow": {
     "slide_type": "skip"
    }
   },
   "outputs": [],
   "source": [
    "# RUN THIS\n",
    "%matplotlib inline\n",
    "import astropy.table as at\n",
    "import matplotlib.pyplot as plt\n",
    "import numpy as np\n",
    "from gatspy.periodic import LombScargleMultiband\n",
    "\n",
    "data = at.Table.read('data/1938779.dat', format='ascii')\n",
    "\n",
    "t     = data['HJD']\n",
    "y     = data['MAG']\n",
    "dy    = data['MAGERR']\n",
    "filts = data['FILTS']\n",
    "\n",
    "data"
   ]
  },
  {
   "cell_type": "code",
   "execution_count": null,
   "metadata": {
    "slideshow": {
     "slide_type": "slide"
    }
   },
   "outputs": [],
   "source": [
    "# PLOT THE DATA IN EACH PASSBAND\n",
    "fig , ax = plt.subplots(nrows=1, ncols=1, figsize=(10, 10))\n",
    "for pb in set(filts):\n",
    "    ind = (filts == pb)\n",
    "    ax.errorbar(t[ind], y[ind], yerr=dy[ind], marker='o', ls='None', label=pb)\n",
    "ax.legend(frameon=False)\n",
    "ax.set_xlabel('HJD')\n",
    "ax.set_ylabel('mag')\n",
    "ax.invert_yaxis()\n",
    "    "
   ]
  },
  {
   "cell_type": "code",
   "execution_count": null,
   "metadata": {
    "slideshow": {
     "slide_type": "slide"
    }
   },
   "outputs": [],
   "source": [
    "# You can set the number of terms in the Lomb-Scargle periodogram, either baseline or by band\n",
    "model = LombScargleMultiband(Nterms_base=9, Nterms_band=0)\n",
    "model.fit(t, y, dy, filts)\n",
    "\n",
    "# CREATE A GRID OF PERIODS BETWEEN 0.1 - 2 days \n",
    "periods = np.linspace(0.1, 2, 1000)\n",
    "\n",
    "# YOU CAN COMPUTE THE PERIODOGRAM WITH:\n",
    "power = model.periodogram(periods)\n",
    "\n",
    "# PLOT THE PERIODOGRAM\n",
    "plt.plot(periods, power)"
   ]
  },
  {
   "cell_type": "code",
   "execution_count": null,
   "metadata": {
    "slideshow": {
     "slide_type": "slide"
    }
   },
   "outputs": [],
   "source": [
    "# YOU CAN SET THE RANGE FOR THE PERIOD SEARCH TO NARROW THINGS DOWN\n",
    "model.optimizer.period_range = (0.2, 0.8)\n",
    "\n",
    "# WITHIN THIS NARROW RANGE LOMB-SCARGLE CAN GIVE YOU THE BEST PERIOD\n",
    "period = model.best_period"
   ]
  },
  {
   "cell_type": "code",
   "execution_count": null,
   "metadata": {
    "slideshow": {
     "slide_type": "slide"
    }
   },
   "outputs": [],
   "source": [
    "# RUN THIS TO LOOK AT YOUR FOLDED LIGHT CURVE\n",
    "tfit = np.linspace(0, period, 1000)\n",
    "fig, ax = plt.subplots(nrows=1, ncols=1, figsize=(6,6))\n",
    "for pb in set(filts):\n",
    "    pfilt = [pb,]*len(tfit)\n",
    "    yfit = model.predict(tfit, filts=pfilt)\n",
    "    ax.plot(tfit, yfit, linestyle='-', marker='.', color='grey', alpha=0.1)\n",
    "    ind = (filts == pb)\n",
    "    ax.errorbar(t[ind]%period, y[ind], yerr=dy[ind], linestyle='None', marker='o')\n",
    "ax.set_xlabel('HJD')  \n",
    "ax.set_ylabel('MAG')\n",
    "fig.suptitle(f'Period = {period:.5f} days')\n",
    "ax.invert_yaxis()"
   ]
  },
  {
   "cell_type": "markdown",
   "metadata": {},
   "source": [
    "# In-Class Exercise: Period analysis of a Synthetic Lightcurve\n",
    "\n",
    "First, we need to generate a lightcurve to work with. The function below generates a series of timestamps t, and a sinusoidal signal y with noise dy added to it. We will use this lightcurve to test our functions. Note that our y values are generated with a sin function with a frequency of 2pi, or equiaveletly, a period of 1."
   ]
  },
  {
   "cell_type": "code",
   "execution_count": null,
   "metadata": {},
   "outputs": [],
   "source": [
    "import numpy as np\n",
    "from astropy.stats import LombScargle\n",
    "%matplotlib inline\n",
    "import matplotlib.pyplot as plt\n",
    "import os"
   ]
  },
  {
   "cell_type": "code",
   "execution_count": null,
   "metadata": {},
   "outputs": [],
   "source": [
    "cwd = os.getcwd()\n",
    "data_dir = os.path.join(cwd, 'data')"
   ]
  },
  {
   "cell_type": "code",
   "execution_count": null,
   "metadata": {
    "scrolled": true
   },
   "outputs": [],
   "source": [
    "# \"Generates a sample lightcurve with times t, magnitudes y, and errors dy\n",
    "\n",
    "rand = np.random.RandomState(42)\n",
    "t = 100 * rand.rand(100)\n",
    "y = np.sin(2 * np.pi * t) + 0.1 * rand.randn(100)\n",
    "dy = 0.1 * (1 + rand.rand(100))\n",
    "\n",
    "plt.errorbar(t,y,dy,ls='none',c='k')\n",
    "plt.xlabel('Time')\n",
    "plt.ylabel('Flux')\n"
   ]
  },
  {
   "cell_type": "markdown",
   "metadata": {},
   "source": [
    "As you can see, this lightcurve is not very interesting when we plot it. This is where we need to use period finding analysis to learn more. Below, we try plotting the function in a new way--phase folding it. When we do this, we assume a period, and compute what phase each timestamps corresponds to between 0 and 1, assuming that period. Below, we try folding our lightcurve with the period equal to 1."
   ]
  },
  {
   "cell_type": "code",
   "execution_count": null,
   "metadata": {},
   "outputs": [],
   "source": [
    "# \"this function takes times t, mags y, and errors dy, and a period and phase folds the lightcurve at this period\n",
    "\n",
    "def phase_fold(t,y,dy,period):\n",
    "    phases=np.remainder(t,period)/period\n",
    "    phases=np.concatenate((phases,phases+1))\n",
    "    y=np.concatenate((y,y))\n",
    "    dy=np.concatenate((dy,dy))\n",
    "    plt.errorbar(phases,y,dy,ls='none',c='k')\n",
    "    plt.xlabel('Phase')\n",
    "    plt.ylabel('Flux')\n",
    "    \n",
    "phase_fold(t,y,dy,1)"
   ]
  },
  {
   "cell_type": "markdown",
   "metadata": {},
   "source": [
    "Phase-folding can be used as a rudimentary method of period determination.  One may make educated guesses about the period of the phenomenon and phase-fold the lightcurve to see if a repeating pattern emerges.  Try this for this observations of the asteroid 1856 Ruzena, observed by non-Astronomy majors from the University of Maryland in April 2018 along with collaborators in Malta.  Asteroids typically have rotation periods between 2 and 12 hours.\n",
    "\n",
    "The code below plots the raw, or unphased lightcurve, for all four nights of observations of the asteroid."
   ]
  },
  {
   "cell_type": "code",
   "execution_count": null,
   "metadata": {},
   "outputs": [],
   "source": [
    "data=np.loadtxt(os.path.join(data_dir,'asteroid1.csv'),delimiter=',',skiprows=1)\n",
    "t=data[:,0]\n",
    "y=data[:,1]\n",
    "plt.plot(t,y,ls='none',marker=\"o\")\n",
    "plt.xlabel('Julian Date')\n",
    "plt.ylabel('Differential Magnitude')\n"
   ]
  },
  {
   "cell_type": "markdown",
   "metadata": {},
   "source": [
    "Why does the plot above show four vertical strings of points?  Each vertical \"string\" of points is one night of observations.  Compared to the entire period of time along the x-axis, each night is a very small length of time.  If you alter the code in the cell and change the limits on the x axis, you, can view each night of data individually.  (This will help you get an idea of the length of the asteroid's rotation period, so this is an especially useful exercise.)\n",
    "\n",
    "It's not unusual for astronomers to have large gaps in lightcurves due to daytime and longer periods of time when observations were not able to be made (i.e., weather, length of observing cycles).  Phase-folding, or phasing, the lightcurve to trial periods allows one to remove these gaps and visualize the data more easily.\n",
    "\n",
    "Below, you will try phasing the data for 1856 Ruzena to trial periods to see if you can determine the asteroid's rotation period by the trial-and error method.  Don't spend more than 5 minutes trying different test periods - you could do this all day and never get lucky with the correct period, since you'll need several decimal places of precision.  (The students from the class published the rotation periods to 4 decimal places of precision using only these data.)\n",
    "\n",
    "Also, consider carefully:  when you have correctly determined the asteroid's rotation period and have a phased lightcurve, how many maxima and minima should it have in one complete phase?"
   ]
  },
  {
   "cell_type": "code",
   "execution_count": null,
   "metadata": {},
   "outputs": [],
   "source": [
    "# create a dy array with error bars of 0.1 to pass to your phase fold function\n",
    "dy = 0.1*np.ones(y.shape)\n",
    "#period in units of days\n",
    "period=2.0\n",
    "    \n",
    "phase_fold(t,y,dy,period)"
   ]
  },
  {
   "cell_type": "markdown",
   "metadata": {},
   "source": [
    "From your experience with the trial-and-error method above, you can see that a better method of finding test periods is needed.  This is where the Lomb-Scargle Periodogram method is used.  This method essentially measures how much power is present at each frequency within the data: more power at a certain frequency should indicate a repeating signal within the data.  However, that signal could be from a physical phenomenon, such as a pulsating star or rotating asteroid, or it could be an artifact, such as the day/night cycle or other artificial frequencies caused by the observing process.  The astronomer must interpret the data to make a final decision.\n",
    "\n",
    "In this case, we know that the period is 1 day; usually one does not know this ahead of time, and so we will use the LS Periodogram to tell us this.\n",
    "\n",
    "Use the LombScargleMultiband function to compute the power spectrum (which shows us the relative strength of signals at different frequencies (frequency = 1/period).  You should see a large spike at period = 1.  Try changing the value of the period and watch the periodogram (the power spectrum graph) change."
   ]
  },
  {
   "cell_type": "code",
   "execution_count": null,
   "metadata": {},
   "outputs": [],
   "source": [
    "period=1\n",
    "\n",
    "rand = np.random.RandomState(42)\n",
    "t = 100 * rand.rand(100)\n",
    "y = np.sin(2 * np.pi /period* t) + 0.1 * rand.randn(100)\n",
    "dy = 0.1 * (1 + rand.rand(100))\n",
    "\n",
    "# YOUR CODE HERE\n",
    "\n",
    "# You can set the number of terms in the Lomb-Scargle periodogram, either baseline or by band\n",
    "\n",
    "# CREATE A GRID OF PERIODS BETWEEN 0.1 - 100 days \n",
    "\n",
    "# COMPUTE THE PERIODOGRAM:\n",
    "\n",
    "# PLOT THE PERIODOGRAM"
   ]
  },
  {
   "cell_type": "markdown",
   "metadata": {},
   "source": [
    "Now determine the frequency with the most power to find the best period to represent the signal in the data. Use your phase-folding code to plot the phase-folded data with the best period."
   ]
  },
  {
   "cell_type": "code",
   "execution_count": null,
   "metadata": {},
   "outputs": [],
   "source": [
    "def lomb_scargle(t,y,dy):\n",
    "\n",
    "    model = LombScargleMultiband(Nterms_base=9, Nterms_band=0)\n",
    "    model.optimizer.period_range=(0.1, 10)\n",
    "    model.fit(t, y, dy)\n",
    "    \n",
    "    return model.best_period\n",
    "\n",
    "def plot_best_period(t,y,dy):\n",
    "    phase_fold(t,y,dy,lomb_scargle(t,y,dy))\n",
    "\n",
    "plot_best_period(t,y,dy)"
   ]
  },
  {
   "cell_type": "markdown",
   "metadata": {},
   "source": [
    "# In-Class Exercise: Period analysis of a real Lightcurve"
   ]
  },
  {
   "cell_type": "markdown",
   "metadata": {},
   "source": [
    "Let us apply the Lomb-Scargle Periodogram to real data.  First, let's take a look at unphased Cepheid data using the code below. (These data are from the American Association of Variable Star Observers.)   Please fill in the code block below to plot the unphased data. Notice how these data span a very long time period.  You may alter the code block in order to examine shorter time periods.  Do you have an educated guess about the period of this Cepheid?"
   ]
  },
  {
   "cell_type": "code",
   "execution_count": null,
   "metadata": {},
   "outputs": [],
   "source": [
    "data=np.loadtxt(os.path.join(data_dir,'cepheid.csv'),delimiter=',',skiprows=1)\n",
    "t=data[:,0]\n",
    "y=data[:,1]\n",
    "plt.plot(t,y,ls='none', marker=\"o\")\n",
    "plt.xlabel('Julian Date')\n",
    "plt.ylabel('V Magnitude')"
   ]
  },
  {
   "cell_type": "markdown",
   "metadata": {},
   "source": [
    "Now apply your LS algorithm to the Cepheid data.  "
   ]
  },
  {
   "cell_type": "code",
   "execution_count": null,
   "metadata": {},
   "outputs": [],
   "source": [
    "# Assume sensible error bars for data\n",
    "dy = 0.1 * np.ones(y.shape)\n",
    "\n",
    "plot_best_period(t,y,dy)"
   ]
  },
  {
   "cell_type": "markdown",
   "metadata": {},
   "source": [
    "# In-Class Exercise: Lomb-Scargle Performance\n",
    "\n",
    "Since Lomb-Scargle is one of the main time series analysis techniques in astronomy, we want to assess its performance as a function of signal-to-noise, time series sampling, and waveform shape. It is often worth investigating the performance of algorithms in terms of toy data sets to get an understanding of what the limitations may be. So:"
   ]
  },
  {
   "cell_type": "markdown",
   "metadata": {},
   "source": [
    "1) Write a routine to generate a periodic sinusoidal time series at a period of $per$, containing $n$ datapoints, assuming homoscedastic Gaussian errors given by a standard deviation sigma, with a mean sample time of $meandt$ and standard deviation of $stddt$."
   ]
  },
  {
   "cell_type": "code",
   "execution_count": null,
   "metadata": {},
   "outputs": [],
   "source": [
    "# YOUR CODE HERE"
   ]
  },
  {
   "cell_type": "markdown",
   "metadata": {},
   "source": [
    "2) Apply LombScargle to recover the period and then plot the corresponding periodogram, and the phase folded time series."
   ]
  },
  {
   "cell_type": "code",
   "execution_count": null,
   "metadata": {},
   "outputs": [],
   "source": [
    "# YOUR CODE HERE\n",
    "#plot_best_period(..."
   ]
  },
  {
   "cell_type": "markdown",
   "metadata": {},
   "source": [
    "3) For a range of periods extending over three decades, e.g., $\\log_{10}(per) = -1 - 2$, generate 10 time series and determine how accurate (how many period found by Lomb-Scargle are within 1\\% of the known periods) Lomb-Scargle are.\n",
    "\n",
    "You might consider repeating this test as (a) a function of number of data points in the time series, i.e., plot LS accuracy againts $n$, (b) a range of error values ($sigma$), and (c) different sample times."
   ]
  },
  {
   "cell_type": "code",
   "execution_count": null,
   "metadata": {},
   "outputs": [],
   "source": [
    "def lomb_scargle(t,y,dy):\n",
    "\n",
    "    model = LombScargleMultiband(Nterms_base=9, Nterms_band=0)\n",
    "    model.optimizer.period_range=(0.1, 100)\n",
    "    model.fit(t, y, dy)\n",
    "    \n",
    "    return model.best_period\n",
    "\n",
    "# YOUR CODE HERE"
   ]
  },
  {
   "cell_type": "markdown",
   "metadata": {},
   "source": [
    "# APPENDIX: Challenge Problem"
   ]
  },
  {
   "cell_type": "markdown",
   "metadata": {},
   "source": [
    "The above data sets were relatively straightfoward to work with using the Lomb-Scargle Periodogram because the data were rather \"clean\" and did not exhibit much power at alternative frequencies.  You can find two additional data sets in the data directory for this module.  One is \"asteroid2\", which is for the asteroid 4404 Enirac observed by students at the University of Maryland in Spring 2017.  The other is \"delta-scuti\", which is for a Delta Scuti-type variable star.  You will find that both of these objects have very \"messy\" periodograms, in which is its unclear what the \"best\" period is.  You can study each of these objects by looking at subsets of the data (and running LS on the subsets), potentially temporarily eliminating data points which are outliers, and otherwise being clever in your analysis.  You can begin your analysis in the space below."
   ]
  },
  {
   "cell_type": "code",
   "execution_count": null,
   "metadata": {},
   "outputs": [],
   "source": []
  }
 ],
 "metadata": {
  "anaconda-cloud": {},
  "kernelspec": {
   "display_name": "Python 3",
   "language": "python",
   "name": "python3"
  },
  "language_info": {
   "codemirror_mode": {
    "name": "ipython",
    "version": 3
   },
   "file_extension": ".py",
   "mimetype": "text/x-python",
   "name": "python",
   "nbconvert_exporter": "python",
   "pygments_lexer": "ipython3",
   "version": "3.8.11"
  }
 },
 "nbformat": 4,
 "nbformat_minor": 1
}
