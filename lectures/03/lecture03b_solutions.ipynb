{
 "cells": [
  {
   "cell_type": "markdown",
   "metadata": {},
   "source": [
    "---\n",
    "\n",
    "# Problem 1: Linear least squares"
   ]
  },
  {
   "cell_type": "markdown",
   "metadata": {},
   "source": [
    "## Least squares formulation\n",
    "\n",
    "\"Linear least squares\" is a method for fitting a model which depends **linearly on its parameters**. Outside astronomy (for example, machine learning), the popular term for linear least-squares is \"linear regression.\"\n",
    "\n",
    "- An important note: You can use linear least squares even when your model **isn't linear with respect to the data**. For example, the model $y(x)=\\beta x^2$ is linear with respect to the parameter $\\beta$, even though it's nonlinear with respect to the data $x$; therefore, we can use linear least squares to fit $\\beta$."
   ]
  },
  {
   "cell_type": "markdown",
   "metadata": {},
   "source": [
    "**Setup:** When using linear least squares, you assume that your data can be expressed with the following equation:\n",
    " \\begin{equation}\n",
    "   {\\bf y} = {\\bf X}{\\bf \\beta} + {\\bf \\beta_0} + {\\bf \\epsilon}\n",
    " \\end{equation}\n",
    "\n",
    "where $y_i$ is the $i$th measurement and $\\epsilon_i$ the corresponding noise; here $i$ ranges from 1 to $n$. When fitting your model, you will be given input data $\\bf X$, then fitting parameters $\\bf \\beta$ and $\\beta_0$ to predict measurements $\\bf y$ as accurately as possible.\n",
    "\n",
    "Some jargon:\n",
    "- ${\\bf y}$ is called the \"response\" vector,\n",
    "- $\\beta_0$ is the intercept,\n",
    "- ${\\bf \\beta}$ is the slope, and \n",
    "- ${\\bf X}$ is the \"predictor\" matrix.\n",
    "\n",
    "Each of these parameters has a specific shape.\n",
    "- $\\bf \\beta$ has shape $(m,1)$ where $m$ is the number of parameters in the model.\n",
    "- $\\bf y$ has shape $(n,1)$, where $n$ is the number of dimensions you are trying to predict.\n",
    "- Finally $\\bf X$ is a matrix with dimensions $(n,m)$.\n",
    "\n",
    "These models are designed to have multiple input dimensions and multiple output dimensions. For example, a model could use a galaxy's **magnitude in the i-band, r-band and g-band** to predict its **mass** and its **redshift**. It would then have $m=3$ (three dimensions of input data) and $n=2$ (two dimensions of output data). [*Caution - this is purely for example purposes and would probably be a terrible model.*]\n",
    "\n",
    "A few final notes:\n",
    "\n",
    "- Usually the intercept $\\beta_0$ is included in ${\\bf \\beta}$ (and a column of 1's is appended to $\\bf X$ to match).\n",
    "- When $m>1$ -- i.e. when there are multiple parameters -- this problem is called \"multiple linear regression\". \"Multi-variate (multiple)\" linear regression is when ${\\bf y}$ has more than one column. \n",
    "- Finally, the least squares is optimal only when ${\\bf\\epsilon}$ results from Gaussian processes. That is, the error on any combination of parameters must form a Gaussian distribution."
   ]
  },
  {
   "cell_type": "markdown",
   "metadata": {},
   "source": [
    "**Fitting a model:** Least-squares regression refers to finding the best-fit parameters $\\hat \\beta$ minimizing the sum of squared errors between the data and your model's predictions. There's a simple formula for this:\n",
    " \\begin{eqnarray*}\n",
    "  \\bf{\\hat{\\beta}} &=&({\\bf X}^T{\\bf X})^{-1}{\\bf X}^T{\\bf\n",
    "  y}.\n",
    " \\end{eqnarray*}\n",
    "The post-fit value and the corresponding residuals are given by\n",
    " \\begin{eqnarray*}\n",
    "  \\hat{\\bf y} = {\\bf X}\\hat{\\bf\\beta},\\qquad {\\bf e} = {\\bf y} -\n",
    "  {\\hat{\\bf y}}.\n",
    " \\end{eqnarray*}\n",
    "Linear algebra assures you that the resulting sum of the squares\n",
    "of the residuals, ${\\bf e}{\\bf e}^T$, is the smallest value\n",
    "possible."
   ]
  },
  {
   "cell_type": "markdown",
   "metadata": {},
   "source": [
    "## **The problem**: Improving telescope pointing\n",
    "\n",
    "Recall that astronomers use two coordinates to identify objects on the sky.\n",
    "- **Right ascension** (RA) is parallel to the direction of Earth's rotation, and it is a polar angle (similar to latitude on Earth).\n",
    "- **Declination** is perpendicular to right ascension, and is the azimuthal angle (similar to longitude).\n",
    "\n",
    "We will be using a linear least squares method to create and fit a model of \"pointing error\" (error in aligning to a requested set of angles) on a particular telescope, the Palomar 48-inch Oschin telescope (or P48 for short). Each night, P48 is given a long list of requested observation locations in terms of right ascension and declination. It then rotates on its two axes to find that location: These axes are called the **hour angle (HA)** and **declination (DEC)** axes.\n",
    "- Hour angle corresponds to right ascension. However, the **right ascension of a target is constant**, while the **hour angle needed to observe it changes depending on the time of day** due to the rotation of the Earth.\n",
    "\n",
    "A telescope's pointing performance measures how accurately it is able to align itself to a requested hour angle $h$ and declination angle $\\delta$. These errors are expressed $\\Delta h$ and $\\Delta \\delta$ (or \"raoff\" and \"decoff\").\n",
    "\n",
    "For this analysis, we will use a basic pointing model which accounts for a few things (explained in more detail in the appendix):\n",
    "\n",
    "1. Non-alignment of the axis of the fork of the telescope and the Earth's rotation\n",
    "2. Deviation from orthogonality between the axes of the astronomical \"latitude\" and \"longitude\" (\"hour angle\" and \"declination\") motors\n",
    "3. Lack of parallelism between the optical and mechanical axes of the telescope (\"collimation\") and \n",
    "4. A simple model for the mechanical warping (\"flexure\") of the telescope.\n",
    "\n",
    "This model is described in a classic paper by [P. T. Wallace & K. P. Tritton (1979; MNRAS)](http://articles.adsabs.harvard.edu/pdf/1979MNRAS.189..115W). It has been applied to other telescopes than the P48 since its publication: This model estimated that the UK 48-inch Schmidt telescope, a later version of the P48, could accurately point to locations on the sky to within 1/10 of a degree.\n",
    "\n",
    "### The model\n",
    "\n",
    "The Wallace & Tritton model maps a series of requested angles, $\\bf h$ and $\\bf \\delta$, to the expected errors on these angles. The equation is given below:\n",
    "\\begin{eqnarray}\n",
    "\t\t\\label{eq:dh}\n",
    "\t\\Delta h&=& \\tan(\\delta)\\big[{\\rm ME}\\sin(h)-{\\rm MA}\\cos(h)+{\\rm NP}\\big]+\n",
    "\t+ {\\rm CH}\\sec(\\delta) + {\\rm IH}\\\\\n",
    "\t\t\\label{eq:dd}\\cr\n",
    "\t\\Delta\\delta &=& \\cos(h)\\big[{\\rm ME}+{\\rm FO}\\big]+{\\rm MA}\\sin(h)+{\\rm ID}\n",
    "\\end{eqnarray}\n",
    "\n",
    "There are 7 parameters in this model: $\\rm ME$, $\\rm MA$, $\\rm NP$, $\\rm CH$, $\\rm FO$, $\\rm ID$, and $\\rm IH$ (these are described in much more detail in the appendix). Thus, we can construct a vector for $\\bf \\beta$:\n",
    "\n",
    " \\begin{equation*}\n",
    "  {\\bf\\beta}\\equiv\\begin{pmatrix} {\\rm ME}\\\\ {\\rm MA}\\\\ {\\rm NP}\\\\\n",
    "  {\\rm CH}\\\\ {\\rm FO}\\\\ {\\rm ID}\\\\ {\\rm IH} \\end{pmatrix}.\n",
    " \\end{equation*}\n",
    "\n",
    "Similarly, we are trying to predict the errors $\\Delta h$ and $\\Delta \\delta$ on each measurement. Thus, if we are taking $n$ measurements, we can (arbitrarily) construct $\\bf y$ as a $2n \\times 1$ vector like so:\n",
    "\n",
    " \\begin{equation*}\n",
    "  {\\bf y}\\equiv\\begin{pmatrix} \\Delta h_1\\\\ \\Delta\\delta_1\\\\ \\Delta\n",
    "  h_2\\\\ \\Delta\\delta_2\\\\ ...\n",
    " \\end{pmatrix}\n",
    "\\end{equation*} where the subscript is the index of the measurements,\n",
    "$i=1,2,...n_{meas}$. (This approach is not unique. For instance, we could\n",
    "have listed all of $\\Delta h$ first and followed it by $\\Delta\\delta$. Similarly, we could have constructed $\\beta$ differently.)\n",
    "\n",
    "Having specified ${\\bf y}$ and ${\\bf\\beta}$ we now have fully\n",
    "specified the rules for  constructing the response matrix, ${\\bf\n",
    "X}$.  For instance, consider a pair or rows of ${\\bf X}$  with row\n",
    "index  $K=2i-1$ and $ K^\\prime=K+1$:\n",
    " \\begin{eqnarray*}\n",
    "  {\\bf X}=\\begin{bmatrix}\n",
    "   .&.&.&.&.&.&.&\\\\\n",
    "    \\sin(h_K)\\tan(\\delta_K) & -\\cos(h_K)\\tan(\\delta_K) & \\tan(\\delta_K)&\n",
    "   \\sec(\\delta_K) &0 &0 &1\\\\ \\cos(h_{K^\\prime}) & \\sin(h_{K^\\prime})\n",
    "  & 0 & 0 & \\cos(h_{K^\\prime}) & 1 & 0\\\\\n",
    "   .&.&.&.&.&.&.&\n",
    " \\end{bmatrix}. \n",
    "\\end{eqnarray*}  \n",
    "The size of ${\\bf X}$ matrix is ($2n,7$) whereas that of ${\\bf y}$ is $(2n,1)$.\n",
    "\n",
    "With $\\bf y$, $\\bf \\beta$ and $\\bf X$ defined, we have completely specified the model. We now need to fit it via least squares regression.\n",
    "\n",
    "### Data\n",
    "\n",
    "In the \"data/\" folder, we placed files which yields offsets for a given night. Each field\n",
    "observed during a given night results in a data record: time,\n",
    "ra, dec, ha, raoff, decoff.  The collection of records for a given\n",
    "night constitute our basic and essential data.  Refined\n",
    "models would benefit from having pressure and temperature (top of\n",
    "dome, bottom of dome, ambient) data."
   ]
  },
  {
   "cell_type": "code",
   "execution_count": 1,
   "metadata": {},
   "outputs": [
    {
     "name": "stderr",
     "output_type": "stream",
     "text": [
      "WARNING: IllegalSecondWarning: 'second' was found  to be '60', which is not in range [0,60). Treating as 0 sec, +1 min [astropy.coordinates.angle_utilities]\n"
     ]
    }
   ],
   "source": [
    "%matplotlib inline\n",
    "\n",
    "import numpy as np\n",
    "import pandas as pd\n",
    "from astropy.table import Table\n",
    "from astropy.coordinates import Angle\n",
    "from astropy.time import Time\n",
    "import astropy.units as u\n",
    "import matplotlib.pyplot as plt\n",
    "\n",
    "INFILE='data/2021-02-04.csv'\n",
    "df = pd.read_csv(INFILE)\n",
    "t = Table.from_pandas(df)\n",
    "\n",
    "start_times, end_times = [], []\n",
    "ras, decs, has = [], [], []\n",
    "ra_offset, dec_offset = [], []\n",
    "for row in t:\n",
    "    start_times.append(Time(row[\"start_time\"], format=\"iso\"))\n",
    "    end_times.append(Time(row[\"end_time\"], format=\"iso\"))\n",
    "    ras.append(Angle(row[\"ra\"], unit=u.hour).deg)\n",
    "    decs.append(Angle(row[\"dec\"], unit=u.deg).deg)\n",
    "    has.append(Angle(row[\"ha\"], unit=u.hour).deg)\n",
    "t[\"start_time\"], t[\"end_time\"] = start_times, end_times\n",
    "t[\"ra\"], t[\"dec\"], t[\"ha\"] = ras, decs, has"
   ]
  },
  {
   "cell_type": "markdown",
   "metadata": {},
   "source": [
    "## Q1: Form the X-array and y-array (in preparation for least-squares)"
   ]
  },
  {
   "cell_type": "code",
   "execution_count": 3,
   "metadata": {},
   "outputs": [],
   "source": [
    "def genX_tpoint(ha, dec):\n",
    "    sh=np.sin(ha*(2*np.pi/360))\n",
    "    ch=np.cos(ha*(2*np.pi/360))\n",
    "    td=np.tan(dec* (2*np.pi/360))\n",
    "    sd=1.0/np.cos(dec* (2*np.pi/360))\n",
    "\n",
    "    x = np.zeros((2,7))\n",
    "    # YOUR CODE HERE: See X equation\n",
    "    x[0,:]=[sh*td, -ch*td, td, sd, 0,  0, 1]\n",
    "    x[1,:]=[ch,     sh,    0,  0,  ch, 1, 0]\n",
    "    \n",
    "    return x\n",
    "\n",
    "n=len(t[\"ha\"])\n",
    "X=np.zeros((2*n,7))\n",
    "y=np.zeros((2*n,1))\n",
    "\n",
    "for j in range(n):\n",
    "    ind=2*j  \n",
    "    #convert raoff1 to haoff1 (see Wallace & Tritton 1976)\n",
    "    y[ind]=t[\"ra_offset\"][j]/np.cos(t[\"dec\"][j] * (2*np.pi/360))\n",
    "    y[ind+1]=t[\"dec_offset\"][j]\n",
    "\n",
    "    xhd = genX_tpoint(t[\"ha\"][j],t[\"dec\"][j])\n",
    "    X[ind,:]=xhd[0,:]\n",
    "    X[ind+1,:]=xhd[1,:]"
   ]
  },
  {
   "cell_type": "markdown",
   "metadata": {},
   "source": [
    "## Q2: Solve the least-squares problem\n",
    "\n",
    "Compute b_hat:\n",
    " \\begin{eqnarray*}\n",
    "  \\bf{\\hat{\\beta}} &=&({\\bf X}^\\prime{\\bf X})^{-1}{\\bf X}^\\prime{\\bf\n",
    "  y}.\n",
    " \\end{eqnarray*}"
   ]
  },
  {
   "cell_type": "code",
   "execution_count": 4,
   "metadata": {},
   "outputs": [
    {
     "name": "stderr",
     "output_type": "stream",
     "text": [
      "/Users/mcoughlin/opt/anaconda3/envs/ast8581/lib/python3.7/site-packages/ipykernel_launcher.py:3: FutureWarning: `rcond` parameter will change to the default of machine precision times ``max(M, N)`` where M and N are the input matrix dimensions.\n",
      "To use the future default and silence this warning we advise to pass `rcond=None`, to keep using the old, explicitly pass `rcond=-1`.\n",
      "  This is separate from the ipykernel package so we can avoid doing imports until\n"
     ]
    }
   ],
   "source": [
    "# YOUR CODE HERE\n",
    "D=np.dot(X.T,X)\n",
    "b_hat = np.dot(np.linalg.lstsq(D, X.T)[0],y) \n",
    "\n",
    "MODEL = {}\n",
    "MODEL[\"ME\"] = b_hat[0]\n",
    "MODEL[\"MA\"] = b_hat[1]\n",
    "MODEL[\"NP\"] = b_hat[2]\n",
    "MODEL[\"CH\"] = b_hat[3]\n",
    "MODEL[\"FO\"] = b_hat[4]\n",
    "MODEL[\"ID\"] = b_hat[5]\n",
    "MODEL[\"IH\"] = b_hat[6]"
   ]
  },
  {
   "cell_type": "markdown",
   "metadata": {},
   "source": [
    "## Q3: Plot the residuals as a function of HA and Declination\n",
    "\n",
    "What is the approximate size of the circle (in arcseconds) which contains most of the points?"
   ]
  },
  {
   "cell_type": "code",
   "execution_count": 5,
   "metadata": {},
   "outputs": [],
   "source": [
    "def model_offsets(MODEL, ha, dec):\n",
    "    ME = MODEL[\"ME\"]\n",
    "    MA = MODEL[\"MA\"]\n",
    "    NP = MODEL[\"NP\"]\n",
    "    CH = MODEL[\"CH\"]\n",
    "    FO = MODEL[\"FO\"]\n",
    "    ID = MODEL[\"ID\"]\n",
    "    IH = MODEL[\"IH\"]\n",
    "\n",
    "    m_raoff=((ME*np.sin(ha*(2*np.pi/360))-MA*np.cos(ha*(2*np.pi/360)))*np.tan(dec*(2*np.pi/360))+\\\n",
    "             NP*np.tan(dec*(2*np.pi/360)) + CH/np.cos(dec*(2*np.pi/360)) + IH)*np.cos(dec*(2*np.pi/360))\n",
    "    m_decoff=(ME+FO)*np.cos(ha*(2*np.pi/360)) + MA*np.sin(ha*(2*np.pi/360)) + ID\n",
    "\n",
    "    return m_raoff, m_decoff\n",
    "\n",
    "m_raoff, m_decoff = model_offsets(MODEL, t[\"ha\"], t[\"dec\"])"
   ]
  },
  {
   "cell_type": "code",
   "execution_count": 6,
   "metadata": {},
   "outputs": [
    {
     "data": {
      "text/plain": [
       "(-50.0, 50.0)"
      ]
     },
     "execution_count": 6,
     "metadata": {},
     "output_type": "execute_result"
    },
    {
     "data": {
      "image/png": "[encoded data removed]",
      "text/plain": [
       "<Figure size 864x864 with 1 Axes>"
      ]
     },
     "metadata": {
      "needs_background": "light"
     },
     "output_type": "display_data"
    }
   ],
   "source": [
    "plt.figure(figsize=(12,12))\n",
    "plt.plot(t[\"ra_offset\"]-m_raoff, t[\"dec_offset\"]-m_decoff, 'k+')\n",
    "thetas = np.linspace(0,2*np.pi,1000)\n",
    "R = 30\n",
    "plt.plot(R*np.cos(thetas), R*np.sin(thetas))\n",
    "plt.xlabel('$\\\\Delta \\\\alpha$ [measured-model]')\n",
    "plt.ylabel('$\\\\Delta \\\\delta$ [measured-model]')\n",
    "plt.xlim([-50,50])\n",
    "plt.ylim([-50,50])"
   ]
  },
  {
   "cell_type": "markdown",
   "metadata": {},
   "source": [
    "The TPOINT model parameters show that the largest terms contributing to the error budget are due to collimation and flexure. Beyond that there are unexplained offsets arising in the far East (HA$>4$\\,hr) and far North ($\\delta>60^\\circ$)."
   ]
  },
  {
   "cell_type": "markdown",
   "metadata": {
    "slideshow": {
     "slide_type": "slide"
    }
   },
   "source": [
    "## Q4: Using a Gaussian Process to improve upon the estimates"
   ]
  },
  {
   "cell_type": "code",
   "execution_count": 10,
   "metadata": {
    "slideshow": {
     "slide_type": "slide"
    }
   },
   "outputs": [],
   "source": [
    "# RUN THIS\n",
    "from sklearn.gaussian_process import GaussianProcessRegressor\n",
    "from sklearn.gaussian_process.kernels import RBF, Matern, DotProduct, ConstantKernel, RationalQuadratic"
   ]
  },
  {
   "cell_type": "markdown",
   "metadata": {
    "slideshow": {
     "slide_type": "slide"
    }
   },
   "source": [
    "As a reminder from class: for our data to be well interpolated by this Gaussian Process, it will need to be rescaled such that it has zero mean and unit variance. There are [standard methods for doing this](http://scikit-learn.org/stable/modules/preprocessing.html), but we'll do this rescaling here for transparency - and so we know what to add back in later!"
   ]
  },
  {
   "cell_type": "code",
   "execution_count": 11,
   "metadata": {
    "slideshow": {
     "slide_type": "subslide"
    }
   },
   "outputs": [],
   "source": [
    "class Rescale():\n",
    "    def __init__(self, y):\n",
    "        self.original_data = y\n",
    "        self.mean = np.mean(y)\n",
    "        self.std = np.std(y)\n",
    "        self.transform()\n",
    "        return\n",
    "    def transform(self):\n",
    "        self.y = (self.original_data - self.mean) / self.std\n",
    "        return()\n",
    "    def invert(self, scaled_y):\n",
    "        return (scaled_y * self.std + self.mean)     "
   ]
  },
  {
   "cell_type": "code",
   "execution_count": 12,
   "metadata": {
    "slideshow": {
     "slide_type": "subslide"
    }
   },
   "outputs": [],
   "source": [
    "train_idx = np.random.choice(np.arange(len(t[\"ha\"])),int(len(t[\"ha\"])/3),replace=False)\n",
    "test_idx = np.setdiff1d(np.arange(len(t[\"ha\"])), train_idx)\n",
    "\n",
    "ha_rescaled = Rescale(t[\"ha\"])\n",
    "dec_rescaled = Rescale(t[\"dec\"])\n",
    "ra_offset_rescaled = Rescale(t[\"ra_offset\"])\n",
    "dec_offset_rescaled = Rescale(t[\"dec_offset\"])"
   ]
  },
  {
   "cell_type": "markdown",
   "metadata": {
    "slideshow": {
     "slide_type": "slide"
    }
   },
   "source": [
    "Use the GaussianProcessRegressor with a RationalQuadratic kernel to predict the offsets"
   ]
  },
  {
   "cell_type": "code",
   "execution_count": 13,
   "metadata": {
    "slideshow": {
     "slide_type": "subslide"
    }
   },
   "outputs": [],
   "source": [
    "# Use all of our datapoints:\n",
    "x_rescaled = np.vstack((ha_rescaled.y,dec_rescaled.y)).T\n",
    "rescaled_ra_y = ra_offset_rescaled.y.T\n",
    "rescaled_dec_y = dec_offset_rescaled.y.T\n",
    "\n",
    "# Instantiate a GP model, including observational errors:\n",
    "kernel = RationalQuadratic(length_scale=1.0, alpha=0.1)\n",
    "\n",
    "gp_ra = GaussianProcessRegressor(kernel=kernel, n_restarts_optimizer=9, \n",
    "                                 random_state=0)\n",
    "\n",
    "# Fit it to our noisy datapoints:\n",
    "gp_ra.fit(x_rescaled[train_idx,:], rescaled_ra_y[train_idx])\n",
    "\n",
    "# Now predict y(x) everywhere on our xgrid: \n",
    "rescaled_ygrid_ra, rescaled_ygrid_ra_err = gp_ra.predict(x_rescaled[test_idx,:], return_std=True)\n",
    "\n",
    "# And undo scaling:\n",
    "ra_y = ra_offset_rescaled.invert(rescaled_ygrid_ra)\n",
    "\n",
    "gp_dec = GaussianProcessRegressor(kernel=kernel, n_restarts_optimizer=9, \n",
    "                                  random_state=0)\n",
    "\n",
    "# Fit it to our noisy datapoints:\n",
    "gp_dec.fit(x_rescaled[train_idx,:], rescaled_dec_y[train_idx])\n",
    "\n",
    "# Now predict y(x) everywhere on our xgrid: \n",
    "rescaled_ygrid_dec, rescaled_ygrid_dec_err = gp_dec.predict(x_rescaled[test_idx,:], return_std=True)\n",
    "\n",
    "# And undo scaling:\n",
    "dec_y = dec_offset_rescaled.invert(rescaled_ygrid_dec)"
   ]
  },
  {
   "cell_type": "markdown",
   "metadata": {},
   "source": [
    "## Q5: Plot the residuals as a function of HA and Declination\n",
    "\n",
    "What is the approximate size of the circle (in arcseconds) which contains most of the points? Did your Gaussian Process improve over the linear regression?"
   ]
  },
  {
   "cell_type": "code",
   "execution_count": 15,
   "metadata": {},
   "outputs": [
    {
     "data": {
      "text/plain": [
       "(-50.0, 50.0)"
      ]
     },
     "execution_count": 15,
     "metadata": {},
     "output_type": "execute_result"
    },
    {
     "data": {
      "image/png": "[encoded data removed]",
      "text/plain": [
       "<Figure size 864x864 with 1 Axes>"
      ]
     },
     "metadata": {
      "needs_background": "light"
     },
     "output_type": "display_data"
    }
   ],
   "source": [
    "# YOUR CODE HERE\n",
    "plt.figure(figsize=(12,12))\n",
    "plt.plot(t[\"ra_offset\"][test_idx]-ra_y, t[\"dec_offset\"][test_idx]-dec_y, 'k+')\n",
    "thetas = np.linspace(0,2*np.pi,1000)\n",
    "R = 30\n",
    "plt.plot(R*np.cos(thetas), R*np.sin(thetas))\n",
    "plt.xlabel('$\\\\Delta \\\\alpha$ [measured-model]')\n",
    "plt.ylabel('$\\\\Delta \\\\delta$ [measured-model]')\n",
    "plt.xlim([-50,50])\n",
    "plt.ylim([-50,50])"
   ]
  },
  {
   "cell_type": "markdown",
   "metadata": {},
   "source": [
    "# Problem 2: The Story of GW170817"
   ]
  },
  {
   "cell_type": "markdown",
   "metadata": {},
   "source": [
    "Since 2015, astronomers have detected roughly 20 confirmed signals from gravitational waves (GWs), with dozens more unconfirmed candidate signals. The science of GWs has been driven by three GW detectors: Two [LIGO detectors](https://www.ligo.caltech.edu/page/what-is-ligo) at Hanford, WA and Livingston, LA, plus the [Virgo detector](http://public.virgo-gw.eu/virgo-in-a-nutshell/) in Italy.\n",
    "\n",
    "Before Aug 17th, 2017, there were only 4 confirmed detections of gravitational waves: GW150914 (the first one), GW151226, GW170104, and GW170814 (plus LVT151012 as a tentative detection). The last one (GW170814) is the first detected by both LIGO and VIRGO, which joined the collaboration on Aug 1st, 2017. So, it was only a few days after that that they detected another very important event.\n",
    "\n",
    "On Aug 17th, 2017, at 12:41:04 UTC, a clear signal was detected by LIGO-Hanford (just at the end of the second LIGO cycle – 9 days later and LIGO would have have been off!). The raw data from LIGO-Livingston detector included a glitch. After reprocessing the data to remove this artifact there was a another clear signal. The VIRGO didn’t manage to show any significant signal but that was due to its antenna orientation and sensitivity (which is important to constrain the sky positions though). The duration of the signal was approximately 60 s [allowing for about 3000 cycles.] (remove?) This was the longest and the strongest (at SNR~32.4) signal detected so far.\n",
    "\n",
    "<img src=\"figures/GW170817-bns_figure1.png\" alt=\"\" width=\"500\" height=\"695\">\n",
    "\n",
    "However, such a long signal is expected to be produced by the merging of neutron stars. And indeed the total mass estimate was 2.73–3.29 M☉ (where M☉ = the Sun's mass) with a mass ratio of 0.4–1.0 between the merging objects. This means that the individual masses of the sources that merged were 1.36–2.26 M☉ and 0.86–1.36 M☉, well within the limits of neutron star masses.\n",
    "\n",
    "<img src=\"figures/GW170817-milkyway-triangulation-small.png\" alt=\"\" width=\"500\" height=\"695\">\n",
    "\n",
    "We can pinpoint sources like GW170817 much more accurately now that we can triangulate the signal between Hanford, Livingston, and Virgo. Above, the rapid Hanford-Livingston localization is shown in blue, and the final Hanford-Livingston-Virgo localization is in green. The gray rings are one-sigma triangulation constraints from the three detector pairs.\n",
    "\n",
    "Almost at the same time (~2s after the GW detection) FERMI (and INTEGRAL) detected a short Gamma-Ray Burst (GRB170817A). The detection of such a contemporaneous signal triggered the community that something exceptional was going on. It is interesting to note that the detection of the GRB only (without any GW detection) wouldn’t be sufficient to mobilize a follow-up campaign, especially because the error of sky position from FERMI is huge. The localization obtained from the GW detection and the information that an electromagnetic (EM) counterpart may exist increased the significance of this source.\n",
    "\n",
    "<img src=\"figures/GW170817-data-mod.png\" alt=\"\" width=\"500\" height=\"695\">\n",
    "\n",
    "### Searching for the kilonova\n",
    "\n",
    "Apart from the gravitational waves, a neutron star merger would become visible in the electromagnetic (EM) spectrum as a **kilonova**. By 2017, several kilonovae had already been oberved, and it was known that they typically peaked in brightness for only a few days before fading.\n",
    "\n",
    "Very soon after the detection all collaborators of LIGO/VIRGO were informed about the possible EM counterpart. Around 70 teams around the world started using almost all available (both ground and space) telescopes to detect and study it. The collaboration quickly compiled a list of ~100 candidate galaxies according to the properties derived from the GW detection (see [Coulter et al. 2017](https://ui.adsabs.harvard.edu/abs/2017Sci...358.1556C/abstract) for more details), and aimed to find new light sources in these galaxies. The Swope telescope in Chile was the best-positioned for these observaitons, and on only the 9th image (and only 20 minutes into their observations) Swope discovered a new light source in the galaxy NGC 4993 -- a galaxy they had classified as the 12th most probable to host the GW source. (Impressively, its V magnitude was at 17.35 mag, which was bright enough to be visible by many amateur astronomers!)\n",
    "\n",
    "Luck was definitely on our side, as the position and the timings were marginal: the GRB was not exciting by itself, SSS17a was setting within one hour, the transient would have been hidden behind the Sun one month later, and only 9 days later LIGO would have been down. Despite these constraints, the astronomical community and the whole collaboration proved to be prepared enough not to lose this unique opportunity. The event mobilized almost half the astronomers around the globe (approximately 4000 people in a community of 10000). This led to a an impressive number of publications counting ~250 GCN circulars and ~80 papers during the “first wave” of its announcement only (with the most striking cases of the ApJ Letter of 60 pages containing all obtained observations; LIGO et al. 2017). The new era of multi-messenger astronomy is here and will routinely discover and study new events aftert the future upgrades of the GW detectors.\n"
   ]
  },
  {
   "cell_type": "markdown",
   "metadata": {},
   "source": [
    "### The kilonova lightcurve\n",
    "\n",
    "The image below shows the kilonova as it was observed on August 17, 2017:\n",
    "\n",
    "<img src=\"figures/GW170817-Coulter2017-F4.large_.jpg\" alt=\"\" width=\"500\" height=\"695\">\n",
    "\n",
    "Both the light curves and the spectra display fast changes in the temperature of the material expelled from the collision:\n",
    "\n",
    "<img src=\"figures/GW170817-Drout2017-F3.large_.jpg\" alt=\"\" width=\"500\" height=\"695\">\n",
    "\n",
    "Even within the first hour of observations the spectra show a drop of temperature from ~11000K to 9300K, which is indicative of a material expansion at ~0.3c.\n",
    "\n",
    "![GW170817 timelapse](figures/Time-lapse-sequence-of-kilonova.gif)\n",
    "\n",
    "In total, its evolution was remarkably fast, unlike anything else we have observed so far.\n",
    "\n",
    "This very fast expansion of the material and its cooling could be attributed to the formation of lanthanide elements through the [r-process](https://en.wikipedia.org/wiki/R-process). All elements up to Fe can be produced within the massive stars and some of the heavier elements during their supernovae explosions. Theory predicted that the majority of the heaviest elements (such as gold, platinum, uranium, etc) should be produced during the merging process of neutron stars, where a large number of neutrons are available within very short times. But we lacked observations up to now.\n",
    "\n",
    "The current models of kilonovae are only partly able to fit the our observed data on kilonovae, but help to derive important conclusions regarding the nature of these explosions. In particular, SSS17a could be described better by a two-component mass ejection, with each component being responsible mainly for the the early and later behavior. Estimates of the released material reach up to a few Earth masses for gold and platinum (and up to 16000 Earth masses for heavier elements in total).\n"
   ]
  },
  {
   "cell_type": "markdown",
   "metadata": {},
   "source": [
    "## **Problem summary:** Predicting neutron star properties from the GW170817 lightcurve\n",
    "\n",
    "As explained in the intro, the astronomical community went to immense effort to obtain the lightcurve for the GW170817 kilonova. How can we analyze this lightcurve to obtain information about the neutron stars that merged? In this problem, we will use **PCA** and **Gaussian process modeling** to determine the a best-fit model for GW170817's lightcurve from a grid of modeled lightcurves.\n",
    "\n",
    "---\n",
    "\n",
    "**The model grid:** While kilonova observations are rare, astronomers have been able to model the lightcurve that would arise given a set of initial conditions. For this problem, we will use a grid of models from [Dietrich et al. 2020](https://arxiv.org/pdf/2002.11355.pdf) that predict kilonova lightcurves based on a small number of parameters that describe the merger. These models use four parameters ($M^{dyn}_{ej}$, $M^{wind}_{ej}$, $\\phi$ and $\\theta$), which are described more fully in paper.*\n",
    "\n",
    "(In short: $M^{dyn}_{ej}$ and $M^{wind}_{ej}$ measure the amount of mass ejected from the merger due to different processes, while $\\phi$ is related to the chemical composition of this ejected mass and $\\theta$ is the angle between the merger's plane of rotation and the observer.)\n",
    "\n",
    "**Fitting a model to GW170817's lightcurve:** Our goal for this problem is to to determine the best-fit model parameters for GW170817 based on its observed lightcurve. While this will be similar to model-fitting tasks on past homeworks, there are two major obstacles in our way this time:\n",
    "1. We don't have a continuous map between \"merger parameters\" and \"observed lightcurves\". Instead, we only know the observed lightcurves for the DISCRETE grid of parameters for which lightcurves were simulated. (Eg: we may know the lightcurves to expect for $m_{ejected} = m_1$ and $m_{ejected} = m_2$, but not for any masses between $m_1$ and $m_2$.)\n",
    "2. The lightcurve predicted by each set of parameters is **extremely high-dimensional**: It predicts the magnitude of the kilonova at MANY different times following the neutron star merger.\n",
    "\n",
    "Fortunately, we now have the tools to overcome these obstacles! The outline of this problem is as follows:\n",
    "- First, you will reduce the dimensionality of the lightcurve dataset by using PCA: Each lightcurve will be represented by a small number of \"eigenvalues\", rather than the full lightcurve. After performing PCA, you will have a discrete grid of models that relate merger parameters to a few **lightcurve eigenvalues** rather than the whole lightcurve.\n",
    "- Next, you will model this grid as a Gaussian process. This will allow you to form a **continuous map** from merger parameters to lightcurve eigenvalues.\n",
    "- Finally, you will calculate the eigenvalues of the GW170817 lightcurve itself. Using the map from above, you can convert these eigenvalues directly to the set of merger parameters that most likely resulted in this lightcurve!\n",
    "\n",
    "At the end of this problem, you will have predicted the **total mass ejected** from the GW170817 merger as well as some of its **chemical properties**.\n"
   ]
  },
  {
   "cell_type": "code",
   "execution_count": 26,
   "metadata": {},
   "outputs": [],
   "source": [
    "# RUN THIS\n",
    "\n",
    "import pandas as pd\n",
    "import os\n",
    "import sys\n",
    "import glob\n",
    "import numpy as np\n",
    "from scipy.interpolate import interpolate as interp\n",
    "import scipy as sp\n",
    "import matplotlib.pyplot as plt\n",
    "from matplotlib.pyplot import cm\n",
    "import seaborn as sns\n",
    "import sklearn as sk\n",
    "import pickle\n",
    "\n",
    "from sklearn.gaussian_process import GaussianProcessRegressor\n",
    "from sklearn.gaussian_process.kernels import RBF, Matern, DotProduct, ConstantKernel, RationalQuadratic\n",
    "\n",
    "sns.set(style=\"ticks\")\n",
    "%matplotlib inline"
   ]
  },
  {
   "cell_type": "code",
   "execution_count": 2,
   "metadata": {},
   "outputs": [],
   "source": [
    "# RUN THIS\n",
    "\n",
    "def read_files(files, tt, filts):\n",
    "\n",
    "    names = []\n",
    "    mags = {}\n",
    "    for filename in files:\n",
    "        name = filename.replace(\".txt\",\"\").replace(\".dat\",\"\").split(\"/\")[-1]\n",
    "        mag_d = np.loadtxt(filename)\n",
    "\n",
    "        t = mag_d[:,0]\n",
    "        mags[name] = {}\n",
    "        mags[name][\"t\"] = mag_d[:,0]\n",
    "        mags[name][\"u\"] = mag_d[:,1]\n",
    "        mags[name][\"g\"] = mag_d[:,2]\n",
    "        mags[name][\"r\"] = mag_d[:,3]\n",
    "        mags[name][\"i\"] = mag_d[:,4]\n",
    "        mags[name][\"z\"] = mag_d[:,5]\n",
    "        mags[name][\"y\"] = mag_d[:,6]\n",
    "        mags[name][\"J\"] = mag_d[:,7]\n",
    "        mags[name][\"H\"] = mag_d[:,8]\n",
    "        mags[name][\"K\"] = mag_d[:,9]\n",
    "\n",
    "        names.append(name)\n",
    "\n",
    "    magkeys = mags.keys()    \n",
    "    for jj, key in enumerate(magkeys):\n",
    "        keySplit = key.split(\"_\")\n",
    "\n",
    "        if \"nsns\" in key:\n",
    "\n",
    "            mejdyn = float(keySplit[2].replace(\"mejdyn\",\"\"))\n",
    "            mejwind = float(keySplit[3].replace(\"mejwind\",\"\"))\n",
    "            phi0 = float(keySplit[4].replace(\"phi\",\"\"))\n",
    "            theta = float(keySplit[5])\n",
    "\n",
    "            mags[key][\"mej_dyn\"] = mejdyn\n",
    "            mags[key][\"mej_wind\"] = mejwind\n",
    "            mags[key][\"phi\"] = phi0\n",
    "            mags[key][\"theta\"] = theta\n",
    "\n",
    "        elif \"nsbh\" in key:\n",
    "\n",
    "            mej_dyn = float(keySplit[2].replace(\"mejdyn\",\"\"))\n",
    "            mej_wind = float(keySplit[3].replace(\"mejwind\",\"\"))\n",
    "            phi = float(keySplit[4].replace(\"phi\",\"\"))\n",
    "            theta = float(keySplit[5])\n",
    "\n",
    "            mags[key][\"mej_dyn\"] = mej_dyn\n",
    "            mags[key][\"mej_wind\"] = mej_wind\n",
    "            #mags[key][\"phi\"] = phi\n",
    "            mags[key][\"theta\"] = theta\n",
    "           \n",
    "        # Interpolate data onto grid\n",
    "        mags[key][\"data\"] = np.zeros((len(tt),len(filts)))\n",
    "        for jj,filt in enumerate(filts):\n",
    "            ii = np.where(np.isfinite(mags[key][filt]))[0]\n",
    "            f = interp.interp1d(mags[key][\"t\"][ii], mags[key][filt][ii], fill_value='extrapolate')\n",
    "            maginterp = f(tt)\n",
    "            mags[key][\"data\"][:,jj] = maginterp\n",
    "        mags[key][\"data_vector\"] = np.reshape(mags[key][\"data\"],(len(tt)*len(filts),1))\n",
    "            \n",
    "    return mags"
   ]
  },
  {
   "cell_type": "markdown",
   "metadata": {},
   "source": [
    "## Load and Explore Data\n",
    "\n",
    "First, we will load the kilonova lightcurve models and have a look at them.\n",
    "\n",
    "In the cell below, a few key variables are defined:\n",
    "- `models` is a dictionary mapping the \"name\" of each model to the associated parameters & lightcurves of those models.\n",
    "- `modelkeys` is a list of all available model names\n",
    "- `filts` lists the particular filter bands on which we'll focus"
   ]
  },
  {
   "cell_type": "code",
   "execution_count": 4,
   "metadata": {},
   "outputs": [],
   "source": [
    "# RUN THIS\n",
    "\n",
    "# The number of PCA components we'll use to represent each lightcurve\n",
    "n_coeff = 3 \n",
    "\n",
    "# The array of post-merger times we'll use to examine each lightcurve\n",
    "tini, tmax, dt = 0.1, 5.0, 0.2 \n",
    "tt = np.arange(tini,tmax+dt,dt) # \n",
    "\n",
    "# The filters we'll be focusing on\n",
    "filts = ['g','r']  # We will focus on these two bands; all available: [\"u\",\"g\",\"r\",\"i\",\"z\",\"y\",\"J\",\"H\",\"K\"]\n",
    "\n",
    "# The model type we'll be focusing on\n",
    "objtype = \"BNS\" # for \"binary neutron star\" -- can also choose \"NSBH\" for \"neutron star - black hole\"\n",
    "\n",
    "# Defines the files containing model data\n",
    "dataDir = \"data/%s\" % objtype\n",
    "ModelPath = 'models'\n",
    "filenames = glob.glob('%s/*.dat'%dataDir)\n",
    "\n",
    "# Loads the model data\n",
    "models = read_files(filenames, tt, filts)\n",
    "modelkeys = list(models.keys())"
   ]
  },
  {
   "cell_type": "markdown",
   "metadata": {},
   "source": [
    "## Q1: Plot the **modeled** lightcurve of a kilonova \n",
    "\n",
    "Below, plot one of the models from the `models` dictionary. Plot the modeled lightcurve (absolute magnitude vs. time in days) in the r-band and the g-band.\n",
    "\n",
    "(You're welcome to plot multiple if you wish -- just don't plot all 2,000+ models!)"
   ]
  },
  {
   "cell_type": "code",
   "execution_count": 7,
   "metadata": {},
   "outputs": [
    {
     "data": {
      "image/png": "[encoded data removed]",
      "text/plain": [
       "<Figure size 576x432 with 1 Axes>"
      ]
     },
     "metadata": {
      "needs_background": "light"
     },
     "output_type": "display_data"
    }
   ],
   "source": [
    "model = models[list(modelkeys)[0]]\n",
    "\n",
    "colors=cm.rainbow(np.linspace(0,1,len(filts)))\n",
    "plt.figure(figsize=(8,6))\n",
    "for filt, color in zip(filts,colors):\n",
    "    plt.plot(model[\"t\"],model[filt],alpha=1.0,c=color,label=filt)\n",
    "plt.xlabel('Time [days]')\n",
    "plt.ylabel('Absolute AB Magnitude')\n",
    "plt.ylim([-18,-8])\n",
    "plt.legend(loc=\"lower center\",ncol=5)\n",
    "plt.gca().invert_yaxis()"
   ]
  },
  {
   "cell_type": "markdown",
   "metadata": {},
   "source": [
    "## What did the GW170817 data look like?\n",
    "\n",
    "Below, we read in the actual photometry observed from the 2017 kilonova."
   ]
  },
  {
   "cell_type": "code",
   "execution_count": 10,
   "metadata": {},
   "outputs": [],
   "source": [
    "# RUN THIS\n",
    "\n",
    "from astropy.time import Time\n",
    "\n",
    "def loadEvent(filename):\n",
    "    lines = [line.rstrip('\\n') for line in open(filename)]\n",
    "    lines = filter(None,lines)\n",
    "\n",
    "    data = {}\n",
    "    for line in lines:\n",
    "        lineSplit = line.split(\" \")\n",
    "        lineSplit = list(filter(None,lineSplit))\n",
    "        mjd = Time(lineSplit[0], format='isot').mjd\n",
    "        filt = lineSplit[1]\n",
    "        mag = float(lineSplit[2])\n",
    "        dmag = float(lineSplit[3])\n",
    "\n",
    "        if not filt in data:\n",
    "            data[filt] = np.empty((0,3), float)\n",
    "        data[filt] = np.append(data[filt],np.array([[mjd,mag,dmag]]),axis=0)\n",
    "\n",
    "    return data \n",
    "    \n",
    "filename = \"data/GW170817.dat\"\n",
    "T0 = 57982.5285236896 # Merger time\n",
    "distance = 40\n",
    "\n",
    "data_out = loadEvent(filename)\n",
    "\n",
    "for ii,key in enumerate(list(data_out.keys())):\n",
    "    if key == \"t\":\n",
    "        continue\n",
    "    else:\n",
    "        data_out[key][:,0] = data_out[key][:,0] - T0\n",
    "        data_out[key][:,1] = data_out[key][:,1] - 5*(np.log10(distance*1e6) - 1)\n",
    "\n",
    "for ii,key in enumerate(list(data_out.keys())):\n",
    "    if key == \"t\":\n",
    "        continue\n",
    "    else:\n",
    "        idxs = np.intersect1d(np.where(data_out[key][:,0]>=tini)[0],np.where(data_out[key][:,0]<=tmax)[0])\n",
    "        data_out[key] = data_out[key][idxs,:]\n",
    "\n",
    "for ii,key in enumerate(list(data_out.keys())):\n",
    "    idxs = np.where(~np.isnan(data_out[key][:,2]))[0]\n",
    "    if key == \"t\":\n",
    "        continue\n",
    "    else:\n",
    "        data_out[key] = data_out[key][idxs,:]\n",
    "\n",
    "for ii,key in enumerate(list(data_out.keys())):\n",
    "    if not key in filts:\n",
    "        del data_out[key]\n"
   ]
  },
  {
   "cell_type": "markdown",
   "metadata": {},
   "source": [
    "## Q2: Plot the GW170817 data\n",
    "\n",
    "Plot the photometric data for GW170817, separating lightcurves by band, and showing### Q2: Plot the GW170817 data\n",
    "\n",
    "**Plot the lightcurve for GW170817 for both the g- and r-bands.**\n",
    "\n",
    "In the cell above, we've defined the following variables:\n",
    "- `tini`, `tmax`: The minimum and maximum times we'll be examining the lightcurve over\n",
    "- `data_out`: A dictionary mapping \"filter band\" -> \"lightcurve data\"\n",
    "\n",
    "In `data_out`, each \"lightcurve data\" array contains 3 columns: [\"time (days)\", \"absolute magnitude\", and \"error on absolute magnitude\"]. You should use the data stored in these columns to plot the lightcurve (absolute magnitude vs. time) for each filter band between `tini` and `tmax`, showing the error bars on each point.\n",
    "\n",
    "Hints:\n",
    "- You'll need to remove NaNs and infinite values from your dataset.\n",
    "- The error bars will typically be small the errorbars. \n",
    "You'll note we need to remove NaNs and infinite values from your dataset."
   ]
  },
  {
   "cell_type": "code",
   "execution_count": 16,
   "metadata": {},
   "outputs": [
    {
     "data": {
      "image/png": "[encoded data removed]",
      "text/plain": [
       "<Figure size 432x288 with 2 Axes>"
      ]
     },
     "metadata": {
      "needs_background": "light"
     },
     "output_type": "display_data"
    }
   ],
   "source": [
    "# YOUR CODE HERE\n",
    "\n",
    "cnt = 0\n",
    "for filt, color in zip(filts,colors):\n",
    "    cnt = cnt+1\n",
    "    if cnt == 1:\n",
    "        ax1 = plt.subplot(len(filts),1,cnt)\n",
    "    else:\n",
    "        ax2 = plt.subplot(len(filts),1,cnt,sharex=ax1,sharey=ax1)\n",
    "\n",
    "    if not filt in data_out: continue\n",
    "    samples = data_out[filt]\n",
    "    t, y, sigma_y = samples[:,0], samples[:,1], samples[:,2]\n",
    "    idx = np.where(~np.isnan(y))[0]\n",
    "    t, y, sigma_y = t[idx], y[idx], sigma_y[idx]\n",
    "    if len(t) == 0: continue\n",
    "\n",
    "    idx = np.where(np.isfinite(sigma_y))[0]\n",
    "    plt.errorbar(t[idx],y[idx],sigma_y[idx],fmt='o',c=color, markersize=16, label='%s-band'%filt, markeredgecolor='k')\n",
    "\n",
    "    idx = np.where(~np.isfinite(sigma_y))[0]\n",
    "    plt.errorbar(t[idx],y[idx],sigma_y[idx],fmt='v',c=color, markersize=16, markeredgecolor='k')\n",
    "\n",
    "    plt.xlim([0.0, 14.0])\n",
    "    plt.ylim([-17.0,-11.0])\n",
    "    plt.gca().invert_yaxis()\n",
    "    plt.grid()\n",
    "    \n",
    "    plt.ylabel(r'$%s$'%filt,fontsize=20,rotation=0,labelpad=20)\n"
   ]
  },
  {
   "cell_type": "markdown",
   "metadata": {},
   "source": [
    "## Q3: Can you try find a model in the `models` dictionary that fits this data \"by eye\"?\n",
    "\n",
    "Try plotting a few model lightcurves against the GW170817 lightcurve. Can you find a model that's (roughly) close to the data? If so, what is its name?\n",
    "- There are over 2,000 models, so don't spend too long on this!"
   ]
  },
  {
   "cell_type": "code",
   "execution_count": 17,
   "metadata": {},
   "outputs": [
    {
     "data": {
      "image/png": "[encoded data removed]",
      "text/plain": [
       "<Figure size 432x288 with 2 Axes>"
      ]
     },
     "metadata": {
      "needs_background": "light"
     },
     "output_type": "display_data"
    }
   ],
   "source": [
    "# Try changing the index (which changes the grid entry used)\n",
    "index = 5\n",
    "model = models[list(modelkeys)[index]]\n",
    "\n",
    "errorbudget = 1.0\n",
    "\n",
    "cnt = 0\n",
    "for filt, color in zip(filts,colors):\n",
    "    cnt = cnt+1\n",
    "    if cnt == 1:\n",
    "        ax1 = plt.subplot(len(filts),1,cnt)\n",
    "    else:\n",
    "        ax2 = plt.subplot(len(filts),1,cnt,sharex=ax1,sharey=ax1)\n",
    "\n",
    "    if not filt in data_out: continue\n",
    "    samples = data_out[filt]\n",
    "    t, y, sigma_y = samples[:,0], samples[:,1], samples[:,2]\n",
    "    idx = np.where(~np.isnan(y))[0]\n",
    "    t, y, sigma_y = t[idx], y[idx], sigma_y[idx]\n",
    "    if len(t) == 0: continue\n",
    "\n",
    "    idx = np.where(np.isfinite(sigma_y))[0]\n",
    "    plt.errorbar(t[idx],y[idx],sigma_y[idx],fmt='o',c=color, markersize=16, label='%s-band'%filt, markeredgecolor='k')\n",
    "\n",
    "    idx = np.where(~np.isfinite(sigma_y))[0]\n",
    "    plt.errorbar(t[idx],y[idx],sigma_y[idx],fmt='v',c=color, markersize=16, markeredgecolor='k')\n",
    "\n",
    "    plt.xlim([0.0, 14.0])\n",
    "    plt.ylim([-17.0,-11.0])\n",
    "    plt.gca().invert_yaxis()\n",
    "    plt.grid()\n",
    "    \n",
    "    plt.ylabel(r'$%s$'%filt,fontsize=20,rotation=0,labelpad=20)\n",
    "    \n",
    "    model = models[list(modelkeys)[0]]\n",
    "    f = interp.interp1d(model[\"t\"], model[filt], fill_value='extrapolate')\n",
    "    modelinterp = f(tt)\n",
    "\n",
    "    plt.plot(tt,modelinterp,'--',c='k',linewidth=3)\n",
    "    plt.fill_between(tt,modelinterp-errorbudget,modelinterp+errorbudget,facecolor='k',alpha=0.2)    \n",
    "    \n"
   ]
  },
  {
   "cell_type": "markdown",
   "metadata": {},
   "source": [
    "## Q4: Preparing the data - Normalize the model parameters and lightcurve data so that they range from 0-1\n",
    "\n",
    "Recall that Gaussian processes work best on data that is scaled the same way in every dimension. To ensure this is true for this dataset, we will ensure that our **model parameters** and **lightcurve magnitudes** are scaled so that they all range between 0-1.\n",
    "\n",
    "In the cell below, we take the parameters of each model in `models` and store them in an array, `param_array_postprocess`. You should normalize each column of this array so that it ranges from 0-1; this will prepare us to find the best-fit parameters."
   ]
  },
  {
   "cell_type": "code",
   "execution_count": 18,
   "metadata": {},
   "outputs": [],
   "source": [
    "# Place the relevant parameters into an array\n",
    "param_array = []\n",
    "for key in modelkeys:\n",
    "    if objtype == \"BNS\":\n",
    "        param_array.append([np.log10(models[key][\"mej_dyn\"]),np.log10(models[key][\"mej_wind\"]),models[key][\"phi\"],models[key][\"theta\"]])\n",
    "    elif objtype == \"NSBH\":\n",
    "        param_array.append([np.log10(models[key][\"mej_dyn\"]),np.log10(models[key][\"mej_wind\"]),models[key][\"theta\"]])\n",
    "param_array_postprocess = np.array(param_array)\n",
    "        \n",
    "# YOUR CODE HERE \n",
    "param_mins, param_maxs = np.min(param_array_postprocess,axis=0),np.max(param_array_postprocess,axis=0)\n",
    "for i in range(len(param_mins)):\n",
    "    param_array_postprocess[:,i] = (param_array_postprocess[:,i]-param_mins[i])/(param_maxs[i]-param_mins[i])"
   ]
  },
  {
   "cell_type": "markdown",
   "metadata": {},
   "source": [
    "Now, we do the same thing for the lightcurve magnitudes stored in the `models` array. These will be stored in an array called `mag_array_postprocess`; make sure the columns of this array are scaled from 0-1 as well."
   ]
  },
  {
   "cell_type": "code",
   "execution_count": 38,
   "metadata": {},
   "outputs": [
    {
     "name": "stdout",
     "output_type": "stream",
     "text": [
      "Normalizing mag filter g...\n",
      "Normalizing mag filter r...\n"
     ]
    }
   ],
   "source": [
    "# Place the relevant parameters into an array\n",
    "svd_model = {}\n",
    "# Loop through filters\n",
    "for jj,filt in enumerate(filts):\n",
    "    print('Normalizing mag filter %s...' % filt)\n",
    "    mag_array = []\n",
    "    for key in modelkeys:\n",
    "        mag_array.append(models[key][\"data\"][:,jj])\n",
    "\n",
    "    mag_array_postprocess = np.array(mag_array)\n",
    "    mins,maxs = np.min(mag_array_postprocess,axis=0),np.max(mag_array_postprocess,axis=0)\n",
    "    for i in range(len(mins)):\n",
    "        mag_array_postprocess[:,i] = (mag_array_postprocess[:,i]-mins[i])/(maxs[i]-mins[i])\n",
    "    mag_array_postprocess[np.isnan(mag_array_postprocess)]=0.0\n",
    "    \n",
    "    svd_model[filt] = {}\n",
    "    svd_model[filt][\"param_array_postprocess\"] = param_array_postprocess\n",
    "    svd_model[filt][\"param_mins\"] = param_mins\n",
    "    svd_model[filt][\"param_maxs\"] = param_maxs\n",
    "    svd_model[filt][\"mins\"] = mins\n",
    "    svd_model[filt][\"maxs\"] = maxs\n",
    "    svd_model[filt][\"tt\"] = tt\n",
    "    svd_model[filt][\"mag_array_postprocess\"] = mag_array_postprocess"
   ]
  },
  {
   "cell_type": "code",
   "execution_count": 41,
   "metadata": {},
   "outputs": [
    {
     "data": {
      "text/plain": [
       "dict_keys(['param_array_postprocess', 'param_mins', 'param_maxs', 'mins', 'maxs', 'tt', 'mag_array_postprocess', 'n_coeff', 'cAmat', 'cAstd', 'VA'])"
      ]
     },
     "execution_count": 41,
     "metadata": {},
     "output_type": "execute_result"
    }
   ],
   "source": [
    "svd_model['r'].keys()"
   ]
  },
  {
   "cell_type": "markdown",
   "metadata": {},
   "source": [
    "## Q5: Performing PCA - Compute the \"singular value decomposition\" of the magnitude array\n",
    "\n",
    "In the cell below, we will reduce the dimensions of the modeled kilonova lightcurves by performing PCA on them and determining the most \"important\" (aka \"principal\") components. In particular, we will use an operation called the \"singular value decomposition\" to do this.\n",
    "- `np.linalg.svd` is useful here: (https://numpy.org/doc/stable/reference/generated/numpy.linalg.svd.html)\n",
    "- For more on how singular value decomposition works (and how it's related to PCA): https://jonathan-hui.medium.com/machine-learning-singular-value-decomposition-svd-principal-component-analysis-pca-1d45e885e491\n"
   ]
  },
  {
   "cell_type": "code",
   "execution_count": 40,
   "metadata": {},
   "outputs": [
    {
     "name": "stdout",
     "output_type": "stream",
     "text": [
      "Computing PCA for filter g...\n",
      "Computing PCA for filter r...\n"
     ]
    }
   ],
   "source": [
    "# Loop through filters\n",
    "for jj,filt in enumerate(filts):\n",
    "    print('Computing PCA for filter %s...' % filt)\n",
    "\n",
    "    mag_array_postprocess = svd_model[filt][\"mag_array_postprocess\"] \n",
    "    UA, sA, VA = np.linalg.svd(mag_array_postprocess, full_matrices=True)\n",
    "    VA = VA.T\n",
    "\n",
    "    n, n = UA.shape\n",
    "    m, m = VA.shape\n",
    "\n",
    "    cAmat = np.zeros((n_coeff,n))\n",
    "    cAvar = np.zeros((n_coeff,n))\n",
    "    for i in range(n):\n",
    "        ErrorLevel = 1.0\n",
    "        cAmat[:,i] = np.dot(mag_array_postprocess[i,:],VA[:,:n_coeff])\n",
    "        errors = ErrorLevel*np.ones_like(mag_array_postprocess[i,:])\n",
    "        cAvar[:,i] = np.diag(np.dot(VA[:,:n_coeff].T,np.dot(np.diag(np.power(errors,2.)),VA[:,:n_coeff])))\n",
    "    cAstd = np.sqrt(cAvar)\n",
    "\n",
    "    svd_model[filt][\"n_coeff\"] = n_coeff\n",
    "    svd_model[filt][\"cAmat\"] = cAmat\n",
    "    svd_model[filt][\"cAstd\"] = cAstd\n",
    "    svd_model[filt][\"VA\"] = VA  "
   ]
  },
  {
   "cell_type": "markdown",
   "metadata": {},
   "source": [
    "## Q6: Compute the Gaussian Process to interpolate the eigenvalues\n",
    "\n",
    "Now, we will compute the Gaussian process models on the eigenvalues of the model lightcurves. We will use the `RationalQuadratic` kernel for this task."
   ]
  },
  {
   "cell_type": "code",
   "execution_count": 21,
   "metadata": {},
   "outputs": [
    {
     "name": "stdout",
     "output_type": "stream",
     "text": [
      "Computing GP for filter g...\n",
      "Coefficient 1/3...\n",
      "Coefficient 2/3...\n",
      "Coefficient 3/3...\n",
      "Computing GP for filter r...\n",
      "Coefficient 1/3...\n",
      "Coefficient 2/3...\n",
      "Coefficient 3/3...\n"
     ]
    }
   ],
   "source": [
    "# Loop through filters\n",
    "for jj,filt in enumerate(filts):\n",
    "    print('Computing GP for filter %s...' % filt)\n",
    "\n",
    "    cAmat = svd_model[filt][\"cAmat\"]\n",
    "    cAstd = svd_model[filt][\"cAstd\"]\n",
    "    VA = svd_model[filt][\"VA\"]\n",
    "    \n",
    "    nsvds, nparams = param_array_postprocess.shape\n",
    "    \n",
    "    # Set of Gaussian Process\n",
    "    kernel = 1.0 * RationalQuadratic(length_scale=1.0, alpha=0.1)\n",
    "    gps = []\n",
    "    for i in range(n_coeff):\n",
    "        if np.mod(i,1) == 0:\n",
    "            print('Coefficient %d/%d...' % (i+1, n_coeff))\n",
    "        gp = GaussianProcessRegressor(kernel=kernel,\n",
    "                                      n_restarts_optimizer=0)\n",
    "        gp.fit(param_array_postprocess, cAmat[i,:])\n",
    "        gps.append(gp)\n",
    "        \n",
    "    svd_model[filt][\"gps\"] = gps"
   ]
  },
  {
   "cell_type": "markdown",
   "metadata": {},
   "source": [
    "## Save your dictionary to a pickle file for safe keeping\n",
    "As you notice, this is not a fast computation, so save the model in a pickle file."
   ]
  },
  {
   "cell_type": "code",
   "execution_count": 43,
   "metadata": {},
   "outputs": [],
   "source": [
    "modelfile = os.path.join(ModelPath,'%s.pkl' % objtype)\n",
    "with open(modelfile, 'wb') as handle:\n",
    "    pickle.dump(svd_model, handle, protocol=pickle.HIGHEST_PROTOCOL)"
   ]
  },
  {
   "cell_type": "markdown",
   "metadata": {},
   "source": [
    "## Q7: Using your trained Gaussian process model, interpolate between the points in the model grid, and recover\n",
    "\n",
    "The GP model you just trained allows us to interpolate between points on the \"merger parameter\" grid. Now, we can determine the lightcurve \n",
    "\n",
    "In the cells below, use your trained GP model to predict the parameters that give rise to the real GW170817 lightcurve."
   ]
  },
  {
   "cell_type": "code",
   "execution_count": null,
   "metadata": {},
   "outputs": [],
   "source": [
    "# Choose a set of parameters\n",
    "param_list = [np.log10(0.005), np.log10(0.01), 45, 30]\n",
    "\n",
    "modelfile = os.path.join(ModelPath,'%s.pkl' % objtype)\n",
    "with open(modelfile, 'rb') as handle:\n",
    "    svd_model = pickle.load(handle)\n",
    "\n",
    "mAB = np.zeros((len(filts),len(tt)))\n",
    "for jj,filt in enumerate(filts):\n",
    "    param_array_postprocess = svd_model[filt][\"param_array_postprocess\"]\n",
    "    cAmat = svd_model[filt][\"cAmat\"]\n",
    "    VA = svd_model[filt][\"VA\"]\n",
    "    param_mins = svd_model[filt][\"param_mins\"]\n",
    "    param_maxs = svd_model[filt][\"param_maxs\"]\n",
    "    mins = svd_model[filt][\"mins\"]\n",
    "    maxs = svd_model[filt][\"maxs\"]\n",
    "    gps = svd_model[filt][\"gps\"]\n",
    "    tt_interp = svd_model[filt][\"tt\"]\n",
    "\n",
    "    cAproj = np.zeros((n_coeff,))\n",
    "    cAstd = np.zeros((n_coeff,))\n",
    "    for i in range(n_coeff):\n",
    "        gp = gps[i]\n",
    "        y_pred, sigma2_pred = gp.predict(np.atleast_2d(param_list_postprocess), return_std=True)\n",
    "        cAproj[i] = y_pred\n",
    "        cAstd[i] = sigma2_pred\n",
    "        \n",
    "        coverrors = np.dot(VA[:,:n_coeff],np.dot(np.power(np.diag(cAstd[:n_coeff]),2),VA[:,:n_coeff].T))\n",
    "        errors = np.diag(coverrors)\n",
    "\n",
    "        mag_back = np.dot(VA[:,:n_coeff],cAproj)\n",
    "        mag_back = mag_back*(maxs-mins)+mins\n",
    "        #mag_back = scipy.signal.medfilt(mag_back,kernel_size=3)\n",
    "\n",
    "        ii = np.where(~np.isnan(mag_back))[0]\n",
    "        if len(ii) < 2:\n",
    "            maginterp = np.nan*np.ones(tt.shape)\n",
    "        else:\n",
    "            f = interp.interp1d(tt_interp[ii], mag_back[ii], fill_value='extrapolate')\n",
    "            maginterp = f(tt)\n",
    "        mAB[jj,:] = maginterp\n"
   ]
  },
  {
   "cell_type": "code",
   "execution_count": null,
   "metadata": {},
   "outputs": [],
   "source": [
    "errorbudget = 1.0\n",
    "\n",
    "cnt = 0\n",
    "for ii, (filt, color) in enumerate(zip(filts,colors)):\n",
    "    cnt = cnt+1\n",
    "    if cnt == 1:\n",
    "        ax1 = plt.subplot(len(filts),1,cnt)\n",
    "    else:\n",
    "        ax2 = plt.subplot(len(filts),1,cnt,sharex=ax1,sharey=ax1)\n",
    "\n",
    "    if not filt in data_out: continue\n",
    "    samples = data_out[filt]\n",
    "    t, y, sigma_y = samples[:,0], samples[:,1], samples[:,2]\n",
    "    idx = np.where(~np.isnan(y))[0]\n",
    "    t, y, sigma_y = t[idx], y[idx], sigma_y[idx]\n",
    "    if len(t) == 0: continue\n",
    "\n",
    "    idx = np.where(np.isfinite(sigma_y))[0]\n",
    "    plt.errorbar(t[idx],y[idx],sigma_y[idx],fmt='o',c=color, markersize=16, label='%s-band'%filt, markeredgecolor='k')\n",
    "\n",
    "    idx = np.where(~np.isfinite(sigma_y))[0]\n",
    "    plt.errorbar(t[idx],y[idx],sigma_y[idx],fmt='v',c=color, markersize=16, markeredgecolor='k')\n",
    "\n",
    "    plt.xlim([0.0, 14.0])\n",
    "    plt.ylim([-17.0,-11.0])\n",
    "    plt.gca().invert_yaxis()\n",
    "    plt.grid()\n",
    "    \n",
    "    plt.ylabel(r'$%s$'%filt,fontsize=20,rotation=0,labelpad=20)\n",
    "\n",
    "    f = interp.interp1d(tt, mAB[ii,:], fill_value='extrapolate')\n",
    "    maginterp = f(tt)\n",
    "    #plt.plot(tt,maginterp+zp_best,'--',c=color,linewidth=3)\n",
    "    #plt.fill_between(tt,maginterp+zp_best-errorbudget,maginterp+zp_best+errorbudget,facecolor=color,alpha=0.2)\n",
    "\n",
    "    plt.plot(tt,maginterp,'--',c='k',linewidth=3)\n",
    "    plt.fill_between(tt,maginterp-errorbudget,maginterp+errorbudget,facecolor='k',alpha=0.2)\n"
   ]
  },
  {
   "cell_type": "markdown",
   "metadata": {},
   "source": [
    "**Congratulations!** You have just recovered the light curve of the world's most famous kilonova!"
   ]
  },
  {
   "cell_type": "markdown",
   "metadata": {},
   "source": [
    "### Bonus: Can you use `emcee` or a similar method to estimate the binary parameters?\n",
    "\n",
    "Another way to predict GW170817's best fit would be to build likelihood function that takes in merger parameters, predicts a model lightcurve from these parameters, and estimates the likelihood of GW170817's lightcurve given this model. Then, an MCMC walker (or other likelihood-maximization algorithm) can determine the set of parameters that maximizes this likelihood. As a bonus question, try to fit the lightcurve this way and compare the best fit to what you got from our original method."
   ]
  },
  {
   "cell_type": "code",
   "execution_count": 14,
   "metadata": {},
   "outputs": [],
   "source": [
    "# YOUR CODE HERE"
   ]
  },
  {
   "cell_type": "markdown",
   "metadata": {},
   "source": [
    "# Extra Credit: Basic Regression"
   ]
  },
  {
   "cell_type": "markdown",
   "metadata": {},
   "source": [
    "In this problem we will use some simple regression models (provided by the Scikit-learn package) to predict **galaxy redshift** from **galaxy color**."
   ]
  },
  {
   "cell_type": "markdown",
   "metadata": {},
   "source": [
    "**Intro: Scikit-learn**\n",
    "\n",
    "Scikit-learn models, like those used in class, have a fixed syntax so it is the same for a simple linear regression operation as it is for something much more complex such as random forest. The specific model is represented as a class with model parameters defined in the class constructor:\n",
    "\n",
    "```\n",
    "class sklearn.linear_model.LinearRegression(\n",
    "    fit_intercept=True, normalize=False, copy_X=True, n_jobs=1)\n",
    "```\n",
    "\n",
    "The class will also have a <i>fit</i> method for fitting (training) the model which takes the data (X) as a Numpy array of shape [n_samples, n_features] and the response values (y) as a Numpy array of shape [n_samples, n_responses]:\n",
    "```\n",
    "def fit(X, y):\n",
    "    ...\n",
    "```"
   ]
  },
  {
   "cell_type": "markdown",
   "metadata": {},
   "source": [
    "## Load and Explore Data\n",
    "\n",
    "For these exercises, we're going to use a data set of galaxies with known (\"spectroscopically confirmed\") redshifts and SDSS magnitudes. We're interested in determining the redshift of a galaxy from its colors. This estimate is known as **photometric redshift**; it's useful because it is far easier to estimate the color of a galaxy than to get its spectrum.\n",
    "\n",
    "In the cells below, we load and plot the galaxy dataset:"
   ]
  },
  {
   "cell_type": "code",
   "execution_count": 18,
   "metadata": {},
   "outputs": [],
   "source": [
    "import pandas as pd\n",
    "import sys\n",
    "import numpy as np\n",
    "import scipy as sp\n",
    "import matplotlib.pyplot as plt\n",
    "import seaborn as sns\n",
    "import sklearn as sk\n",
    "from sklearn.model_selection import train_test_split\n",
    "from sklearn.linear_model import LinearRegression\n",
    "from sklearn.preprocessing import PolynomialFeatures\n",
    "sns.set(style=\"ticks\")\n",
    "%matplotlib inline"
   ]
  },
  {
   "cell_type": "code",
   "execution_count": null,
   "metadata": {},
   "outputs": [],
   "source": [
    "# Loads the galaxy dataset and prints the first few rows\n",
    "\n",
    "sdss_gal_df = pd.read_csv('data/sdss_gal.csv', low_memory=False)"
   ]
  },
  {
   "cell_type": "code",
   "execution_count": 20,
   "metadata": {},
   "outputs": [
    {
     "name": "stdout",
     "output_type": "stream",
     "text": [
      "       u-g      g-r      r-i      i-z  redshift\n",
      "0  1.88235  0.95459  0.44631  0.32659  0.091214\n",
      "1  1.97871  0.95931  0.46358  0.32285  0.117409\n",
      "2  1.84007  0.92670  0.40268  0.32295  0.091852\n",
      "3  1.89717  1.09666  0.47545  0.34684  0.153276\n",
      "4  0.98144  0.38145  0.34404  0.04365  0.090731\n"
     ]
    }
   ],
   "source": [
    "print(sdss_gal_df.head())"
   ]
  },
  {
   "cell_type": "code",
   "execution_count": 21,
   "metadata": {},
   "outputs": [],
   "source": [
    "# Plots a random subsample of the data\n",
    "\n",
    "sdss_gal_sample = sdss_gal_df.sample(n=1000, random_state=0)\n",
    "redshift = sdss_gal_sample['redshift'].values\n",
    "gr = sdss_gal_sample['g-r'].values"
   ]
  },
  {
   "cell_type": "code",
   "execution_count": 24,
   "metadata": {},
   "outputs": [
    {
     "data": {
      "image/png": "[encoded data removed]",
      "text/plain": [
       "<Figure size 360x360 with 1 Axes>"
      ]
     },
     "metadata": {
      "needs_background": "light"
     },
     "output_type": "display_data"
    }
   ],
   "source": [
    "fig, ax = plt.subplots(1, 1, figsize=(5, 5))\n",
    "\n",
    "ax.scatter(gr, redshift, color='gray', alpha=0.1)\n",
    "\n",
    "ax.set_xlabel('g-r')\n",
    "ax.set_ylabel('Redshift')\n",
    "ax.set_title('SDSS galaxy redshifts:\\n SDSS g-r color vs Redshift Scatter Plot')\n",
    "\n",
    "plt.show()"
   ]
  },
  {
   "cell_type": "markdown",
   "metadata": {},
   "source": [
    "## Q1: modeling the data\n",
    "\n",
    "We're going to use train_test_split method to create our training and test data sets for a random subsample. We'll set the test set to be half the size of the training set:"
   ]
  },
  {
   "cell_type": "code",
   "execution_count": 26,
   "metadata": {},
   "outputs": [],
   "source": [
    "sdss_gal_sample = sdss_gal_df.sample(n=1000, random_state=0)\n",
    "\n",
    "y = sdss_gal_sample['redshift'].values\n",
    "X = sdss_gal_sample['g-r'].values\n",
    "\n",
    "X_train, X_test, y_train, y_test = train_test_split(X.reshape((len(X), 1)), y, test_size=0.5, random_state=0)"
   ]
  },
  {
   "cell_type": "markdown",
   "metadata": {},
   "source": [
    "Now we define our basic linear regressor and fit it to the data.\n",
    "\n",
    "Confirm that the values of the slope and intercept are what you would expect from a MSE loss function."
   ]
  },
  {
   "cell_type": "code",
   "execution_count": 27,
   "metadata": {},
   "outputs": [
    {
     "name": "stdout",
     "output_type": "stream",
     "text": [
      "The equation of the regression line is: -0.04764014949686651 + 0.2939707247266168 * x\n"
     ]
    }
   ],
   "source": [
    "regression = LinearRegression(fit_intercept=True)\n",
    "regression.fit(X_train, y_train)\n",
    "\n",
    "# YOUR CODE HERE\n",
    "regression_line = lambda x: regression.intercept_ + regression.coef_ * x\n",
    "print('The equation of the regression line is: {} + {} * x'.format(regression.intercept_, regression.coef_[0]))"
   ]
  },
  {
   "cell_type": "markdown",
   "metadata": {},
   "source": [
    "## Q2: plot the regression line over the data"
   ]
  },
  {
   "cell_type": "code",
   "execution_count": 28,
   "metadata": {},
   "outputs": [
    {
     "data": {
      "image/png": "[encoded data removed]",
      "text/plain": [
       "<Figure size 360x360 with 1 Axes>"
      ]
     },
     "metadata": {
      "needs_background": "light"
     },
     "output_type": "display_data"
    }
   ],
   "source": [
    "fig, ax = plt.subplots(1, 1, figsize=(5, 5))\n",
    "\n",
    "x_vals = np.linspace(0, 3, 100)\n",
    "ax.plot(x_vals, regression_line(x_vals), color='red', linewidth=1.0, label='regression line')\n",
    "ax.scatter(X_train, y_train, color='gray', alpha=0.1, label='data')\n",
    "\n",
    "\n",
    "ax.set_xlabel('g-r')\n",
    "ax.set_ylabel('Redshift')\n",
    "ax.set_title('SDSS Galaxy Redshift Data:\\n Trip Duration vs Fare Scatter Plot')\n",
    "ax.legend(loc='best')\n",
    "\n",
    "plt.show()"
   ]
  },
  {
   "cell_type": "markdown",
   "metadata": {},
   "source": [
    "## Q3: Train vs Test Error\n",
    "\n",
    "We would like to evaluate and interpret the modle. Let's have a bit more of a look at the linear model we've fitted.\n",
    "\n",
    "Compute the MSE values for the training and the test data sets:"
   ]
  },
  {
   "cell_type": "code",
   "execution_count": 32,
   "metadata": {},
   "outputs": [
    {
     "name": "stdout",
     "output_type": "stream",
     "text": [
      "The train MSE is 0.023277148842551346, the test MSE is 0.025720449934822826\n"
     ]
    }
   ],
   "source": [
    "# YOUR CODE HERE\n",
    "\n",
    "train_MSE = np.mean((y_train - regression.predict(X_train))**2)\n",
    "test_MSE = np.mean((y_test - regression.predict(X_test))**2)\n",
    "print('The train MSE is {}, the test MSE is {}'.format(train_MSE, test_MSE))"
   ]
  },
  {
   "cell_type": "markdown",
   "metadata": {},
   "source": [
    "## Q4: Residual Analysis\n",
    "\n",
    "In residual analysis we want to check that the residuals are uncorrelated and normally distributed."
   ]
  },
  {
   "cell_type": "markdown",
   "metadata": {},
   "source": [
    "Plot the residuals. Are they normally distributed?"
   ]
  },
  {
   "cell_type": "code",
   "execution_count": 33,
   "metadata": {},
   "outputs": [
    {
     "data": {
      "image/png": "[encoded data removed]",
      "text/plain": [
       "<Figure size 720x360 with 2 Axes>"
      ]
     },
     "metadata": {
      "needs_background": "light"
     },
     "output_type": "display_data"
    }
   ],
   "source": [
    "fig, ax = plt.subplots(1, 2, figsize=(10, 5))\n",
    "\n",
    "errors = y_train - regression.predict(X_train)\n",
    "ax[0].scatter(X_train, errors, color='blue', alpha=0.1, label='residuals')\n",
    "ax[0].axhline(y=0, color='gold', label='zero error')\n",
    "\n",
    "\n",
    "ax[0].set_xlabel('g-r')\n",
    "ax[0].set_ylabel('redshift')\n",
    "ax[0].set_title('SDSS Galaxy Redshift Data:\\n Predictor vs Residual')\n",
    "ax[0].legend(loc='best')\n",
    "\n",
    "ax[1].hist(errors, color='blue', alpha=0.1, label='residuals', bins=50, edgecolor='white', linewidth=2)\n",
    "ax[1].axvline(x=0, color='gold', label='zero error')\n",
    "\n",
    "\n",
    "ax[1].set_xlabel('g-r')\n",
    "ax[1].set_ylabel('redshift')\n",
    "ax[1].set_title('SDSS Galaxy Redshift Data:\\n Residual Histogram')\n",
    "ax[1].legend(loc='best')\n",
    "\n",
    "plt.show()"
   ]
  },
  {
   "cell_type": "markdown",
   "metadata": {},
   "source": [
    "# Extra Credit: regression with multiple parameters\n",
    "\n",
    "Clearly redshift is not just a function of one color but of several so here we will look at fitting a linear model with multiple parameters."
   ]
  },
  {
   "cell_type": "code",
   "execution_count": 34,
   "metadata": {},
   "outputs": [],
   "source": [
    "sdss_gal_sample = sdss_gal_df.sample(n=1000, random_state=0)\n",
    "#sdss_gal_sample['lpep_pickup_datetime'] = nyc_cab_sample['lpep_pickup_datetime'].apply(lambda dt: pd.to_datetime(dt).hour)\n",
    "#sdss_gal_sample['Lpep_dropoff_datetime'] = nyc_cab_sample['Lpep_dropoff_datetime'].apply(lambda dt: pd.to_datetime(dt).hour)\n",
    "msk = np.random.rand(len(sdss_gal_sample)) < 0.8\n",
    "train = sdss_gal_sample[msk]\n",
    "test = sdss_gal_sample[~msk]\n",
    "\n",
    "y_train = train['redshift'].values\n",
    "X_train = train[['g-r', 'r-i', 'i-z']].values\n",
    "\n",
    "y_test = test['redshift'].values\n",
    "X_test = test[['g-r', 'r-i', 'i-z']].values"
   ]
  },
  {
   "cell_type": "markdown",
   "metadata": {},
   "source": [
    "## Q1: Create the linear regression"
   ]
  },
  {
   "cell_type": "code",
   "execution_count": 36,
   "metadata": {},
   "outputs": [
    {
     "name": "stdout",
     "output_type": "stream",
     "text": [
      "The equation of the regression plane is: -0.14195762447790866 + [0.0214793  0.60635948 0.09045038]^T . x\n"
     ]
    }
   ],
   "source": [
    "# YOUR CODE HERE\n",
    "multi_regression_model = LinearRegression(fit_intercept=True)\n",
    "multi_regression_model.fit(X_train, y_train)\n",
    "\n",
    "print('The equation of the regression plane is: {} + {}^T . x'.format(multi_regression_model.intercept_, multi_regression_model.coef_))"
   ]
  },
  {
   "cell_type": "markdown",
   "metadata": {},
   "source": [
    "## Q2: Evaluating the Significance of Predictors"
   ]
  },
  {
   "cell_type": "code",
   "execution_count": 38,
   "metadata": {},
   "outputs": [],
   "source": [
    "from statsmodels.tools import add_constant\n",
    "\n",
    "predictors_multiple = ['g-r', 'r-i', 'i-z']\n",
    "predictors_simple = ['g-r']\n",
    "\n",
    "X_train_multi = add_constant(train[predictors_multiple].values)\n",
    "X_test_multi = add_constant(test[predictors_multiple].values)\n",
    "\n",
    "X_train_simple = add_constant(train[predictors_simple].values)\n",
    "X_test_simple = add_constant(test[predictors_simple].values)"
   ]
  },
  {
   "cell_type": "markdown",
   "metadata": {},
   "source": [
    "Plot the number of predictors vs the model fitness"
   ]
  },
  {
   "cell_type": "code",
   "execution_count": 41,
   "metadata": {},
   "outputs": [],
   "source": [
    "cols = ['u-g', 'g-r', 'r-i', 'i-z']\n",
    "train_R_sq = []\n",
    "test_R_sq = []\n",
    "for i in range(1, len(cols) + 1):\n",
    "    predictors = cols[:i]\n",
    "    X_train = train[predictors].values\n",
    "    X_test = test[predictors].values\n",
    "    \n",
    "    # YOUR CODE HERE\n",
    "    multi_regression_model.fit(X_train, y_train)\n",
    "    \n",
    "    train_R_sq.append(multi_regression_model.score(X_train, y_train))\n",
    "    test_R_sq.append(multi_regression_model.score(X_test, y_test))"
   ]
  },
  {
   "cell_type": "code",
   "execution_count": 40,
   "metadata": {},
   "outputs": [
    {
     "data": {
      "image/png": "[encoded data removed]",
      "text/plain": [
       "<Figure size 720x360 with 1 Axes>"
      ]
     },
     "metadata": {
      "needs_background": "light"
     },
     "output_type": "display_data"
    }
   ],
   "source": [
    "fig, ax = plt.subplots(1, 1, figsize=(10, 5))\n",
    "\n",
    "ax.plot(range(1, len(cols) + 1), train_R_sq, color='blue', label='train R^2')\n",
    "ax.plot(range(1, len(cols) + 1), test_R_sq, color='red', label='test R^2')\n",
    "\n",
    "ax.set_title('Number of Predictor vs Model Fitness')\n",
    "ax.set_xlabel('Number of Predictors')\n",
    "ax.set_ylabel('R^2')\n",
    "ax.legend(loc='best')\n",
    "\n",
    "plt.show()"
   ]
  },
  {
   "cell_type": "markdown",
   "metadata": {},
   "source": [
    "## Q3: Polynomial Regression\n",
    "What is the effect of Polynomial Degree on model performance? Can you improve the fits using a higher degree polynomial?"
   ]
  },
  {
   "cell_type": "code",
   "execution_count": 34,
   "metadata": {},
   "outputs": [],
   "source": [
    "y_train = train['redshift'].values\n",
    "X_train = train[['g-r', 'r-i', 'i-z']].values\n",
    "\n",
    "y_test = test['redshift'].values\n",
    "X_test = test[['g-r', 'r-i', 'i-z']].values\n",
    "\n",
    "gen_poly_terms = PolynomialFeatures(degree=2, interaction_only=False)\n",
    "X_train_with_poly = gen_poly_terms.fit_transform(X_train)\n",
    "X_test_with_poly = gen_poly_terms.fit_transform(X_test)"
   ]
  },
  {
   "cell_type": "markdown",
   "metadata": {},
   "source": [
    "Plot the fit of the model vs. the number of polynomial degrees"
   ]
  },
  {
   "cell_type": "code",
   "execution_count": 42,
   "metadata": {},
   "outputs": [],
   "source": [
    "from sklearn.preprocessing import MinMaxScaler\n",
    "\n",
    "train_R_sq = []\n",
    "test_R_sq = []\n",
    "max_deg = 10\n",
    "\n",
    "min_max_scaler = MinMaxScaler()\n",
    "X_train = min_max_scaler.fit_transform(X_train)\n",
    "X_test = min_max_scaler.fit_transform(X_test)\n",
    "\n",
    "for d in range(1, max_deg + 1):\n",
    "    gen_poly_terms = PolynomialFeatures(degree=d, interaction_only=False)\n",
    "    # YOUR CODE HERE\n",
    "    \n",
    "    X_train_with_poly = gen_poly_terms.fit_transform(X_train)\n",
    "    X_test_with_poly = gen_poly_terms.fit_transform(X_test)\n",
    "    \n",
    "    poly_regression_model = LinearRegression(fit_intercept=False)\n",
    "    poly_regression_model.fit(X_train_with_poly, y_train)\n",
    "    \n",
    "    train_R_sq.append(poly_regression_model.score(X_train_with_poly, y_train))\n",
    "    test_R_sq.append(poly_regression_model.score(X_test_with_poly, y_test))"
   ]
  },
  {
   "cell_type": "code",
   "execution_count": 43,
   "metadata": {},
   "outputs": [
    {
     "data": {
      "image/png": "[encoded data removed]",
      "text/plain": [
       "<Figure size 1080x360 with 2 Axes>"
      ]
     },
     "metadata": {
      "needs_background": "light"
     },
     "output_type": "display_data"
    }
   ],
   "source": [
    "fig, ax = plt.subplots(1, 2, figsize=(15, 5))\n",
    "\n",
    "ax[0].plot(range(1, max_deg + 1), np.array(train_R_sq), color='blue', label='train R^2')\n",
    "\n",
    "ax[0].set_title('Number of Polynomial Degree vs Model Fitness')\n",
    "ax[0].set_xlabel('Degree of Polynomial')\n",
    "ax[0].set_ylabel('Train R^2')\n",
    "ax[0].legend(loc='best')\n",
    "\n",
    "ax[1].plot(range(1, max_deg + 1), test_R_sq, color='red', label='test R^2')\n",
    "\n",
    "ax[1].set_title('Number of Polynomial Degree vs Model Fitness')\n",
    "ax[1].set_xlabel('Degree of Polynomial')\n",
    "ax[1].set_ylabel('Test R^2')\n",
    "ax[1].legend(loc='best')\n",
    "\n",
    "\n",
    "plt.show()"
   ]
  },
  {
   "cell_type": "markdown",
   "metadata": {},
   "source": [
    "---\n",
    "\n",
    "# Appendix: Details of the telescope pointing error model\n",
    "\n",
    "Wallace & Tritton (1976) present a basic geometrical model for a telescope using HA and DEC angles. The model with seven parameters admits of three principal errors and allows for a rudimentary model for flexure error.\n",
    "\n",
    "#### **Error #1**: Misalignment of the polar axis.\n",
    "\n",
    "The polar axis of the telescope is defined by the mount (the giant yoke in the case of P200). The\n",
    "offset of the polar axis with respect to the rotation axis of the Earth has two components: in elevation (ME) and in azimuth (MA). You can raise or lower the pole of the mount to change the elevation angle or rotate the yoke to address the error in azimuth. The misalignment leads to errors in both HA and $\\delta$:\n",
    "\n",
    " \\begin{eqnarray}\n",
    "\t\\Delta h&=& \\tan(\\delta)({\\rm ME}\\sin(h)-{\\rm MA}\\cos(h))\\\\\n",
    "\t\\Delta\\delta &=& {\\rm ME}\\cos(h)+{\\rm MA}\\sin(h)\n",
    "\\end{eqnarray}\n",
    "\n",
    "#### **Error #2:** Non-perpendicularity of the RA and DEC axes.\n",
    "Ideally these two axes are supposed to be perpendicular to each other.  Let NP the angle by which the two axis  deviate from being perpendicular.\n",
    "\n",
    " \\begin{eqnarray}\n",
    "  \\Delta h&=& {\\rm NP}\\tan\\delta\n",
    " \\end{eqnarray}\n",
    "\n",
    "#### **Error #3:** Optical Collimation Error.\n",
    "So far we have two of errors associated with the mount of the telescope. However, the observations are made via telescope optics. As with polar-axis misalignment there are two components: CH and CE.\n",
    "\n",
    " \\begin{eqnarray} \n",
    "        \\Delta h&=& {\\rm CH}\\sec(\\delta)\\\\\n",
    "\t\\Delta\\delta &=& {\\rm CE}\n",
    " \\end{eqnarray}\n",
    "\n",
    "#### **Error #4:** Flexure.\n",
    "This can be complicated term, requiring understanding of the mechanical structure of the telescope.  Wallace\n",
    "advocates the following as a start.\n",
    " \\begin{equation}\n",
    "\t\t\\Delta\\delta={\\rm FO}\\cos(h)\n",
    " \\end{equation}\n",
    "with no error in $h$. Note that if the mount is asymmetrical in E-W then\n",
    "flexure could be a winding error that is not symmetrical in HA.\n",
    "\n",
    "#### Zero point errors. \n",
    "In modern telescopes there are no clock errors so IH=0. However there could be zero point offsets\n",
    "in the encoders (both axes). Next, the declination error of optical collimation error can be absorbed into the zero point error for declination, ID. Finally, the \"bore-sight\" errors are absorbed by\n",
    "IH and ID.\n",
    "\n",
    "Note that these errors are in hour angle and declination. In\n",
    "particular, while $\\Delta h$ is the error the angular error in RA\n",
    "is $\\Delta h\\cos(\\delta)$. Inversely, $\\Delta h$ and $\\Delta \\delta$\n",
    "should be used in fitting the observed {\\it angular offsets} to\n",
    "this model one should use $\\Delta h$ (and not $\\Delta\\alpha$) and\n",
    "$\\Delta\\delta$.\n",
    "\n",
    "\\begin{eqnarray}\n",
    "\t\t\\label{eq:dh}\n",
    "\t\\Delta h&=& \\tan(\\delta)\\big[{\\rm ME}\\sin(h)-{\\rm MA}\\cos(h)+{\\rm NP}\\big]+\n",
    "\t+ {\\rm CH}\\sec(\\delta) + {\\rm IH}\\\\\n",
    "\t\t\\label{eq:dd}\\cr\n",
    "\t\\Delta\\delta &=& \\cos(h)\\big[{\\rm ME}+{\\rm FO}\\big]+{\\rm MA}\\sin(h)+{\\rm ID}\n",
    "\\end{eqnarray}"
   ]
  }
 ],
 "metadata": {
  "anaconda-cloud": {},
  "kernelspec": {
   "display_name": "Python 3 (ipykernel)",
   "language": "python",
   "name": "python3"
  },
  "language_info": {
   "codemirror_mode": {
    "name": "ipython",
    "version": 3
   },
   "file_extension": ".py",
   "mimetype": "text/x-python",
   "name": "python",
   "nbconvert_exporter": "python",
   "pygments_lexer": "ipython3",
   "version": "3.9.7"
  },
  "name": "_merged"
 },
 "nbformat": 4,
 "nbformat_minor": 1
}
