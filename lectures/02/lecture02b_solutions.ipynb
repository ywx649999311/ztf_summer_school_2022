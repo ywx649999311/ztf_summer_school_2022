{
 "cells": [
  {
   "cell_type": "markdown",
   "metadata": {},
   "source": [
    "# Gravitational Wave Localizations and Galaxy Crossmatch Module\n",
    "\n",
    "**Lecturer:** Leo Singer<br>\n",
    "**Jupyter Notebook Authors:** Leo Singer, Dave Cook, Shreya Anand & Cameron Hummels\n",
    "\n",
    "This is a Jupyter notebook lesson taken from the GROWTH Summer School 2019.  For other lessons and their accompanying lectures, please see: http://growth.caltech.edu/growth-school-2019.html\n",
    "## Objective\n",
    "Learn how to use LIGO/Virgo localizations and cross-match with galaxies.\n",
    "## Key steps\n",
    "- Manipulate HEALPix localization files\n",
    "- Cross-match a LIGO localization with a galaxy catalog\n",
    "\n",
    "## Required dependencies\n",
    "\n",
    "The following required dependencies should be obtainable via the Google Colab, but should also be installable to your local environment using `pip install <module>` and `conda install <module>`.\n",
    "\n",
    "### Python modules\n",
    "* python 3\n",
    "* astropy\n",
    "* numpy\n",
    "* scipy\n",
    "* matplotlib\n",
    "* healpy\n",
    "* ligo.skymap\n",
    "\n",
    "### External packages\n",
    "None"
   ]
  },
  {
   "cell_type": "markdown",
   "metadata": {},
   "source": [
    "## Imports"
   ]
  },
  {
   "cell_type": "markdown",
   "metadata": {},
   "source": [
    "First, some imports: Numpy, Matplotlib, Healpy, and parts of Astropy."
   ]
  },
  {
   "cell_type": "code",
   "execution_count": 1,
   "metadata": {},
   "outputs": [],
   "source": [
    "import astropy.utils.data\n",
    "from matplotlib import pyplot as plt\n",
    "import numpy as np\n",
    "import healpy as hp"
   ]
  },
  {
   "cell_type": "markdown",
   "metadata": {},
   "source": [
    "Here are some extra imports for the galaxy cross matching:"
   ]
  },
  {
   "cell_type": "code",
   "execution_count": 2,
   "metadata": {},
   "outputs": [],
   "source": [
    "from astropy.table import Table, vstack, hstack, Column\n",
    "import astropy.units as u\n",
    "from astropy.coordinates import SkyCoord\n",
    "import ligo.skymap.plot\n",
    "from scipy.stats import norm\n",
    "import scipy.stats"
   ]
  },
  {
   "cell_type": "markdown",
   "metadata": {},
   "source": [
    "And configure Matplotlib to send plot output directly to the notebook:"
   ]
  },
  {
   "cell_type": "code",
   "execution_count": 3,
   "metadata": {},
   "outputs": [],
   "source": [
    "%matplotlib inline"
   ]
  },
  {
   "cell_type": "markdown",
   "metadata": {},
   "source": [
    "## HEALPix Basics\n",
    "\n",
    "This section on using HEALPix localization files is adapted from the [LIGO/Virgo Public Alerts User Guide](https://emfollow.docs.ligo.org/userguide/tutorial/skymaps.html)."
   ]
  },
  {
   "cell_type": "markdown",
   "metadata": {},
   "source": [
    "### Download and read localization"
   ]
  },
  {
   "cell_type": "markdown",
   "metadata": {},
   "source": [
    "Let's start by downloading a sample localization file from the User Guide. We could do this on the command line using `curl`:\n",
    "\n",
    "    $ curl -O https://emfollow.docs.ligo.org/userguide/_static/bayestar.fits.gz\n",
    "\n",
    "But after all, this is a Python lesson, so let's download the file using the handy `astropy.utils.data.download_file` function from Astropy."
   ]
  },
  {
   "cell_type": "code",
   "execution_count": 4,
   "metadata": {},
   "outputs": [],
   "source": [
    "url = 'https://emfollow.docs.ligo.org/userguide/_static/bayestar.fits.gz'\n",
    "filename = astropy.utils.data.download_file(url)"
   ]
  },
  {
   "cell_type": "markdown",
   "metadata": {},
   "source": [
    "Next, let's read in the HEALPix data using Healpy. Note that by default, Healpy only reads the first column, which provides the 2D probability distribution on the sky."
   ]
  },
  {
   "cell_type": "code",
   "execution_count": 5,
   "metadata": {},
   "outputs": [
    {
     "name": "stdout",
     "output_type": "stream",
     "text": [
      "NSIDE = 2048\n",
      "ORDERING = NESTED in fits file\n",
      "INDXSCHM = IMPLICIT\n",
      "Ordering converted to RING\n"
     ]
    }
   ],
   "source": [
    "prob = hp.read_map(filename)"
   ]
  },
  {
   "cell_type": "markdown",
   "metadata": {},
   "source": [
    "### Manipulating HEALPix Coordinates"
   ]
  },
  {
   "cell_type": "markdown",
   "metadata": {},
   "source": [
    "To get a quick look at a HEALPix data set, you can use the `hp.mollview` function:"
   ]
  },
  {
   "cell_type": "code",
   "execution_count": 6,
   "metadata": {},
   "outputs": [
    {
     "name": "stderr",
     "output_type": "stream",
     "text": [
      "/opt/anaconda3/envs/knsim3/lib/python3.7/site-packages/healpy/projaxes.py:907: MatplotlibDeprecationWarning: You are modifying the state of a globally registered colormap. This has been deprecated since 3.3 and in 3.6, you will not be able to modify a registered colormap in-place. To remove this warning, you can make a copy of the colormap first. cmap = mpl.cm.get_cmap(\"viridis\").copy()\n",
      "  newcm.set_over(newcm(1.0))\n",
      "/opt/anaconda3/envs/knsim3/lib/python3.7/site-packages/healpy/projaxes.py:908: MatplotlibDeprecationWarning: You are modifying the state of a globally registered colormap. This has been deprecated since 3.3 and in 3.6, you will not be able to modify a registered colormap in-place. To remove this warning, you can make a copy of the colormap first. cmap = mpl.cm.get_cmap(\"viridis\").copy()\n",
      "  newcm.set_under(bgcolor)\n",
      "/opt/anaconda3/envs/knsim3/lib/python3.7/site-packages/healpy/projaxes.py:909: MatplotlibDeprecationWarning: You are modifying the state of a globally registered colormap. This has been deprecated since 3.3 and in 3.6, you will not be able to modify a registered colormap in-place. To remove this warning, you can make a copy of the colormap first. cmap = mpl.cm.get_cmap(\"viridis\").copy()\n",
      "  newcm.set_bad(badcolor)\n",
      "/opt/anaconda3/envs/knsim3/lib/python3.7/site-packages/healpy/projaxes.py:209: MatplotlibDeprecationWarning: Passing parameters norm and vmin/vmax simultaneously is deprecated since 3.3 and will become an error two minor releases later. Please pass vmin/vmax directly to the norm when creating it.\n",
      "  **kwds\n"
     ]
    },
    {
     "data": {
      "image/png": "[encoded data removed]",
      "text/plain": [
       "<Figure size 612x388.8 with 2 Axes>"
      ]
     },
     "metadata": {
      "needs_background": "light"
     },
     "output_type": "display_data"
    }
   ],
   "source": [
    "hp.mollview(prob)"
   ]
  },
  {
   "cell_type": "markdown",
   "metadata": {},
   "source": [
    "What actually is stored in `prob`?"
   ]
  },
  {
   "cell_type": "code",
   "execution_count": 7,
   "metadata": {},
   "outputs": [
    {
     "data": {
      "text/plain": [
       "array([2.70726059e-66, 1.27374324e-66, 2.62611513e-67, ...,\n",
       "       2.04700874e-40, 1.05781210e-35, 4.44174764e-31])"
      ]
     },
     "execution_count": 7,
     "metadata": {},
     "output_type": "execute_result"
    }
   ],
   "source": [
    "prob"
   ]
  },
  {
   "cell_type": "markdown",
   "metadata": {},
   "source": [
    "It's a one-dimensional array! Yet it represents in 2D image. How does that work? HEALPix is a way to *index* equal-area regions on the unit sphere using integers.\n",
    "\n",
    "To decode HEALPix indices, you need to know the resolution of the map, which is described by a parameter called `nside`. `nside` is the number of subdivisions of 12 base HEALPix tiles, so the relation between the length of a HEALPix array, `npix`, and its resolution, `nside`, is\n",
    "\n",
    "$$\n",
    "    \\mathsf{npix} = 12 \\cdot \\mathsf{nside}^2.\n",
    "$$\n",
    "\n",
    "The functions `hp.npix2nside` and `hp.nside2npix` convert between length and resolution."
   ]
  },
  {
   "cell_type": "code",
   "execution_count": 8,
   "metadata": {},
   "outputs": [
    {
     "data": {
      "text/plain": [
       "50331648"
      ]
     },
     "execution_count": 8,
     "metadata": {},
     "output_type": "execute_result"
    }
   ],
   "source": [
    "npix = len(prob)\n",
    "npix"
   ]
  },
  {
   "cell_type": "code",
   "execution_count": 9,
   "metadata": {},
   "outputs": [
    {
     "data": {
      "text/plain": [
       "2048"
      ]
     },
     "execution_count": 9,
     "metadata": {},
     "output_type": "execute_result"
    }
   ],
   "source": [
    "nside = hp.npix2nside(npix)\n",
    "nside"
   ]
  },
  {
   "cell_type": "markdown",
   "metadata": {},
   "source": [
    "The function `hp.pix2ang` allow us to convert from (ra, dec) and HEALPix pixel index.\n",
    "\n",
    "*Note*: by default, these functions return 'physics' spherical coordinates $(\\theta, \\phi)$ in radians, but you can switch to 'astronomy' spherical coordinates in degrees by passing the keyword argument `lonlat=True`.\n",
    "\n",
    "Let's look up the right asce3nsion and declination of pixel 123."
   ]
  },
  {
   "cell_type": "code",
   "execution_count": 10,
   "metadata": {},
   "outputs": [
    {
     "data": {
      "text/plain": [
       "(129.375, 89.81725848475484)"
      ]
     },
     "execution_count": 10,
     "metadata": {},
     "output_type": "execute_result"
    }
   ],
   "source": [
    "ipix = 123\n",
    "ra, dec = hp.pix2ang(nside, ipix, lonlat=True)\n",
    "ra, dec"
   ]
  },
  {
   "cell_type": "markdown",
   "metadata": {},
   "source": [
    "The function `hp.ang2pix` does the opposite. Let's find the pixel that contains the point RA=194.95, Dec=27.98."
   ]
  },
  {
   "cell_type": "code",
   "execution_count": 11,
   "metadata": {},
   "outputs": [
    {
     "data": {
      "text/plain": [
       "13361492"
      ]
     },
     "execution_count": 11,
     "metadata": {},
     "output_type": "execute_result"
    }
   ],
   "source": [
    "ra = 194.95\n",
    "dec = 27.98\n",
    "hp.ang2pix(nside, ra, dec, lonlat=True)"
   ]
  },
  {
   "cell_type": "markdown",
   "metadata": {},
   "source": [
    "What is the most probable sky location? Just find the pixel with the maximum value, and then find its right ascension and declination."
   ]
  },
  {
   "cell_type": "code",
   "execution_count": 12,
   "metadata": {},
   "outputs": [
    {
     "data": {
      "text/plain": [
       "32883013"
      ]
     },
     "execution_count": 12,
     "metadata": {},
     "output_type": "execute_result"
    }
   ],
   "source": [
    "ipix_max = np.argmax(prob)\n",
    "ipix_max"
   ]
  },
  {
   "cell_type": "code",
   "execution_count": 13,
   "metadata": {},
   "outputs": [
    {
     "data": {
      "text/plain": [
       "(194.30419921875, -17.856895095545454)"
      ]
     },
     "execution_count": 13,
     "metadata": {},
     "output_type": "execute_result"
    }
   ],
   "source": [
    "hp.pix2ang(nside, ipix_max, lonlat=True)"
   ]
  },
  {
   "cell_type": "markdown",
   "metadata": {},
   "source": [
    "## Probability distributions with scipy.stats"
   ]
  },
  {
   "cell_type": "markdown",
   "metadata": {},
   "source": [
    "Finding the most probable sky location within a HEALPix map involves knowing which pixels correspond to a certain probability contour (say, 90%).  We can gain insight into how these probability contours are calculated using scipy.stats.  Scipy provides a \"t\" distribution class that we can use to get values from the \"t\" statistic probability density function (PDF). As a start, we plot the PDF for a \"t\" statistic with 3 degrees of freedom:"
   ]
  },
  {
   "cell_type": "code",
   "execution_count": 14,
   "metadata": {},
   "outputs": [
    {
     "data": {
      "image/png": "[encoded data removed]",
      "text/plain": [
       "<Figure size 432x288 with 1 Axes>"
      ]
     },
     "metadata": {
      "needs_background": "light"
     },
     "output_type": "display_data"
    }
   ],
   "source": [
    "t_dist = scipy.stats.t(3)\n",
    "t_values = np.linspace(-4, 4, 1000)\n",
    "plt.plot(t_values, t_dist.pdf(t_values))\n",
    "plt.xlabel('t value')\n",
    "plt.ylabel('probability for t value')\n",
    "plt.show()"
   ]
  },
  {
   "cell_type": "markdown",
   "metadata": {},
   "source": [
    "The t distribution object t_dist can also give us the cumulative distribution function (CDF). The CDF gives the area under the curve of the PDF at and to the left of the given t value:"
   ]
  },
  {
   "cell_type": "code",
   "execution_count": 15,
   "metadata": {},
   "outputs": [
    {
     "data": {
      "image/png": "[encoded data removed]",
      "text/plain": [
       "<Figure size 432x288 with 1 Axes>"
      ]
     },
     "metadata": {
      "needs_background": "light"
     },
     "output_type": "display_data"
    }
   ],
   "source": [
    "plt.plot(t_values, t_dist.cdf(t_values))\n",
    "plt.xlabel('t value')\n",
    "plt.ylabel('probability for t value <= t')\n",
    "plt.title('CDF for t distribution')\n",
    "plt.show()"
   ]
  },
  {
   "cell_type": "markdown",
   "metadata": {},
   "source": [
    "Say I have a t value x drawn from a t distribution. The PDF gives the probability for given values of x. Because it is a probability density, the sum of the probabilities of all possible values for x: ∞<x<∞ must be 1. Therefore the total area under the PDF curve is 1, and the maximum value of the CDF is 1.\n",
    "\n",
    "The CDF gives us the area under the PDF curve at and to the left of a given t value x. Therefore it is the probability that we will observe a value x<=t if we sample a value x from a t distribution.\n",
    "\n",
    "Let's show relationship of PDF and CDF for three example t values."
   ]
  },
  {
   "cell_type": "code",
   "execution_count": 16,
   "metadata": {},
   "outputs": [
    {
     "data": {
      "image/png": "[encoded data removed]",
      "text/plain": [
       "<Figure size 720x432 with 6 Axes>"
      ]
     },
     "metadata": {
      "needs_background": "light"
     },
     "output_type": "display_data"
    }
   ],
   "source": [
    "example_values = (-1.5, 0, 1.5)\n",
    "pdf_values = t_dist.pdf(t_values)\n",
    "cdf_values = t_dist.cdf(t_values)\n",
    "fill_color = (0, 0, 0, 0.1)  # Light gray in RGBA format.\n",
    "line_color = (0, 0, 0, 0.5)  # Medium gray in RGBA format.\n",
    "fig, axes = plt.subplots(2, len(example_values), figsize=(10, 6))\n",
    "for i, x in enumerate(example_values):\n",
    "    cdf_ax, pdf_ax = axes[:, i]\n",
    "    cdf_ax.plot(t_values, cdf_values)\n",
    "    pdf_ax.plot(t_values, pdf_values)\n",
    "    # Fill area at and to the left of x.\n",
    "    pdf_ax.fill_between(t_values, pdf_values,\n",
    "                        where=t_values <= x,\n",
    "                        color=fill_color)\n",
    "    pd = t_dist.pdf(x)  # Probability density at this value.\n",
    "    # Line showing position of x on x-axis of PDF plot.\n",
    "    pdf_ax.plot([x, x],\n",
    "                [0, pd], color=line_color)\n",
    "    cd = t_dist.cdf(x)  # Cumulative distribution value for this x.\n",
    "    # Lines showing x and CDF value on CDF plot.\n",
    "    x_ax_min = cdf_ax.axis()[0]  # x position of y axis on plot.\n",
    "    cdf_ax.plot([x, x, x_ax_min],\n",
    "                [0, cd, cd], color=line_color)\n",
    "    cdf_ax.set_title('x = {:.1f}, area = {:.2f}'.format(x, cd))\n",
    "    # Hide top and right axis lines and ticks to reduce clutter.\n",
    "    for ax in (cdf_ax, pdf_ax):\n",
    "        ax.spines['right'].set_visible(False)\n",
    "        ax.spines['top'].set_visible(False)\n",
    "        ax.yaxis.set_ticks_position('left')\n",
    "        ax.xaxis.set_ticks_position('bottom')"
   ]
  },
  {
   "cell_type": "markdown",
   "metadata": {},
   "source": [
    "For example, say I have drawn a t value x at random from a t distribution. The probability that x<=1.5 is (i.e., >0.9253):"
   ]
  },
  {
   "cell_type": "code",
   "execution_count": 17,
   "metadata": {},
   "outputs": [
    {
     "data": {
      "text/plain": [
       "0.8847080673775886"
      ]
     },
     "execution_count": 17,
     "metadata": {},
     "output_type": "execute_result"
    }
   ],
   "source": [
    "t_dist.cdf(1.5)"
   ]
  },
  {
   "cell_type": "markdown",
   "metadata": {},
   "source": [
    "The total area under the PDF is 1, and the maximum value for the CDF is 1. Therefore the area of the PDF to the right of 1.5 must be (i.e., >0.0746):"
   ]
  },
  {
   "cell_type": "code",
   "execution_count": 18,
   "metadata": {},
   "outputs": [
    {
     "data": {
      "text/plain": [
       "0.11529193262241144"
      ]
     },
     "execution_count": 18,
     "metadata": {},
     "output_type": "execute_result"
    }
   ],
   "source": [
    "1 - t_dist.cdf(1.5)"
   ]
  },
  {
   "cell_type": "markdown",
   "metadata": {},
   "source": [
    "This is the probability that our t value x will be >1.5. In general, when we sample a value x at random from a t distribution, the probability that x>q is given by:\n",
    "\n",
    "ℙ(x>q)=1−CDF(q), where CDF is the cumulative distribution function for a t value. We can apply the same methodology to HEALpix pixel probabilities in LIGO/VIRGO localization maps. "
   ]
  },
  {
   "cell_type": "markdown",
   "metadata": {},
   "source": [
    "## Working with LIGO/Virgo 3D localizations and Cross-Matching to Galaxy Catalogs"
   ]
  },
  {
   "cell_type": "markdown",
   "metadata": {},
   "source": [
    "First, let's get our galaxy catalog that we will later match to the 3D localization of GW170817.\n",
    "\n",
    "For this Section we will use a galaxy catalog from the CLU project (Census of the Local Universe; paper: https://ui.adsabs.harvard.edu/abs/2017arXiv171005016C/abstract). However, we will only use those galaxies that are publically availble and in NED (NASA/IPAC Extragalactic Database: https://ned.ipac.caltech.edu/). This catalog has already been prepared for you."
   ]
  },
  {
   "cell_type": "markdown",
   "metadata": {},
   "source": [
    "load CLU catalog into astropy table."
   ]
  },
  {
   "cell_type": "code",
   "execution_count": 4,
   "metadata": {},
   "outputs": [],
   "source": [
    "clu=Table.read('data/CLU.hdf5')\n",
    "nclu=np.size(clu)"
   ]
  },
  {
   "cell_type": "markdown",
   "metadata": {},
   "source": [
    "Add probability columns to the galaxy catalog: probability density and p-value per volume and per area."
   ]
  },
  {
   "cell_type": "code",
   "execution_count": 5,
   "metadata": {},
   "outputs": [],
   "source": [
    "probdencol=Column(np.zeros(nclu,dtype='f4'),name='dP_dV')\n",
    "probcol=Column(np.zeros(nclu,dtype='f4'),name='P')\n",
    "probdenAcol=Column(np.zeros(nclu,dtype='f4'),name='dP_dA')\n",
    "probAcol=Column(np.zeros(nclu,dtype='f4'),name='P_A')\n",
    "clu.add_columns([probdencol,probcol,probdenAcol,probAcol])"
   ]
  },
  {
   "cell_type": "code",
   "execution_count": 7,
   "metadata": {},
   "outputs": [
    {
     "data": {
      "text/plain": [
       "['name',\n",
       " 'ra',\n",
       " 'dec',\n",
       " 'distmpc',\n",
       " 'a',\n",
       " 'b2a',\n",
       " 'pa',\n",
       " 'btc',\n",
       " 'magb',\n",
       " 'sfr_fuv',\n",
       " 'mstar',\n",
       " 'dP_dV',\n",
       " 'P',\n",
       " 'dP_dA',\n",
       " 'P_A']"
      ]
     },
     "execution_count": 7,
     "metadata": {},
     "output_type": "execute_result"
    }
   ],
   "source": [
    "clu.colnames"
   ]
  },
  {
   "cell_type": "markdown",
   "metadata": {},
   "source": [
    "Familiarize yourself with the catalog\n",
    "\n",
    "print the columns in the catalog that will be used in the cross-match."
   ]
  },
  {
   "cell_type": "code",
   "execution_count": 9,
   "metadata": {},
   "outputs": [
    {
     "data": {
      "text/html": [
       "<div><i>Table length=271867</i>\n",
       "<table id=\"table140171585019408\" class=\"table-striped table-bordered table-condensed\">\n",
       "<thead><tr><th>name</th><th>ra</th><th>dec</th><th>distmpc</th><th>a</th><th>b2a</th><th>magb</th><th>sfr_fuv</th><th>mstar</th></tr></thead>\n",
       "<thead><tr><th></th><th>deg</th><th>deg</th><th>Mpc</th><th></th><th></th><th></th><th></th><th></th></tr></thead>\n",
       "<thead><tr><th>bytes30</th><th>float64</th><th>float64</th><th>float64</th><th>float64</th><th>float64</th><th>float64</th><th>float64</th><th>float64</th></tr></thead>\n",
       "<tr><td>6dFgs gJ0001313-055904</td><td>0.38083</td><td>-5.98433</td><td>0.0556771419942379</td><td>nan</td><td>nan</td><td>25.301416397094727</td><td>nan</td><td>336.60756522868667</td></tr>\n",
       "<tr><td>2MASX J00021772-4345168</td><td>0.57383</td><td>-43.75467</td><td>175.22024536132812</td><td>nan</td><td>0.416869</td><td>16.299999237060547</td><td>nan</td><td>19468772606.159004</td></tr>\n",
       "<tr><td>2MASX J00022478-5445592</td><td>0.60321</td><td>-54.76653</td><td>139.5183563232422</td><td>nan</td><td>0.60256</td><td>15.859999656677246</td><td>nan</td><td>14329555096.85143</td></tr>\n",
       "<tr><td>MRSS 349-063591</td><td>0.74187</td><td>-35.79772</td><td>198.0797119140625</td><td>nan</td><td>nan</td><td>nan</td><td>0.44508742359504405</td><td>19799307276.171944</td></tr>\n",
       "<tr><td>2MASX J00030209-3600152</td><td>0.75863</td><td>-36.00426</td><td>198.10708618164062</td><td>nan</td><td>nan</td><td>nan</td><td>nan</td><td>25419676830.957485</td></tr>\n",
       "<tr><td>IRAS F00012-5451 ID</td><td>0.948375</td><td>-54.5740833333</td><td>147.08892822265625</td><td>nan</td><td>nan</td><td>nan</td><td>nan</td><td>494003437.822152</td></tr>\n",
       "<tr><td>MRSS 349-058718</td><td>0.99855</td><td>-36.28124</td><td>199.5813751220703</td><td>nan</td><td>nan</td><td>nan</td><td>0.6278534101788935</td><td>6637583928.644948</td></tr>\n",
       "<tr><td>2MASX J00040601-5134568</td><td>1.02517</td><td>-51.5825</td><td>147.1461181640625</td><td>nan</td><td>nan</td><td>nan</td><td>nan</td><td>20121836852.042862</td></tr>\n",
       "<tr><td>2MASX J00042841-5254136</td><td>1.11833</td><td>-52.90386</td><td>132.03192138671875</td><td>nan</td><td>0.562341</td><td>16.15999984741211</td><td>0.15580829112623729</td><td>15329496516.675985</td></tr>\n",
       "<tr><td>...</td><td>...</td><td>...</td><td>...</td><td>...</td><td>...</td><td>...</td><td>...</td><td>...</td></tr>\n",
       "<tr><td>CLU J121349.1+132547</td><td>183.454639944552</td><td>13.4298168267903</td><td>50.374</td><td>nan</td><td>nan</td><td>nan</td><td>nan</td><td>1204988438.4884815</td></tr>\n",
       "<tr><td>CLU J121851.7+142431</td><td>184.715824890327</td><td>14.4086513533308</td><td>50.374</td><td>nan</td><td>nan</td><td>nan</td><td>nan</td><td>nan</td></tr>\n",
       "<tr><td>CLU J121840.4+142519</td><td>184.668616855404</td><td>14.4221872353542</td><td>50.374</td><td>nan</td><td>nan</td><td>nan</td><td>nan</td><td>nan</td></tr>\n",
       "<tr><td>CLU J121856.2+142551</td><td>184.734346839582</td><td>14.4309247713878</td><td>50.374</td><td>nan</td><td>nan</td><td>nan</td><td>nan</td><td>719420617.7031802</td></tr>\n",
       "<tr><td>CLU J121847.9+142422</td><td>184.69987120524</td><td>14.4063453816313</td><td>50.374</td><td>nan</td><td>nan</td><td>nan</td><td>nan</td><td>nan</td></tr>\n",
       "<tr><td>CLU J121856.2+142432</td><td>184.734550625138</td><td>14.4091269745053</td><td>50.374</td><td>nan</td><td>nan</td><td>nan</td><td>nan</td><td>nan</td></tr>\n",
       "<tr><td>CLU J121857.4+142518</td><td>184.739372186334</td><td>14.421705562072</td><td>50.374</td><td>nan</td><td>nan</td><td>nan</td><td>nan</td><td>2695149620.934659</td></tr>\n",
       "<tr><td>CLU J121847.7+142408</td><td>184.698999915411</td><td>14.4024453345196</td><td>50.374</td><td>nan</td><td>nan</td><td>nan</td><td>nan</td><td>2138862568.0077255</td></tr>\n",
       "<tr><td>CLU J121841.0+142513</td><td>184.670910238647</td><td>14.4204503526543</td><td>50.374</td><td>nan</td><td>nan</td><td>nan</td><td>nan</td><td>1247908894.018477</td></tr>\n",
       "<tr><td>CLU J121345.8+132600</td><td>183.440857184372</td><td>13.4335828883417</td><td>50.374</td><td>nan</td><td>nan</td><td>nan</td><td>nan</td><td>nan</td></tr>\n",
       "</table></div>"
      ],
      "text/plain": [
       "<Table length=271867>\n",
       "          name                 ra        ...       mstar       \n",
       "                              deg        ...                   \n",
       "        bytes30             float64      ...      float64      \n",
       "----------------------- ---------------- ... ------------------\n",
       " 6dFgs gJ0001313-055904          0.38083 ... 336.60756522868667\n",
       "2MASX J00021772-4345168          0.57383 ... 19468772606.159004\n",
       "2MASX J00022478-5445592          0.60321 ...  14329555096.85143\n",
       "        MRSS 349-063591          0.74187 ... 19799307276.171944\n",
       "2MASX J00030209-3600152          0.75863 ... 25419676830.957485\n",
       "    IRAS F00012-5451 ID         0.948375 ...   494003437.822152\n",
       "        MRSS 349-058718          0.99855 ...  6637583928.644948\n",
       "2MASX J00040601-5134568          1.02517 ... 20121836852.042862\n",
       "2MASX J00042841-5254136          1.11833 ... 15329496516.675985\n",
       "                    ...              ... ...                ...\n",
       "   CLU J121349.1+132547 183.454639944552 ... 1204988438.4884815\n",
       "   CLU J121851.7+142431 184.715824890327 ...                nan\n",
       "   CLU J121840.4+142519 184.668616855404 ...                nan\n",
       "   CLU J121856.2+142551 184.734346839582 ...  719420617.7031802\n",
       "   CLU J121847.9+142422  184.69987120524 ...                nan\n",
       "   CLU J121856.2+142432 184.734550625138 ...                nan\n",
       "   CLU J121857.4+142518 184.739372186334 ...  2695149620.934659\n",
       "   CLU J121847.7+142408 184.698999915411 ... 2138862568.0077255\n",
       "   CLU J121841.0+142513 184.670910238647 ...  1247908894.018477\n",
       "   CLU J121345.8+132600 183.440857184372 ...                nan"
      ]
     },
     "execution_count": 9,
     "metadata": {},
     "output_type": "execute_result"
    }
   ],
   "source": [
    "clu['name','ra','dec','distmpc','a','b2a','magb','sfr_fuv','mstar']"
   ]
  },
  {
   "cell_type": "markdown",
   "metadata": {},
   "source": [
    "'RA'=Right Ascension in degrees <br>\n",
    "'Dec'=Declination in degrees  <br>\n",
    "'MODELMAG_R'=SDSS r-band magnitude  <br>\n",
    "'MODELMAGERR_R'=SDSS r-band magnitude Error  <br>\n",
    "'K_M_K20FE'=2MASS K-band magnitude  <br>\n",
    "'K_MSIG_K20FE'=2MASS K-band magnitude Error  <br>\n",
    "'W1MPRO'=WISE W1 magnitude (3.6 micron)  <br>\n",
    "'W1SIGMPRO'=WISE W1 magnitude Error  <br>"
   ]
  },
  {
   "cell_type": "markdown",
   "metadata": {},
   "source": [
    "### Student Exercise\n",
    "Use the astropy.coordinates package and the SkyCoord function to store all of the galaxy catalog's locations. "
   ]
  },
  {
   "cell_type": "markdown",
   "metadata": {},
   "source": [
    "The astropy coordinates package provides classes for representing a variety of celestial/spatial coordinates and their velocity components, as well as tools for converting between common coordinate systems in a uniform way. In addition, the astropy coordinates package facilitates fast manipulation and cross-matching. See here for examples: https://docs.astropy.org/en/stable/coordinates/\n",
    "\n",
    "Create a coordinate object for the entire CLU catalog (hint: use SkyCoord)."
   ]
  },
  {
   "cell_type": "code",
   "execution_count": 12,
   "metadata": {},
   "outputs": [],
   "source": [
    "clucoord=SkyCoord(ra=clu['ra'],dec=clu['dec'])"
   ]
  },
  {
   "cell_type": "markdown",
   "metadata": {},
   "source": [
    "### GW170817 3D Localization"
   ]
  },
  {
   "cell_type": "markdown",
   "metadata": {},
   "source": [
    "Now let's read in the LIGO/VIRGO HEALpix map for GW170817.\n",
    "\n",
    "LIGO/Virgo localization files for compact binary mergers include directional estimates of distance. The distance information is stored in three additional columns. To get the distance estimates, we need to ask for all four columns: `PROB`, `DISTMU`, `DISTSIGMA`, and `DISTNORM`."
   ]
  },
  {
   "cell_type": "code",
   "execution_count": 13,
   "metadata": {},
   "outputs": [
    {
     "name": "stdout",
     "output_type": "stream",
     "text": [
      "NSIDE = 1024\n",
      "ORDERING = NESTED in fits file\n",
      "INDXSCHM = IMPLICIT\n",
      "Ordering converted to RING\n",
      "Ordering converted to RING\n",
      "Ordering converted to RING\n",
      "Ordering converted to RING\n"
     ]
    }
   ],
   "source": [
    "url = 'https://dcc.ligo.org/public/0146/G1701985/001/preliminary-LALInference.fits.gz'\n",
    "filename = astropy.utils.data.download_file(url)\n",
    "\n",
    "prob, distmu, distsigma, distnorm = hp.read_map(filename, field=[0, 1, 2, 3])\n",
    "\n",
    "npix = len(prob)\n",
    "nside = hp.npix2nside(npix)\n",
    "pixarea = hp.nside2pixarea(nside)"
   ]
  },
  {
   "cell_type": "markdown",
   "metadata": {},
   "source": [
    "`PROB` - cumulative distribution function\n",
    "\n",
    "`DISTMU` - distance location parameter (Mpc)\n",
    "\n",
    "`DISTSIGMA` - distance scale parameter (Mpc)\n",
    "\n",
    "`DISTNORM` - distance normalization factor (Mpc$^{-2}$)"
   ]
  },
  {
   "cell_type": "markdown",
   "metadata": {},
   "source": [
    "### Student Exercise\n",
    "\n",
    "Find the coordinates of the highest probability pixel and put the coordinates into an astropy coordinate object called 'center'"
   ]
  },
  {
   "cell_type": "code",
   "execution_count": 14,
   "metadata": {},
   "outputs": [
    {
     "name": "stdout",
     "output_type": "stream",
     "text": [
      "Coordinates (RA,Dec) = <SkyCoord (ICRS): (ra, dec) in deg\n",
      "    (197.35839844, -25.61308322)>\n"
     ]
    }
   ],
   "source": [
    "ipix_max = np.argmax(prob)\n",
    "ra_max, dec_max = hp.pix2ang(nside, ipix_max, lonlat=True)\n",
    "center = SkyCoord(ra=ra_max*u.deg,dec=dec_max*u.deg)\n",
    "print('Coordinates (RA,Dec) = %s' %(center))"
   ]
  },
  {
   "cell_type": "markdown",
   "metadata": {},
   "source": [
    "### Other plotting packages for LIGO/VIRGO HEALPix maps.\n",
    "\n",
    "There are many visualization packages for plotting HEALPix maps. Luckily, LIGO has taken the time to provide its own user-friendly wrapper for plotting LIGO/VIRGO localizations.\n",
    "\n",
    "Let's plot the sky localization using an 'astroglobe' projection centered on the highest highest probability pixel and overplot this location using the ligo.skymap package. (see here: https://lscsoft.docs.ligo.org/ligo.skymap/ligo/skymap/plot/allsky.html)"
   ]
  },
  {
   "cell_type": "code",
   "execution_count": 15,
   "metadata": {},
   "outputs": [
    {
     "data": {
      "text/plain": [
       "[<matplotlib.lines.Line2D at 0x7f7be1f6e2e8>]"
      ]
     },
     "execution_count": 15,
     "metadata": {},
     "output_type": "execute_result"
    },
    {
     "data": {
      "image/png": "[encoded data removed]",
      "text/plain": [
       "<Figure size 432x288 with 1 Axes>"
      ]
     },
     "metadata": {
      "needs_background": "light"
     },
     "output_type": "display_data"
    }
   ],
   "source": [
    "ax = plt.axes(\n",
    "    [0.05, 0.05, 0.9, 0.9],\n",
    "    projection='astro globe',\n",
    "    center=center)\n",
    "\n",
    "ax.grid()\n",
    "ax.imshow_hpx(filename, cmap='cylon')\n",
    "ax.plot(\n",
    "    center.ra.deg, center.dec.deg,\n",
    "    transform=ax.get_transform('world'),\n",
    "    marker=ligo.skymap.plot.reticle(inner=0,outer=1),\n",
    "    markersize=10,\n",
    "    markeredgewidth=2)"
   ]
  },
  {
   "cell_type": "markdown",
   "metadata": {},
   "source": [
    "### Student Exercises\n",
    "1. Back to the galaxy catalog. Calculate the HEALPix index for each galaxy."
   ]
  },
  {
   "cell_type": "code",
   "execution_count": 16,
   "metadata": {},
   "outputs": [],
   "source": [
    "ipix = hp.ang2pix(nside, clu['ra'].value, clu['dec'].value, lonlat=True)"
   ]
  },
  {
   "cell_type": "markdown",
   "metadata": {},
   "source": [
    "2. Compute the probabilities of each galaxy: per area, per radial distance, and per volume."
   ]
  },
  {
   "cell_type": "code",
   "execution_count": 18,
   "metadata": {},
   "outputs": [],
   "source": [
    "#probability density per area on the sky for each galaxy\n",
    "dp_dA=prob[ipix]/pixarea\n",
    "clu['dP_dA']=dp_dA\n",
    "\n",
    "#probability along radial distance\n",
    "dp_dr=clu['distmpc'].value**2 * distnorm[ipix] * norm(distmu[ipix],distsigma[ipix]).pdf(clu['distmpc'].value)\n",
    "\n",
    "#probability density per volume\n",
    "dp_dV=prob[ipix] * distnorm[ipix] * norm(distmu[ipix],distsigma[ipix]).pdf(clu['distmpc'].value)/pixarea \n",
    "clu['dP_dV']=dp_dV"
   ]
  },
  {
   "cell_type": "markdown",
   "metadata": {},
   "source": [
    "3. Use a normalized cumulative dist function to calculate P-value per area for each galaxy (hint: use np.cumsum)."
   ]
  },
  {
   "cell_type": "code",
   "execution_count": 20,
   "metadata": {},
   "outputs": [
    {
     "name": "stdout",
     "output_type": "stream",
     "text": [
      "# of galaxies in 90% Area = 944\n",
      "            name                   dP_dA                 P_A         \n",
      "---------------------------- ------------------ ---------------------\n",
      "     2MASX J13085466-2526013  328.4708057481784 0.0071467533219292945\n",
      "     2MASX J13085215-2530351 325.23540442145713   0.01422311190930417\n",
      "     2MASX J13105449-2605323 313.15080651412734  0.021036538026800423\n",
      "              ESO 508- G 016 312.78382586238115   0.02784197950716591\n",
      "     2MASX J13113020-2619386 300.98559528753657   0.03439071919827618\n",
      "     2MASX J13121111-2639115 285.19998707962714   0.04059600112716134\n",
      "GALEXASC J131215.12-264630.4   282.127096965202   0.04673442418381531\n",
      "              ESO 508- G 025  276.5933656229848  0.052752446242387965\n",
      "     2MASX J13120748-2630035  272.9284251884063  0.058690727804188506\n",
      "              ESO 508- G 003 260.04855554117916    0.0643487736507398\n",
      "     2MASX J13123929-2642121  257.9949138461368   0.06996213707696862\n",
      "     2MASX J13121969-2633515    257.30556126262   0.07556050180991936\n",
      "     2MASX J13124243-2721202 249.64494387777017   0.08099218949947654\n",
      "     2MASS J13122568-2628206 247.63513389002884   0.08638014844372369\n",
      "     2MASX J13132823-2713540 245.78170307672855    0.0917277810862414\n",
      "     2MASX J13111030-2655596  239.4362886006441    0.0969373524119164\n",
      "     2MASX J13060489-2351582 237.55153732271935   0.10210591597610758\n",
      "                    UGCA 325  233.4818867376859   0.10718593350111141\n",
      "GALEXASC J130635.11-244315.5 232.85121160651062   0.11225222901639655\n",
      "     2MASS J13053806-2346583 228.22178389917568    0.1172177990569453\n"
     ]
    }
   ],
   "source": [
    "clu.sort('dP_dA')\n",
    "clu.reverse()\n",
    "cum_sort=np.cumsum(clu['dP_dA'])\n",
    "cumnorm_sort=cum_sort/np.max(cum_sort)\n",
    "clu['P_A']=cumnorm_sort\n",
    "\n",
    "#ID galaxies inside the 90% prob by volume\n",
    "icutarea90=np.where(clu['P_A'] <= 0.9)\n",
    "clucutarea90=clu[icutarea90]\n",
    "\n",
    "#generate astropy coordinate object for this sample\n",
    "clucutarea90coord=SkyCoord(ra=clucutarea90['ra'],dec=clucutarea90['dec'])\n",
    "\n",
    "print('# of galaxies in 90%% Area = %i' %(np.size(icutarea90)))\n",
    "\n",
    "#sort the galaxies by P-value and print out top 20\n",
    "clucutarea90['name','dP_dA','P_A'][0:20].pprint(max_lines=22)"
   ]
  },
  {
   "cell_type": "markdown",
   "metadata": {},
   "source": [
    "### Plot the top 20 highest probability galaxies and add a zoomed-in inset."
   ]
  },
  {
   "cell_type": "code",
   "execution_count": 21,
   "metadata": {},
   "outputs": [
    {
     "data": {
      "image/png": "[encoded data removed]",
      "text/plain": [
       "<Figure size 432x288 with 2 Axes>"
      ]
     },
     "metadata": {
      "needs_background": "light"
     },
     "output_type": "display_data"
    }
   ],
   "source": [
    "ax = plt.axes(\n",
    "    [0.05, 0.05, 0.9, 0.9],\n",
    "    projection='astro globe',\n",
    "    center=center)\n",
    "\n",
    "#Zoomed-in inset window to better view the locations of the galaxies.\n",
    "ax_inset = plt.axes(\n",
    "    [0.59, 0.3, 0.4, 0.4],\n",
    "    projection='astro zoom',\n",
    "    center=center,\n",
    "    radius=15*u.deg)\n",
    "for key in ['ra', 'dec']:\n",
    "    ax_inset.coords[key].set_ticklabel_visible(False)\n",
    "    ax_inset.coords[key].set_ticks_visible(False)\n",
    "ax.grid()\n",
    "ax.mark_inset_axes(ax_inset)\n",
    "ax.connect_inset_axes(ax_inset, 'upper left')\n",
    "ax.connect_inset_axes(ax_inset, 'lower left')\n",
    "ax_inset.scalebar((0.1, 0.1), 5 * u.deg).label()\n",
    "ax_inset.compass(0.9, 0.1, 0.2)\n",
    "\n",
    "ax.imshow_hpx('data/GW170817_prelim.fits.gz', cmap='cylon')\n",
    "ax_inset.imshow_hpx('data/GW170817_prelim.fits.gz', cmap='cylon')\n",
    "\n",
    "for coord in clucutarea90coord:\n",
    "    ax_inset.plot(\n",
    "    coord.ra.deg, coord.dec.deg,\n",
    "    transform=ax_inset.get_transform('world'),\n",
    "    marker=ligo.skymap.plot.reticle(inner=0,outer=1),\n",
    "    markersize=10,\n",
    "    markeredgewidth=1)\n",
    "\n",
    "plt.show()"
   ]
  },
  {
   "cell_type": "markdown",
   "metadata": {},
   "source": [
    "## Exercise for students - Put it all Together...\n",
    "\n",
    "Following the examples above, find galaxies in 90% __VOLUME__ probability contour for GW170817, sort by Wise W1 luminosity, and overplot the top 20 sorted galaxies.\n",
    "\n",
    "Information on WISE zeropoints and flux transformations\n",
    "http://wise2.ipac.caltech.edu/docs/release/allsky/expsup/sec4_4h.html"
   ]
  },
  {
   "cell_type": "markdown",
   "metadata": {},
   "source": [
    "### Part I - Find the galaxies in the 90% volumne probability"
   ]
  },
  {
   "cell_type": "code",
   "execution_count": 23,
   "metadata": {},
   "outputs": [
    {
     "name": "stdout",
     "output_type": "stream",
     "text": [
      "NSIDE = 1024\n",
      "ORDERING = NESTED in fits file\n",
      "INDXSCHM = IMPLICIT\n",
      "Ordering converted to RING\n",
      "Ordering converted to RING\n",
      "Ordering converted to RING\n",
      "Ordering converted to RING\n",
      "<SkyCoord (ICRS): (ra, dec) in deg\n",
      "    (197.35839844, -25.61308322)>\n",
      "# of galaxies in 90% volume = 38\n"
     ]
    }
   ],
   "source": [
    "#load in CLU catalog\n",
    "clu=Table.read('data/CLU.hdf5')\n",
    "clucoord=SkyCoord(ra=clu['ra'],dec=clu['dec'])\n",
    "nclu=np.size(clu)\n",
    "\n",
    "#make astropy coordinate object of CLU galaxies\n",
    "clucoord=SkyCoord(ra=clu['ra'],dec=clu['dec'])\n",
    "\n",
    "#sky localization colmns to the galaxy catalog: probability density and p-value per volume and per area.\n",
    "probdencol=Column(np.zeros(nclu,dtype='f4'),name='dP_dV')\n",
    "probcol=Column(np.zeros(nclu,dtype='f4'),name='P')\n",
    "probdenAcol=Column(np.zeros(nclu,dtype='f4'),name='dP_dA')\n",
    "probAcol=Column(np.zeros(nclu,dtype='f4'),name='P_A')\n",
    "clu.add_columns([probdencol,probcol,probdenAcol,probAcol])\n",
    "\n",
    "#load in healpix map\n",
    "prob,distmu,distsigma,distnorm=hp.read_map('data/GW170817_prelim.fits.gz',field=[0,1,2,3],dtype=('f8','f8','f8','f8'))\n",
    "npix=len(prob)\n",
    "nside=hp.npix2nside(npix)\n",
    "pixarea=hp.nside2pixarea(nside)\n",
    "\n",
    "#get coord of max prob density for plotting purposes\n",
    "ipix_max = np.argmax(prob)\n",
    "theta_max, phi_max = hp.pix2ang(nside, ipix_max)\n",
    "ra_max = np.rad2deg(phi_max)\n",
    "dec_max = np.rad2deg(0.5 * np.pi - theta_max)\n",
    "center = SkyCoord(ra=ra_max*u.deg,dec=dec_max*u.deg)\n",
    "print(center)\n",
    "\n",
    "#calc hp index for each galaxy and populate CLU Table with the values\n",
    "theta=0.5 * np.pi - clucoord.dec.to('rad').value\n",
    "phi=clucoord.ra.to('rad').value\n",
    "ipix=hp.ang2pix(nside,theta,phi)\n",
    "#calc probability density per volume for each galaxy\n",
    "dp_dV=prob[ipix] * distnorm[ipix] * norm(distmu[ipix],distsigma[ipix]).pdf(clu['distmpc'])/pixarea \n",
    "clu['dP_dV']=dp_dV\n",
    "\n",
    "#use normalized cumulative dist function to calculate Volume P-value for each galaxy\n",
    "clu.sort('dP_dV')\n",
    "clu.reverse()\n",
    "cum_sort=np.cumsum(clu['dP_dV'])\n",
    "cumnorm_sort=cum_sort/np.max(cum_sort)\n",
    "clu['P']=cumnorm_sort\n",
    "\n",
    "#ID galaxies inside the 90% prob by volume\n",
    "icut90=np.where(clu['P'] <= 0.9)\n",
    "clucut90=clu[icut90]\n",
    "\n",
    "#generate an astropy coordinate object for this subset\n",
    "clucut90coord=SkyCoord(ra=clucut90['ra'],dec=clucut90['dec'])\n",
    "\n",
    "print('# of galaxies in 90%% volume = %i' %(np.size(clucut90)))\n",
    "\n"
   ]
  },
  {
   "cell_type": "markdown",
   "metadata": {},
   "source": [
    "Q: Why are there so fewer galaxies in the volumne probability?\n",
    "A: Taking into account distance puts tighter constraints on the sample."
   ]
  },
  {
   "cell_type": "markdown",
   "metadata": {},
   "source": [
    "Part II - Sort by Stellar Mass"
   ]
  },
  {
   "cell_type": "code",
   "execution_count": 24,
   "metadata": {},
   "outputs": [
    {
     "name": "stdout",
     "output_type": "stream",
     "text": [
      "            name                   mstar        ...          P         \n",
      "---------------------------- ------------------ ... -------------------\n",
      "GALEXMSC J132152.52-312233.6                nan ...  0.8659323537237527\n",
      "                    NGC 4970  22111885147.36046 ...  0.4054957389550534\n",
      "                    NGC 4830  19691036859.45966 ...  0.8179830893324261\n",
      "                     IC 4197 19393166571.432167 ...  0.7578613837256465\n",
      "                    NGC 4993  17683346320.92309 ...  0.7829165242624563\n",
      "                    NGC 4968 16779785547.729984 ...   0.294926035603021\n",
      "                    NGC 5048  15272176898.57502 ...  0.6902558637380628\n",
      "                     IC 4180  14101524009.45723 ...  0.2141998536668124\n",
      "              ESO 508- G 033   9224537312.57565 ...  0.8064365544422254\n",
      "                     IC 0874  7289035203.022445 ...  0.8856973740297853\n",
      "              ESO 508- G 010  3315838711.838766 ...  0.7303499457682924\n",
      "     2MASX J13161781-2926415 2547607640.1172214 ...  0.8955061187038942\n",
      "              ESO 575- G 053 1824750054.4653382 ...   0.642449816622232\n",
      "                    UGCA 331  1430506998.952172 ...  0.7948386385857857\n",
      "              ESO 575- G 055 1120336563.6583722 ...  0.8735563482422554\n",
      "              ESO 508- G 003 1096858316.5363777 ... 0.06766519833876744\n",
      "              ESO 508- G 019  851442037.1358204 ...  0.4702459591634731\n",
      "     2MASX J13073768-2356181  794524862.0575469 ...  0.8386752932258625\n",
      "                 2MFGC 10461  753342021.5723574 ...   0.615123399222977\n",
      "                 2MFGC 10484  689734795.8673995 ...  0.5594090357073954\n"
     ]
    }
   ],
   "source": [
    "#sort by galaxy stellar mass\n",
    "clucut90.sort('mstar')\n",
    "clucut90.reverse()\n",
    "\n",
    "#then print list of prioritized galaxies\n",
    "clucut90['name','mstar','dP_dV','P'][0:20].pprint(max_lines=22)\n",
    "\n",
    "\n",
    "#Q: Is NGC4993 in your list?\n",
    "#A: It should be #5"
   ]
  },
  {
   "cell_type": "markdown",
   "metadata": {},
   "source": [
    "### Part III - Plot up the sky localization and overplot the top 20 sorted galaxies on it."
   ]
  },
  {
   "cell_type": "code",
   "execution_count": 25,
   "metadata": {},
   "outputs": [
    {
     "data": {
      "image/png": "[encoded data removed]",
      "text/plain": [
       "<Figure size 432x288 with 2 Axes>"
      ]
     },
     "metadata": {
      "needs_background": "light"
     },
     "output_type": "display_data"
    }
   ],
   "source": [
    "#plot up the sky localization and overplot the galaxies\n",
    "ax = plt.axes(\n",
    "    [0.05, 0.05, 0.9, 0.9],\n",
    "    projection='astro globe',\n",
    "    center=center)\n",
    "\n",
    "ax_inset = plt.axes(\n",
    "    [0.59, 0.3, 0.4, 0.4],\n",
    "    projection='astro zoom',\n",
    "    center=center,\n",
    "    radius=10*u.deg)\n",
    "\n",
    "for key in ['ra', 'dec']:\n",
    "    ax_inset.coords[key].set_ticklabel_visible(False)\n",
    "    ax_inset.coords[key].set_ticks_visible(False)\n",
    "ax.grid()\n",
    "ax.mark_inset_axes(ax_inset)\n",
    "ax.connect_inset_axes(ax_inset, 'upper left')\n",
    "ax.connect_inset_axes(ax_inset, 'lower left')\n",
    "ax_inset.scalebar((0.1, 0.1), 5 * u.deg).label()\n",
    "ax_inset.compass(0.9, 0.1, 0.2)\n",
    "\n",
    "ax.imshow_hpx('data/GW170817_prelim.fits.gz', cmap='cylon')\n",
    "ax_inset.imshow_hpx('data/GW170817_prelim.fits.gz', cmap='cylon')\n",
    "for coord in clucut90coord:\n",
    "    ax_inset.plot(\n",
    "    coord.ra.deg, coord.dec.deg,\n",
    "    transform=ax_inset.get_transform('world'),\n",
    "    marker=ligo.skymap.plot.reticle(inner=0,outer=1),\n",
    "    markersize=10,\n",
    "    markeredgewidth=1)\n",
    "\n",
    "#where is NGC4993? hint: use ax_inset.text()\n",
    "c4993=SkyCoord.from_name('NGC 4993')\n",
    "ax_inset.text(c4993.ra.deg+10.5, c4993.dec.deg,'NGC 4993',transform=ax_inset.get_transform('world'),fontdict={'size':10,'color':'black','weight':'normal'})\n",
    "\n",
    "plt.show()"
   ]
  },
  {
   "cell_type": "code",
   "execution_count": null,
   "metadata": {},
   "outputs": [],
   "source": []
  }
 ],
 "metadata": {
  "kernelspec": {
   "display_name": "Python 3",
   "language": "python",
   "name": "python3"
  },
  "language_info": {
   "codemirror_mode": {
    "name": "ipython",
    "version": 3
   },
   "file_extension": ".py",
   "mimetype": "text/x-python",
   "name": "python",
   "nbconvert_exporter": "python",
   "pygments_lexer": "ipython3",
   "version": "3.7.3"
  }
 },
 "nbformat": 4,
 "nbformat_minor": 2
}
